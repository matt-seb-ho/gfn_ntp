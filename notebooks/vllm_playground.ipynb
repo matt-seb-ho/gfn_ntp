{
 "cells": [
  {
   "cell_type": "markdown",
   "metadata": {},
   "source": [
    "## learning vllm probability"
   ]
  },
  {
   "cell_type": "code",
   "execution_count": 1,
   "metadata": {},
   "outputs": [
    {
     "name": "stderr",
     "output_type": "stream",
     "text": [
      "/opt/conda/envs/gfn/lib/python3.10/site-packages/tqdm/auto.py:21: TqdmWarning: IProgress not found. Please update jupyter and ipywidgets. See https://ipywidgets.readthedocs.io/en/stable/user_install.html\n",
      "  from .autonotebook import tqdm as notebook_tqdm\n",
      "2024-08-27 05:57:27,615\tINFO util.py:154 -- Missing packages: ['ipywidgets']. Run `pip install -U ipywidgets`, then restart the notebook server for rich notebook output.\n"
     ]
    }
   ],
   "source": [
    "from vllm import LLM, SamplingParams"
   ]
  },
  {
   "cell_type": "code",
   "execution_count": 2,
   "metadata": {},
   "outputs": [],
   "source": [
    "# small model for testing\n",
    "# model_id = \"internlm/internlm2_5-1_8b\"\n",
    "model_id = \"microsoft/Phi-3.5-mini-instruct\""
   ]
  },
  {
   "cell_type": "code",
   "execution_count": 5,
   "metadata": {},
   "outputs": [
    {
     "name": "stdout",
     "output_type": "stream",
     "text": [
      "INFO 08-27 03:17:31 llm_engine.py:184] Initializing an LLM engine (v0.5.5) with config: model='microsoft/Phi-3.5-mini-instruct', speculative_config=None, tokenizer='microsoft/Phi-3.5-mini-instruct', skip_tokenizer_init=False, tokenizer_mode=auto, revision=None, rope_scaling=None, rope_theta=None, tokenizer_revision=None, trust_remote_code=False, dtype=torch.bfloat16, max_seq_len=4096, download_dir=None, load_format=LoadFormat.AUTO, tensor_parallel_size=1, pipeline_parallel_size=1, disable_custom_all_reduce=False, quantization=None, enforce_eager=False, kv_cache_dtype=auto, quantization_param_path=None, device_config=cuda, decoding_config=DecodingConfig(guided_decoding_backend='outlines'), observability_config=ObservabilityConfig(otlp_traces_endpoint=None, collect_model_forward_time=False, collect_model_execute_time=False), seed=0, served_model_name=microsoft/Phi-3.5-mini-instruct, use_v2_block_manager=False, enable_prefix_caching=False)\n"
     ]
    },
    {
     "name": "stdout",
     "output_type": "stream",
     "text": [
      "INFO 08-27 03:17:34 selector.py:236] Cannot use FlashAttention-2 backend due to sliding window.\n",
      "INFO 08-27 03:17:34 selector.py:116] Using XFormers backend.\n"
     ]
    },
    {
     "name": "stderr",
     "output_type": "stream",
     "text": [
      "/opt/conda/envs/gfn/lib/python3.10/site-packages/xformers/ops/fmha/flash.py:211: FutureWarning: `torch.library.impl_abstract` was renamed to `torch.library.register_fake`. Please use that instead; we will remove `torch.library.impl_abstract` in a future version of PyTorch.\n",
      "  @torch.library.impl_abstract(\"xformers_flash::flash_fwd\")\n",
      "/opt/conda/envs/gfn/lib/python3.10/site-packages/xformers/ops/fmha/flash.py:344: FutureWarning: `torch.library.impl_abstract` was renamed to `torch.library.register_fake`. Please use that instead; we will remove `torch.library.impl_abstract` in a future version of PyTorch.\n",
      "  @torch.library.impl_abstract(\"xformers_flash::flash_bwd\")\n"
     ]
    },
    {
     "name": "stdout",
     "output_type": "stream",
     "text": [
      "INFO 08-27 03:17:46 model_runner.py:879] Starting to load model microsoft/Phi-3.5-mini-instruct...\n",
      "INFO 08-27 03:17:46 selector.py:236] Cannot use FlashAttention-2 backend due to sliding window.\n",
      "INFO 08-27 03:17:46 selector.py:116] Using XFormers backend.\n",
      "INFO 08-27 03:17:46 weight_utils.py:236] Using model weights format ['*.safetensors']\n"
     ]
    },
    {
     "name": "stderr",
     "output_type": "stream",
     "text": [
      "Loading safetensors checkpoint shards:   0% Completed | 0/2 [00:00<?, ?it/s]\n",
      "Loading safetensors checkpoint shards:  50% Completed | 1/2 [00:01<00:01,  1.27s/it]\n",
      "Loading safetensors checkpoint shards: 100% Completed | 2/2 [00:02<00:00,  1.02it/s]\n",
      "Loading safetensors checkpoint shards: 100% Completed | 2/2 [00:02<00:00,  1.02s/it]\n",
      "\n"
     ]
    },
    {
     "name": "stdout",
     "output_type": "stream",
     "text": [
      "INFO 08-27 03:17:49 model_runner.py:890] Loading model weights took 7.1659 GB\n",
      "INFO 08-27 03:17:50 gpu_executor.py:121] # GPU blocks: 4726, # CPU blocks: 682\n",
      "INFO 08-27 03:17:52 model_runner.py:1181] Capturing the model for CUDA graphs. This may lead to unexpected consequences if the model is not static. To run the model in eager mode, set 'enforce_eager=True' or use '--enforce-eager' in the CLI.\n",
      "INFO 08-27 03:17:52 model_runner.py:1185] CUDA graphs can take additional 1~3 GiB memory per GPU. If you are running out of memory, consider decreasing `gpu_memory_utilization` or enforcing eager mode. You can also reduce the `max_num_seqs` as needed to decrease memory usage.\n",
      "INFO 08-27 03:18:09 model_runner.py:1300] Graph capturing finished in 17 secs.\n"
     ]
    }
   ],
   "source": [
    "llm = LLM(model=model_id, max_model_len=4096)"
   ]
  },
  {
   "cell_type": "code",
   "execution_count": 14,
   "metadata": {},
   "outputs": [],
   "source": [
    "sampling_params = SamplingParams(\n",
    "    n=5,\n",
    "    temperature=0.5,\n",
    "    max_tokens=128,\n",
    "    logprobs=True,\n",
    "    prompt_logprobs=True,\n",
    ")"
   ]
  },
  {
   "cell_type": "code",
   "execution_count": 15,
   "metadata": {},
   "outputs": [
    {
     "name": "stderr",
     "output_type": "stream",
     "text": [
      "Processed prompts: 100%|██████████| 1/1 [00:01<00:00,  1.54s/it, est. speed input: 3.90 toks/s, output: 415.52 toks/s]\n"
     ]
    }
   ],
   "source": [
    "res = llm.generate(\"Why is the sky blue?\", sampling_params)"
   ]
  },
  {
   "cell_type": "code",
   "execution_count": 22,
   "metadata": {},
   "outputs": [
    {
     "data": {
      "text/plain": [
       "list"
      ]
     },
     "execution_count": 22,
     "metadata": {},
     "output_type": "execute_result"
    }
   ],
   "source": [
    "type(res)"
   ]
  },
  {
   "cell_type": "code",
   "execution_count": 16,
   "metadata": {},
   "outputs": [
    {
     "data": {
      "text/plain": [
       "{'request_id': '1',\n",
       " 'prompt': 'Why is the sky blue?',\n",
       " 'prompt_token_ids': [3750, 338, 278, 14744, 7254, 29973],\n",
       " 'prompt_logprobs': [None,\n",
       "  {338: Logprob(logprob=-0.47433942556381226, rank=1, decoded_token=' is')},\n",
       "  {278: Logprob(logprob=-2.1421403884887695, rank=2, decoded_token=' the'),\n",
       "   372: Logprob(logprob=-0.14214037358760834, rank=1, decoded_token=' it')},\n",
       "  {14744: Logprob(logprob=-3.9101552963256836, rank=10, decoded_token=' sky'),\n",
       "   421: Logprob(logprob=-2.4101552963256836, rank=1, decoded_token=' `')},\n",
       "  {7254: Logprob(logprob=-0.00018344627460464835, rank=1, decoded_token=' blue')},\n",
       "  {29973: Logprob(logprob=-0.0371180921792984, rank=1, decoded_token='?')}],\n",
       " 'outputs': [CompletionOutput(index=3, text=\"\\n\\n# Answer\\nThe sky appears blue due to a phenomenon called Rayleigh scattering. This occurs when molecules and small particles in the Earth's atmosphere scatter sunlight in all directions. Sunlight is made up of different colors, which have different wavelengths. Blue light has a shorter wavelength and is scattered more than other colors because it travels as shorter, smaller waves. This scattering causes the sky to look blue in our daytime sky. During sunrise and sunset, the sky can appear red or orange because the light path through the atmosphere is longer, which means more blue\", token_ids=array('l', [13, 13, 29937, 673, 13, 1576, 14744, 5692, 7254, 2861, 304, 263, 27791, 265, 2000, 9596, 280, 1141, 14801, 292, 29889, 910, 10008, 746, 13206, 21337, 322, 2319, 17105, 297, 278, 11563, 29915, 29879, 25005, 14801, 6575, 4366, 297, 599, 18112, 29889, 8991, 4366, 338, 1754, 701, 310, 1422, 11955, 29892, 607, 505, 1422, 281, 6447, 1477, 29879, 29889, 10924, 3578, 756, 263, 20511, 281, 6447, 1477, 322, 338, 29574, 901, 1135, 916, 11955, 1363, 372, 9850, 29879, 408, 20511, 29892, 7968, 20037, 29889, 910, 14801, 292, 9946, 278, 14744, 304, 1106, 7254, 297, 1749, 2462, 2230, 14744, 29889, 7133, 6575, 29878, 895, 322, 6575, 842, 29892, 278, 14744, 508, 2615, 2654, 470, 24841, 1363, 278, 3578, 2224, 1549, 278, 25005, 338, 5520, 29892, 607, 2794, 901, 7254]), cumulative_logprob=-25.658500007290222, logprobs=[{13: Logprob(logprob=-0.5548060536384583, rank=1, decoded_token='\\n')}, {13: Logprob(logprob=-0.007244863081723452, rank=1, decoded_token='\\n')}, {29937: Logprob(logprob=-0.21312901377677917, rank=1, decoded_token='#')}, {673: Logprob(logprob=-0.0005565524916164577, rank=1, decoded_token=' Answer')}, {13: Logprob(logprob=-0.001105769770219922, rank=1, decoded_token='\\n')}, {1576: Logprob(logprob=-0.0003357561945449561, rank=1, decoded_token='The')}, {14744: Logprob(logprob=-0.00025567124248482287, rank=1, decoded_token=' sky')}, {5692: Logprob(logprob=-0.0009177286992780864, rank=1, decoded_token=' appears')}, {7254: Logprob(logprob=0.0, rank=1, decoded_token=' blue')}, {2861: Logprob(logprob=-0.4813370704650879, rank=1, decoded_token=' due')}, {304: Logprob(logprob=-3.576278118089249e-07, rank=1, decoded_token=' to')}, {263: Logprob(logprob=-0.004154385533183813, rank=1, decoded_token=' a')}, {27791: Logprob(logprob=-0.0015481640584766865, rank=1, decoded_token=' phenomen')}, {265: Logprob(logprob=0.0, rank=1, decoded_token='on')}, {2000: Logprob(logprob=-0.004078404977917671, rank=1, decoded_token=' called')}, {9596: Logprob(logprob=0.0, rank=1, decoded_token=' Ray')}, {280: Logprob(logprob=0.0, rank=1, decoded_token='le')}, {1141: Logprob(logprob=0.0, rank=1, decoded_token='igh')}, {14801: Logprob(logprob=-4.541770613286644e-05, rank=1, decoded_token=' scatter')}, {292: Logprob(logprob=0.0, rank=1, decoded_token='ing')}, {29889: Logprob(logprob=-6.198863957251888e-06, rank=1, decoded_token='.')}, {910: Logprob(logprob=-0.43888843059539795, rank=1, decoded_token=' This')}, {10008: Logprob(logprob=-0.3569125831127167, rank=1, decoded_token=' occurs')}, {746: Logprob(logprob=-0.04859130457043648, rank=1, decoded_token=' when')}, {13206: Logprob(logprob=-0.733735978603363, rank=1, decoded_token=' mole'), 6575: Logprob(logprob=-0.733735978603363, rank=1, decoded_token=' sun')}, {21337: Logprob(logprob=0.0, rank=1, decoded_token='cules')}, {322: Logprob(logprob=-0.0002790300059132278, rank=1, decoded_token=' and')}, {2319: Logprob(logprob=-0.0009390473715029657, rank=1, decoded_token=' small')}, {17105: Logprob(logprob=-3.576278118089249e-07, rank=1, decoded_token=' particles')}, {297: Logprob(logprob=-4.768370445162873e-07, rank=1, decoded_token=' in')}, {278: Logprob(logprob=-0.07888985425233841, rank=1, decoded_token=' the')}, {11563: Logprob(logprob=-0.0015046000480651855, rank=1, decoded_token=' Earth')}, {29915: Logprob(logprob=-7.486063259420916e-05, rank=1, decoded_token=\"'\")}, {29879: Logprob(logprob=0.0, rank=1, decoded_token='s')}, {25005: Logprob(logprob=0.0, rank=1, decoded_token=' atmosphere')}, {14801: Logprob(logprob=-6.794906312279636e-06, rank=1, decoded_token=' scatter')}, {6575: Logprob(logprob=-0.0005459486856125295, rank=1, decoded_token=' sun')}, {4366: Logprob(logprob=0.0, rank=1, decoded_token='light')}, {297: Logprob(logprob=-0.01116987969726324, rank=1, decoded_token=' in')}, {599: Logprob(logprob=-0.0015487592900171876, rank=1, decoded_token=' all')}, {18112: Logprob(logprob=0.0, rank=1, decoded_token=' directions')}, {29889: Logprob(logprob=-5.566918844124302e-05, rank=1, decoded_token='.')}, {8991: Logprob(logprob=-1.3752977848052979, rank=2, decoded_token=' Sun'), 10924: Logprob(logprob=-0.37529781460762024, rank=1, decoded_token=' Blue')}, {4366: Logprob(logprob=0.0, rank=1, decoded_token='light')}, {338: Logprob(logprob=-0.009251109324395657, rank=1, decoded_token=' is')}, {1754: Logprob(logprob=-0.4741291403770447, rank=1, decoded_token=' made')}, {701: Logprob(logprob=-1.0132738680113107e-05, rank=1, decoded_token=' up')}, {310: Logprob(logprob=0.0, rank=1, decoded_token=' of')}, {1422: Logprob(logprob=-0.10393701493740082, rank=1, decoded_token=' different')}, {11955: Logprob(logprob=-2.062299427052494e-05, rank=1, decoded_token=' colors')}, {29892: Logprob(logprob=-0.14972898364067078, rank=1, decoded_token=',')}, {607: Logprob(logprob=-0.20255523920059204, rank=1, decoded_token=' which')}, {505: Logprob(logprob=-2.2803380489349365, rank=3, decoded_token=' have'), 3928: Logprob(logprob=-0.7803381085395813, rank=1, decoded_token=' correspond')}, {1422: Logprob(logprob=-0.15402792394161224, rank=1, decoded_token=' different')}, {281: Logprob(logprob=-1.6689286894688848e-06, rank=1, decoded_token=' w')}, {6447: Logprob(logprob=0.0, rank=1, decoded_token='avel')}, {1477: Logprob(logprob=0.0, rank=1, decoded_token='ength')}, {29879: Logprob(logprob=0.0, rank=1, decoded_token='s')}, {29889: Logprob(logprob=-3.981510963058099e-05, rank=1, decoded_token='.')}, {10924: Logprob(logprob=-0.1277618110179901, rank=1, decoded_token=' Blue')}, {3578: Logprob(logprob=-2.7418097943154862e-06, rank=1, decoded_token=' light')}, {756: Logprob(logprob=-0.0001805857609724626, rank=1, decoded_token=' has')}, {263: Logprob(logprob=-0.0015046000480651855, rank=1, decoded_token=' a')}, {20511: Logprob(logprob=-1.1920928244535389e-07, rank=1, decoded_token=' shorter')}, {281: Logprob(logprob=-0.048907049000263214, rank=1, decoded_token=' w')}, {6447: Logprob(logprob=0.0, rank=1, decoded_token='avel')}, {1477: Logprob(logprob=0.0, rank=1, decoded_token='ength')}, {322: Logprob(logprob=-0.005853297654539347, rank=1, decoded_token=' and')}, {338: Logprob(logprob=-0.0012269833823665977, rank=1, decoded_token=' is')}, {29574: Logprob(logprob=-0.00012420836719684303, rank=1, decoded_token=' scattered')}, {901: Logprob(logprob=-0.003974278457462788, rank=1, decoded_token=' more')}, {1135: Logprob(logprob=-0.13681082427501678, rank=1, decoded_token=' than')}, {916: Logprob(logprob=-0.0009137984015978873, rank=1, decoded_token=' other')}, {11955: Logprob(logprob=-0.0002047805901383981, rank=1, decoded_token=' colors')}, {1363: Logprob(logprob=-0.00692195538431406, rank=1, decoded_token=' because')}, {372: Logprob(logprob=-0.00016830935783218592, rank=1, decoded_token=' it')}, {9850: Logprob(logprob=-0.0043580797500908375, rank=1, decoded_token=' travel')}, {29879: Logprob(logprob=0.0, rank=1, decoded_token='s')}, {408: Logprob(logprob=-0.0789617970585823, rank=1, decoded_token=' as')}, {20511: Logprob(logprob=-0.01104797888547182, rank=1, decoded_token=' shorter')}, {29892: Logprob(logprob=0.0, rank=1, decoded_token=',')}, {7968: Logprob(logprob=0.0, rank=1, decoded_token=' smaller')}, {20037: Logprob(logprob=-0.0001250427303602919, rank=1, decoded_token=' waves')}, {29889: Logprob(logprob=-3.373566141817719e-05, rank=1, decoded_token='.')}, {910: Logprob(logprob=-1.1900256872177124, rank=2, decoded_token=' This'), 1932: Logprob(logprob=-0.6900256872177124, rank=1, decoded_token=' When')}, {14801: Logprob(logprob=-0.4078463017940521, rank=1, decoded_token=' scatter')}, {292: Logprob(logprob=-5.960462772236497e-07, rank=1, decoded_token='ing')}, {9946: Logprob(logprob=-0.008556017652153969, rank=1, decoded_token=' causes')}, {278: Logprob(logprob=-0.0034633437171578407, rank=1, decoded_token=' the')}, {14744: Logprob(logprob=-1.314157247543335, rank=2, decoded_token=' sky'), 7254: Logprob(logprob=-0.31415730714797974, rank=1, decoded_token=' blue')}, {304: Logprob(logprob=-1.7881377516459906e-06, rank=1, decoded_token=' to')}, {1106: Logprob(logprob=-0.1273348331451416, rank=1, decoded_token=' look')}, {7254: Logprob(logprob=-2.8490614567999728e-05, rank=1, decoded_token=' blue')}, {297: Logprob(logprob=-0.5838068127632141, rank=1, decoded_token=' in')}, {1749: Logprob(logprob=-0.4523019790649414, rank=1, decoded_token=' our')}, {2462: Logprob(logprob=-0.24752070009708405, rank=1, decoded_token=' day')}, {2230: Logprob(logprob=-0.007621733006089926, rank=1, decoded_token='time')}, {14744: Logprob(logprob=-0.7771252393722534, rank=1, decoded_token=' sky'), 1776: Logprob(logprob=-0.7771252393722534, rank=1, decoded_token=' view')}, {29889: Logprob(logprob=-0.21053937077522278, rank=1, decoded_token='.')}, {7133: Logprob(logprob=-0.8807985782623291, rank=1, decoded_token=' During'), 1932: Logprob(logprob=-0.8807985782623291, rank=1, decoded_token=' When')}, {6575: Logprob(logprob=-8.34461570775602e-06, rank=1, decoded_token=' sun')}, {29878: Logprob(logprob=-0.0005719218170270324, rank=1, decoded_token='r')}, {895: Logprob(logprob=0.0, rank=1, decoded_token='ise')}, {322: Logprob(logprob=-0.018149960786104202, rank=1, decoded_token=' and')}, {6575: Logprob(logprob=0.0, rank=1, decoded_token=' sun')}, {842: Logprob(logprob=-4.768370445162873e-07, rank=1, decoded_token='set')}, {29892: Logprob(logprob=-2.7418097943154862e-06, rank=1, decoded_token=',')}, {278: Logprob(logprob=-0.01828504540026188, rank=1, decoded_token=' the')}, {14744: Logprob(logprob=-0.06596850603818893, rank=1, decoded_token=' sky')}, {508: Logprob(logprob=-0.5707978010177612, rank=1, decoded_token=' can')}, {2615: Logprob(logprob=-0.3174828588962555, rank=1, decoded_token=' appear')}, {2654: Logprob(logprob=-0.00564267672598362, rank=1, decoded_token=' red')}, {470: Logprob(logprob=-0.019575266167521477, rank=1, decoded_token=' or')}, {24841: Logprob(logprob=-2.825220326485578e-05, rank=1, decoded_token=' orange')}, {1363: Logprob(logprob=-0.04286675527691841, rank=1, decoded_token=' because')}, {278: Logprob(logprob=-7.033323527139146e-06, rank=1, decoded_token=' the')}, {3578: Logprob(logprob=-2.1272568702697754, rank=2, decoded_token=' light'), 6575: Logprob(logprob=-0.12725695967674255, rank=1, decoded_token=' sun')}, {2224: Logprob(logprob=-1.7487620115280151, rank=2, decoded_token=' path'), 756: Logprob(logprob=-0.24876196682453156, rank=1, decoded_token=' has')}, {1549: Logprob(logprob=-0.0002300474588992074, rank=1, decoded_token=' through')}, {278: Logprob(logprob=-2.074220174108632e-05, rank=1, decoded_token=' the')}, {25005: Logprob(logprob=-0.0001299296854995191, rank=1, decoded_token=' atmosphere')}, {338: Logprob(logprob=-0.0001289761275984347, rank=1, decoded_token=' is')}, {5520: Logprob(logprob=-0.0011622109450399876, rank=1, decoded_token=' longer')}, {29892: Logprob(logprob=-0.07891199737787247, rank=1, decoded_token=',')}, {607: Logprob(logprob=-1.761132836341858, rank=3, decoded_token=' which'), 322: Logprob(logprob=-0.7611328363418579, rank=1, decoded_token=' and')}, {2794: Logprob(logprob=-3.0621681213378906, rank=2, decoded_token=' means'), 885: Logprob(logprob=-0.06216815859079361, rank=1, decoded_token=' sc')}, {901: Logprob(logprob=-0.5011276602745056, rank=1, decoded_token=' more')}, {7254: Logprob(logprob=-0.9858677983283997, rank=2, decoded_token=' blue'), 14801: Logprob(logprob=-0.48586779832839966, rank=1, decoded_token=' scatter')}], finish_reason=length, stop_reason=None),\n",
       "  CompletionOutput(index=1, text=\"\\n\\n# Answer\\nThe sky appears blue due to a phenomenon called Rayleigh scattering. This process occurs when molecules and small particles in the Earth's atmosphere scatter sunlight in all directions. Blue light is scattered more than other colors because it travels in shorter, smaller waves. This is why we see a blue sky most of the time. During sunrise and sunset, when the sun is lower on the horizon, sunlight has to pass through more of the atmosphere, which scatters the blue light and allows the longer wavelengths of red and orange to reach our eyes, resulting in\", token_ids=array('l', [13, 13, 29937, 673, 13, 1576, 14744, 5692, 7254, 2861, 304, 263, 27791, 265, 2000, 9596, 280, 1141, 14801, 292, 29889, 910, 1889, 10008, 746, 13206, 21337, 322, 2319, 17105, 297, 278, 11563, 29915, 29879, 25005, 14801, 6575, 4366, 297, 599, 18112, 29889, 10924, 3578, 338, 29574, 901, 1135, 916, 11955, 1363, 372, 9850, 29879, 297, 20511, 29892, 7968, 20037, 29889, 910, 338, 2020, 591, 1074, 263, 7254, 14744, 1556, 310, 278, 931, 29889, 7133, 6575, 29878, 895, 322, 6575, 842, 29892, 746, 278, 6575, 338, 5224, 373, 278, 28205, 29892, 6575, 4366, 756, 304, 1209, 1549, 901, 310, 278, 25005, 29892, 607, 885, 271, 2153, 278, 7254, 3578, 322, 6511, 278, 5520, 281, 6447, 1477, 29879, 310, 2654, 322, 24841, 304, 6159, 1749, 5076, 29892, 9819, 297]), cumulative_logprob=-27.651939655202888, logprobs=[{13: Logprob(logprob=-0.5548060536384583, rank=1, decoded_token='\\n')}, {13: Logprob(logprob=-0.007244863081723452, rank=1, decoded_token='\\n')}, {29937: Logprob(logprob=-0.21312901377677917, rank=1, decoded_token='#')}, {673: Logprob(logprob=-0.0005565524916164577, rank=1, decoded_token=' Answer')}, {13: Logprob(logprob=-0.001105769770219922, rank=1, decoded_token='\\n')}, {1576: Logprob(logprob=-0.0003357561945449561, rank=1, decoded_token='The')}, {14744: Logprob(logprob=-0.00025567124248482287, rank=1, decoded_token=' sky')}, {5692: Logprob(logprob=-0.0009177286992780864, rank=1, decoded_token=' appears')}, {7254: Logprob(logprob=0.0, rank=1, decoded_token=' blue')}, {2861: Logprob(logprob=-0.4813370704650879, rank=1, decoded_token=' due')}, {304: Logprob(logprob=-3.576278118089249e-07, rank=1, decoded_token=' to')}, {263: Logprob(logprob=-0.004154385533183813, rank=1, decoded_token=' a')}, {27791: Logprob(logprob=-0.0015481640584766865, rank=1, decoded_token=' phenomen')}, {265: Logprob(logprob=0.0, rank=1, decoded_token='on')}, {2000: Logprob(logprob=-0.004078404977917671, rank=1, decoded_token=' called')}, {9596: Logprob(logprob=0.0, rank=1, decoded_token=' Ray')}, {280: Logprob(logprob=0.0, rank=1, decoded_token='le')}, {1141: Logprob(logprob=0.0, rank=1, decoded_token='igh')}, {14801: Logprob(logprob=-4.541770613286644e-05, rank=1, decoded_token=' scatter')}, {292: Logprob(logprob=0.0, rank=1, decoded_token='ing')}, {29889: Logprob(logprob=-6.198863957251888e-06, rank=1, decoded_token='.')}, {910: Logprob(logprob=-0.43888843059539795, rank=1, decoded_token=' This')}, {1889: Logprob(logprob=-2.356912612915039, rank=3, decoded_token=' process'), 10008: Logprob(logprob=-0.3569125831127167, rank=1, decoded_token=' occurs')}, {10008: Logprob(logprob=-0.05006280541419983, rank=1, decoded_token=' occurs')}, {746: Logprob(logprob=-0.004089802503585815, rank=1, decoded_token=' when')}, {13206: Logprob(logprob=-1.0553945302963257, rank=2, decoded_token=' mole'), 6575: Logprob(logprob=-0.5553945302963257, rank=1, decoded_token=' sun')}, {21337: Logprob(logprob=0.0, rank=1, decoded_token='cules')}, {322: Logprob(logprob=-7.343022298300639e-05, rank=1, decoded_token=' and')}, {2319: Logprob(logprob=-0.00034564718953333795, rank=1, decoded_token=' small')}, {17105: Logprob(logprob=-3.576278118089249e-07, rank=1, decoded_token=' particles')}, {297: Logprob(logprob=-3.576278118089249e-07, rank=1, decoded_token=' in')}, {278: Logprob(logprob=-0.07888974994421005, rank=1, decoded_token=' the')}, {11563: Logprob(logprob=-0.0009128456003963947, rank=1, decoded_token=' Earth')}, {29915: Logprob(logprob=-4.541770613286644e-05, rank=1, decoded_token=\"'\")}, {29879: Logprob(logprob=0.0, rank=1, decoded_token='s')}, {25005: Logprob(logprob=0.0, rank=1, decoded_token=' atmosphere')}, {14801: Logprob(logprob=-6.6756979322235566e-06, rank=1, decoded_token=' scatter')}, {6575: Logprob(logprob=-0.0003736513026524335, rank=1, decoded_token=' sun')}, {4366: Logprob(logprob=0.0, rank=1, decoded_token='light')}, {297: Logprob(logprob=-0.01819467917084694, rank=1, decoded_token=' in')}, {599: Logprob(logprob=-0.001549235312268138, rank=1, decoded_token=' all')}, {18112: Logprob(logprob=0.0, rank=1, decoded_token=' directions')}, {29889: Logprob(logprob=-1.2516897186287679e-05, rank=1, decoded_token='.')}, {10924: Logprob(logprob=-0.5632261633872986, rank=1, decoded_token=' Blue')}, {3578: Logprob(logprob=-1.1444026313256472e-05, rank=1, decoded_token=' light')}, {338: Logprob(logprob=-0.004680273588746786, rank=1, decoded_token=' is')}, {29574: Logprob(logprob=0.0, rank=1, decoded_token=' scattered')}, {901: Logprob(logprob=-6.318072337307967e-06, rank=1, decoded_token=' more')}, {1135: Logprob(logprob=-0.00013541258522309363, rank=1, decoded_token=' than')}, {916: Logprob(logprob=-5.125986263010418e-06, rank=1, decoded_token=' other')}, {11955: Logprob(logprob=0.0, rank=1, decoded_token=' colors')}, {1363: Logprob(logprob=-8.344646857949556e-07, rank=1, decoded_token=' because')}, {372: Logprob(logprob=-4.768370445162873e-07, rank=1, decoded_token=' it')}, {9850: Logprob(logprob=-2.264974000354414e-06, rank=1, decoded_token=' travel')}, {29879: Logprob(logprob=0.0, rank=1, decoded_token='s')}, {297: Logprob(logprob=-0.6931474208831787, rank=1, decoded_token=' in')}, {20511: Logprob(logprob=-0.00012385078298393637, rank=1, decoded_token=' shorter')}, {29892: Logprob(logprob=-1.1920928244535389e-07, rank=1, decoded_token=',')}, {7968: Logprob(logprob=0.0, rank=1, decoded_token=' smaller')}, {20037: Logprob(logprob=-3.2186455882765586e-06, rank=1, decoded_token=' waves')}, {29889: Logprob(logprob=-0.00034290633630007505, rank=1, decoded_token='.')}, {910: Logprob(logprob=-0.05002334341406822, rank=1, decoded_token=' This')}, {338: Logprob(logprob=-0.7988428473472595, rank=1, decoded_token=' is')}, {2020: Logprob(logprob=-4.184158387943171e-05, rank=1, decoded_token=' why')}, {591: Logprob(logprob=-0.05004477500915527, rank=1, decoded_token=' we')}, {1074: Logprob(logprob=-0.002571135526522994, rank=1, decoded_token=' see')}, {263: Logprob(logprob=-0.0005863377591595054, rank=1, decoded_token=' a')}, {7254: Logprob(logprob=-0.0010458719916641712, rank=1, decoded_token=' blue')}, {14744: Logprob(logprob=-0.004754784516990185, rank=1, decoded_token=' sky')}, {1556: Logprob(logprob=-7.915183232398704e-05, rank=1, decoded_token=' most')}, {310: Logprob(logprob=-1.6689286894688848e-06, rank=1, decoded_token=' of')}, {278: Logprob(logprob=0.0, rank=1, decoded_token=' the')}, {931: Logprob(logprob=-4.5536911784438416e-05, rank=1, decoded_token=' time')}, {29889: Logprob(logprob=-0.08209869265556335, rank=1, decoded_token='.')}, {7133: Logprob(logprob=-0.7297985553741455, rank=1, decoded_token=' During')}, {6575: Logprob(logprob=-8.785339014139026e-05, rank=1, decoded_token=' sun')}, {29878: Logprob(logprob=-0.0003535122668836266, rank=1, decoded_token='r')}, {895: Logprob(logprob=0.0, rank=1, decoded_token='ise')}, {322: Logprob(logprob=-0.011047743260860443, rank=1, decoded_token=' and')}, {6575: Logprob(logprob=0.0, rank=1, decoded_token=' sun')}, {842: Logprob(logprob=-1.4305104514278355e-06, rank=1, decoded_token='set')}, {29892: Logprob(logprob=-4.172316494077677e-06, rank=1, decoded_token=',')}, {746: Logprob(logprob=-2.5801243782043457, rank=2, decoded_token=' when'), 278: Logprob(logprob=-0.08012449741363525, rank=1, decoded_token=' the')}, {278: Logprob(logprob=-0.0001370812824461609, rank=1, decoded_token=' the')}, {6575: Logprob(logprob=-0.015161274932324886, rank=1, decoded_token=' sun')}, {338: Logprob(logprob=-0.05004613474011421, rank=1, decoded_token=' is')}, {5224: Logprob(logprob=-0.3175591230392456, rank=1, decoded_token=' lower')}, {373: Logprob(logprob=-0.4746554493904114, rank=1, decoded_token=' on')}, {278: Logprob(logprob=0.0, rank=1, decoded_token=' the')}, {28205: Logprob(logprob=-2.264974000354414e-06, rank=1, decoded_token=' horizon')}, {29892: Logprob(logprob=-0.0005529781919904053, rank=1, decoded_token=',')}, {6575: Logprob(logprob=-2.6779725551605225, rank=2, decoded_token=' sun'), 278: Logprob(logprob=-0.17797264456748962, rank=1, decoded_token=' the')}, {4366: Logprob(logprob=0.0, rank=1, decoded_token='light')}, {756: Logprob(logprob=-0.15294788777828217, rank=1, decoded_token=' has')}, {304: Logprob(logprob=-2.753696753643453e-05, rank=1, decoded_token=' to')}, {1209: Logprob(logprob=-0.018154526129364967, rank=1, decoded_token=' pass')}, {1549: Logprob(logprob=-3.576278118089249e-07, rank=1, decoded_token=' through')}, {901: Logprob(logprob=-0.02975134178996086, rank=1, decoded_token=' more')}, {310: Logprob(logprob=-1.3163471221923828, rank=2, decoded_token=' of'), 25005: Logprob(logprob=-0.3163470923900604, rank=1, decoded_token=' atmosphere')}, {278: Logprob(logprob=-0.0005552418879233301, rank=1, decoded_token=' the')}, {25005: Logprob(logprob=-0.9740942120552063, rank=2, decoded_token=' atmosphere'), 11563: Logprob(logprob=-0.4740942120552063, rank=1, decoded_token=' Earth')}, {29892: Logprob(logprob=-0.05578543245792389, rank=1, decoded_token=',')}, {607: Logprob(logprob=-0.061362382024526596, rank=1, decoded_token=' which')}, {885: Logprob(logprob=-0.0031898352317512035, rank=1, decoded_token=' sc')}, {271: Logprob(logprob=-1.1920928244535389e-07, rank=1, decoded_token='at')}, {2153: Logprob(logprob=-1.1920928244535389e-07, rank=1, decoded_token='ters')}, {278: Logprob(logprob=-1.0889488458633423, rank=2, decoded_token=' the'), 3448: Logprob(logprob=-0.5889488458633423, rank=1, decoded_token=' away')}, {7254: Logprob(logprob=-2.6238980293273926, rank=2, decoded_token=' blue'), 20511: Logprob(logprob=-0.12389791011810303, rank=1, decoded_token=' shorter')}, {3578: Logprob(logprob=-0.6931488513946533, rank=1, decoded_token=' light'), 322: Logprob(logprob=-0.6931488513946533, rank=1, decoded_token=' and')}, {322: Logprob(logprob=-2.1141204833984375, rank=3, decoded_token=' and'), 714: Logprob(logprob=-0.614120364189148, rank=1, decoded_token=' out')}, {6511: Logprob(logprob=-0.0009267802815884352, rank=1, decoded_token=' allows')}, {278: Logprob(logprob=-0.3214472532272339, rank=1, decoded_token=' the')}, {5520: Logprob(logprob=-0.1281926929950714, rank=1, decoded_token=' longer')}, {281: Logprob(logprob=-0.08657355606555939, rank=1, decoded_token=' w')}, {6447: Logprob(logprob=0.0, rank=1, decoded_token='avel')}, {1477: Logprob(logprob=0.0, rank=1, decoded_token='ength')}, {29879: Logprob(logprob=-0.034056954085826874, rank=1, decoded_token='s')}, {310: Logprob(logprob=-1.2965402603149414, rank=2, decoded_token=' of'), 313: Logprob(logprob=-0.7965402603149414, rank=1, decoded_token=' (')}, {2654: Logprob(logprob=-0.08205674588680267, rank=1, decoded_token=' red')}, {322: Logprob(logprob=-0.011260057799518108, rank=1, decoded_token=' and')}, {24841: Logprob(logprob=-0.04858846589922905, rank=1, decoded_token=' orange')}, {304: Logprob(logprob=-0.07889547944068909, rank=1, decoded_token=' to')}, {6159: Logprob(logprob=-0.7174227237701416, rank=1, decoded_token=' reach')}, {1749: Logprob(logprob=-0.006754068657755852, rank=1, decoded_token=' our')}, {5076: Logprob(logprob=0.0, rank=1, decoded_token=' eyes')}, {29892: Logprob(logprob=-0.030289851129055023, rank=1, decoded_token=',')}, {9819: Logprob(logprob=-1.2920019626617432, rank=1, decoded_token=' resulting'), 3907: Logprob(logprob=-1.2920019626617432, rank=1, decoded_token=' making')}, {297: Logprob(logprob=0.0, rank=1, decoded_token=' in')}], finish_reason=length, stop_reason=None),\n",
       "  CompletionOutput(index=0, text=\" The sky appears blue to us because of a process called Rayleigh scattering. When sunlight enters the Earth's atmosphere, it is made up of different colors, each with its own wavelength. The shorter wavelengths of light, like blue and violet, are scattered more easily by the molecules in the atmosphere than the longer wavelengths, such as red and yellow.\\n\\nThis scattering causes the blue light to spread out and reach our eyes from all directions, making the sky appear blue. Although violet light is scattered even more than blue, our eyes are less sensitive to violet\", token_ids=array('l', [450, 14744, 5692, 7254, 304, 502, 1363, 310, 263, 1889, 2000, 9596, 280, 1141, 14801, 292, 29889, 1932, 6575, 4366, 24395, 278, 11563, 29915, 29879, 25005, 29892, 372, 338, 1754, 701, 310, 1422, 11955, 29892, 1269, 411, 967, 1914, 281, 6447, 1477, 29889, 450, 20511, 281, 6447, 1477, 29879, 310, 3578, 29892, 763, 7254, 322, 28008, 1026, 29892, 526, 29574, 901, 5948, 491, 278, 13206, 21337, 297, 278, 25005, 1135, 278, 5520, 281, 6447, 1477, 29879, 29892, 1316, 408, 2654, 322, 13328, 29889, 13, 13, 4013, 14801, 292, 9946, 278, 7254, 3578, 304, 9677, 714, 322, 6159, 1749, 5076, 515, 599, 18112, 29892, 3907, 278, 14744, 2615, 7254, 29889, 8512, 28008, 1026, 3578, 338, 29574, 1584, 901, 1135, 7254, 29892, 1749, 5076, 526, 3109, 20502, 304, 28008, 1026]), cumulative_logprob=-29.60638961416435, logprobs=[{450: Logprob(logprob=-1.5548059940338135, rank=2, decoded_token=' The'), 13: Logprob(logprob=-0.5548060536384583, rank=1, decoded_token='\\n')}, {14744: Logprob(logprob=-0.11429690569639206, rank=1, decoded_token=' sky')}, {5692: Logprob(logprob=-0.01405272725969553, rank=1, decoded_token=' appears')}, {7254: Logprob(logprob=-2.50339189733495e-06, rank=1, decoded_token=' blue')}, {304: Logprob(logprob=-0.6825748085975647, rank=1, decoded_token=' to')}, {502: Logprob(logprob=-1.3401330709457397, rank=2, decoded_token=' us'), 278: Logprob(logprob=-0.34013307094573975, rank=1, decoded_token=' the')}, {1363: Logprob(logprob=-0.1534641683101654, rank=1, decoded_token=' because')}, {310: Logprob(logprob=-0.033144012093544006, rank=1, decoded_token=' of')}, {263: Logprob(logprob=-3.051069736480713, rank=2, decoded_token=' a'), 278: Logprob(logprob=-0.05106963962316513, rank=1, decoded_token=' the')}, {1889: Logprob(logprob=-0.5262995362281799, rank=1, decoded_token=' process')}, {2000: Logprob(logprob=-0.0005554801900871098, rank=1, decoded_token=' called')}, {9596: Logprob(logprob=-1.0251946150674485e-05, rank=1, decoded_token=' Ray')}, {280: Logprob(logprob=0.0, rank=1, decoded_token='le')}, {1141: Logprob(logprob=0.0, rank=1, decoded_token='igh')}, {14801: Logprob(logprob=-0.00012337400403339416, rank=1, decoded_token=' scatter')}, {292: Logprob(logprob=0.0, rank=1, decoded_token='ing')}, {29889: Logprob(logprob=-0.0005534547381103039, rank=1, decoded_token='.')}, {1932: Logprob(logprob=-0.1758456975221634, rank=1, decoded_token=' When')}, {6575: Logprob(logprob=-0.0009608419495634735, rank=1, decoded_token=' sun')}, {4366: Logprob(logprob=0.0, rank=1, decoded_token='light')}, {24395: Logprob(logprob=-0.1288769245147705, rank=1, decoded_token=' enters')}, {278: Logprob(logprob=-1.3150721788406372, rank=2, decoded_token=' the'), 11563: Logprob(logprob=-0.3150721788406372, rank=1, decoded_token=' Earth')}, {11563: Logprob(logprob=-1.6331539882230572e-05, rank=1, decoded_token=' Earth')}, {29915: Logprob(logprob=-0.0015023384476080537, rank=1, decoded_token=\"'\")}, {29879: Logprob(logprob=0.0, rank=1, decoded_token='s')}, {25005: Logprob(logprob=0.0, rank=1, decoded_token=' atmosphere')}, {29892: Logprob(logprob=-4.768370445162873e-07, rank=1, decoded_token=',')}, {372: Logprob(logprob=-3.6954811548639555e-06, rank=1, decoded_token=' it')}, {338: Logprob(logprob=-1.3968424797058105, rank=2, decoded_token=' is'), 2094: Logprob(logprob=-0.8968424201011658, rank=1, decoded_token=' enc')}, {1754: Logprob(logprob=-0.011133216321468353, rank=1, decoded_token=' made')}, {701: Logprob(logprob=-4.541770613286644e-05, rank=1, decoded_token=' up')}, {310: Logprob(logprob=0.0, rank=1, decoded_token=' of')}, {1422: Logprob(logprob=-0.12659357488155365, rank=1, decoded_token=' different')}, {11955: Logprob(logprob=-7.772143726469949e-05, rank=1, decoded_token=' colors')}, {29892: Logprob(logprob=-0.18488864600658417, rank=1, decoded_token=',')}, {1269: Logprob(logprob=-0.33762338757514954, rank=1, decoded_token=' each')}, {411: Logprob(logprob=-0.0011149387573823333, rank=1, decoded_token=' with')}, {967: Logprob(logprob=-1.3573946952819824, rank=2, decoded_token=' its'), 263: Logprob(logprob=-0.8573946356773376, rank=1, decoded_token=' a')}, {1914: Logprob(logprob=-0.0008060067193582654, rank=1, decoded_token=' own')}, {281: Logprob(logprob=-0.0005746620590798557, rank=1, decoded_token=' w')}, {6447: Logprob(logprob=0.0, rank=1, decoded_token='avel')}, {1477: Logprob(logprob=0.0, rank=1, decoded_token='ength')}, {29889: Logprob(logprob=-0.0005570290377363563, rank=1, decoded_token='.')}, {450: Logprob(logprob=-0.41091543436050415, rank=1, decoded_token=' The')}, {20511: Logprob(logprob=-0.7806819677352905, rank=1, decoded_token=' shorter')}, {281: Logprob(logprob=-0.7124643325805664, rank=1, decoded_token=' w')}, {6447: Logprob(logprob=0.0, rank=1, decoded_token='avel')}, {1477: Logprob(logprob=0.0, rank=1, decoded_token='ength')}, {29879: Logprob(logprob=-0.00023016665363684297, rank=1, decoded_token='s')}, {310: Logprob(logprob=-0.4076458513736725, rank=1, decoded_token=' of')}, {3578: Logprob(logprob=-0.08031076192855835, rank=1, decoded_token=' light')}, {29892: Logprob(logprob=-0.12711471319198608, rank=1, decoded_token=',')}, {763: Logprob(logprob=-2.1285836696624756, rank=2, decoded_token=' like'), 1316: Logprob(logprob=-0.12858366966247559, rank=1, decoded_token=' such')}, {7254: Logprob(logprob=-4.8874615458771586e-05, rank=1, decoded_token=' blue')}, {322: Logprob(logprob=-0.011047860607504845, rank=1, decoded_token=' and')}, {28008: Logprob(logprob=-4.768370445162873e-07, rank=1, decoded_token=' vio')}, {1026: Logprob(logprob=0.0, rank=1, decoded_token='let')}, {29892: Logprob(logprob=0.0, rank=1, decoded_token=',')}, {526: Logprob(logprob=-0.04871007427573204, rank=1, decoded_token=' are')}, {29574: Logprob(logprob=-0.0003359945258125663, rank=1, decoded_token=' scattered')}, {901: Logprob(logprob=-0.31510862708091736, rank=1, decoded_token=' more')}, {5948: Logprob(logprob=-0.33594757318496704, rank=1, decoded_token=' easily')}, {491: Logprob(logprob=-0.019057272002100945, rank=1, decoded_token=' by')}, {278: Logprob(logprob=-0.0011233931872993708, rank=1, decoded_token=' the')}, {13206: Logprob(logprob=-0.23128151893615723, rank=1, decoded_token=' mole')}, {21337: Logprob(logprob=0.0, rank=1, decoded_token='cules')}, {297: Logprob(logprob=-0.08265979588031769, rank=1, decoded_token=' in')}, {278: Logprob(logprob=-0.00020358874462544918, rank=1, decoded_token=' the')}, {25005: Logprob(logprob=-0.04890727624297142, rank=1, decoded_token=' atmosphere')}, {1135: Logprob(logprob=-0.5091153383255005, rank=1, decoded_token=' than')}, {278: Logprob(logprob=-0.0003524397616274655, rank=1, decoded_token=' the')}, {5520: Logprob(logprob=-2.753696753643453e-05, rank=1, decoded_token=' longer')}, {281: Logprob(logprob=-3.576278118089249e-07, rank=1, decoded_token=' w')}, {6447: Logprob(logprob=0.0, rank=1, decoded_token='avel')}, {1477: Logprob(logprob=0.0, rank=1, decoded_token='ength')}, {29879: Logprob(logprob=-8.344646857949556e-07, rank=1, decoded_token='s')}, {29892: Logprob(logprob=-0.00911657139658928, rank=1, decoded_token=',')}, {1316: Logprob(logprob=-0.3136661946773529, rank=1, decoded_token=' such')}, {408: Logprob(logprob=0.0, rank=1, decoded_token=' as')}, {2654: Logprob(logprob=0.0, rank=1, decoded_token=' red')}, {322: Logprob(logprob=-0.00253700977191329, rank=1, decoded_token=' and')}, {13328: Logprob(logprob=-0.04858744144439697, rank=1, decoded_token=' yellow')}, {29889: Logprob(logprob=-3.6954811548639555e-06, rank=1, decoded_token='.')}, {13: Logprob(logprob=-0.7828030586242676, rank=1, decoded_token='\\n')}, {13: Logprob(logprob=-3.099436753473128e-06, rank=1, decoded_token='\\n')}, {4013: Logprob(logprob=-1.3170738220214844, rank=2, decoded_token='This'), 13: Logprob(logprob=-0.8170737624168396, rank=1, decoded_token='\\n')}, {14801: Logprob(logprob=-0.0021325245033949614, rank=1, decoded_token=' scatter')}, {292: Logprob(logprob=0.0, rank=1, decoded_token='ing')}, {9946: Logprob(logprob=-0.02742462046444416, rank=1, decoded_token=' causes')}, {278: Logprob(logprob=-0.020026743412017822, rank=1, decoded_token=' the')}, {7254: Logprob(logprob=-0.00745715806260705, rank=1, decoded_token=' blue')}, {3578: Logprob(logprob=-0.0029149444308131933, rank=1, decoded_token=' light')}, {304: Logprob(logprob=-2.622600959512056e-06, rank=1, decoded_token=' to')}, {9677: Logprob(logprob=-0.3152237832546234, rank=1, decoded_token=' spread')}, {714: Logprob(logprob=-0.007664912845939398, rank=1, decoded_token=' out')}, {322: Logprob(logprob=-0.7243275046348572, rank=1, decoded_token=' and'), 297: Logprob(logprob=-0.7243275046348572, rank=1, decoded_token=' in')}, {6159: Logprob(logprob=-1.6807916164398193, rank=2, decoded_token=' reach'), 367: Logprob(logprob=-0.6807916760444641, rank=1, decoded_token=' be')}, {1749: Logprob(logprob=-4.5536911784438416e-05, rank=1, decoded_token=' our')}, {5076: Logprob(logprob=0.0, rank=1, decoded_token=' eyes')}, {515: Logprob(logprob=-0.049320515245199203, rank=1, decoded_token=' from')}, {599: Logprob(logprob=-0.002792746527120471, rank=1, decoded_token=' all')}, {18112: Logprob(logprob=-0.0001817776501411572, rank=1, decoded_token=' directions')}, {29892: Logprob(logprob=-0.0493294820189476, rank=1, decoded_token=',')}, {3907: Logprob(logprob=-0.7003785371780396, rank=1, decoded_token=' making')}, {278: Logprob(logprob=-4.4225667807040736e-05, rank=1, decoded_token=' the')}, {14744: Logprob(logprob=-4.172316494077677e-06, rank=1, decoded_token=' sky')}, {2615: Logprob(logprob=-0.2018292099237442, rank=1, decoded_token=' appear')}, {7254: Logprob(logprob=-0.02976534329354763, rank=1, decoded_token=' blue')}, {29889: Logprob(logprob=-1.093542456626892, rank=2, decoded_token='.'), 2645: Logprob(logprob=-0.5935424566268921, rank=1, decoded_token=' during')}, {8512: Logprob(logprob=-1.6567028760910034, rank=2, decoded_token=' Although'), 2398: Logprob(logprob=-0.6567028760910034, rank=1, decoded_token=' However')}, {28008: Logprob(logprob=-0.0001854724541772157, rank=1, decoded_token=' vio')}, {1026: Logprob(logprob=0.0, rank=1, decoded_token='let')}, {3578: Logprob(logprob=-3.6954811548639555e-06, rank=1, decoded_token=' light')}, {338: Logprob(logprob=-5.8053239627042785e-05, rank=1, decoded_token=' is')}, {29574: Logprob(logprob=-0.004098112694919109, rank=1, decoded_token=' scattered')}, {1584: Logprob(logprob=-0.029761293902993202, rank=1, decoded_token=' even')}, {901: Logprob(logprob=0.0, rank=1, decoded_token=' more')}, {1135: Logprob(logprob=-0.00034195298212580383, rank=1, decoded_token=' than')}, {7254: Logprob(logprob=0.0, rank=1, decoded_token=' blue')}, {29892: Logprob(logprob=-0.9740771055221558, rank=2, decoded_token=','), 3578: Logprob(logprob=-0.47407713532447815, rank=1, decoded_token=' light')}, {1749: Logprob(logprob=-0.09608844667673111, rank=1, decoded_token=' our')}, {5076: Logprob(logprob=-2.145764938177308e-06, rank=1, decoded_token=' eyes')}, {526: Logprob(logprob=-1.1920928244535389e-07, rank=1, decoded_token=' are')}, {3109: Logprob(logprob=-0.6931594610214233, rank=1, decoded_token=' less'), 901: Logprob(logprob=-0.6931594610214233, rank=1, decoded_token=' more')}, {20502: Logprob(logprob=0.0, rank=1, decoded_token=' sensitive')}, {304: Logprob(logprob=0.0, rank=1, decoded_token=' to')}, {28008: Logprob(logprob=-2.753696753643453e-05, rank=1, decoded_token=' vio')}, {1026: Logprob(logprob=0.0, rank=1, decoded_token='let')}], finish_reason=length, stop_reason=None),\n",
       "  CompletionOutput(index=2, text=\"\\n\\nThe sky appears blue to us due to a phenomenon called Rayleigh scattering. When sunlight reaches the Earth's atmosphere, it is made up of different colors, each with its own wavelength. The atmosphere contains tiny particles and molecules that are much smaller than the wavelength of visible light. These particles scatter the shorter wavelengths of light (such as blue and violet) more efficiently than the longer wavelengths (such as red and yellow).\\n\\nSince the blue light is scattered in all directions, it reaches our eyes from many different angles, making the sky appear blue\", token_ids=array('l', [13, 13, 1576, 14744, 5692, 7254, 304, 502, 2861, 304, 263, 27791, 265, 2000, 9596, 280, 1141, 14801, 292, 29889, 1932, 6575, 4366, 22170, 278, 11563, 29915, 29879, 25005, 29892, 372, 338, 1754, 701, 310, 1422, 11955, 29892, 1269, 411, 967, 1914, 281, 6447, 1477, 29889, 450, 25005, 3743, 21577, 17105, 322, 13206, 21337, 393, 526, 1568, 7968, 1135, 278, 281, 6447, 1477, 310, 7962, 3578, 29889, 4525, 17105, 14801, 278, 20511, 281, 6447, 1477, 29879, 310, 3578, 313, 14565, 408, 7254, 322, 28008, 1026, 29897, 901, 29497, 1135, 278, 5520, 281, 6447, 1477, 29879, 313, 14565, 408, 2654, 322, 13328, 467, 13, 13, 23036, 278, 7254, 3578, 338, 29574, 297, 599, 18112, 29892, 372, 22170, 1749, 5076, 515, 1784, 1422, 23619, 29892, 3907, 278, 14744, 2615, 7254]), cumulative_logprob=-35.38162992610361, logprobs=[{13: Logprob(logprob=-0.5548060536384583, rank=1, decoded_token='\\n')}, {13: Logprob(logprob=-0.007244863081723452, rank=1, decoded_token='\\n')}, {1576: Logprob(logprob=-2.7131290435791016, rank=2, decoded_token='The'), 29937: Logprob(logprob=-0.21312901377677917, rank=1, decoded_token='#')}, {14744: Logprob(logprob=-0.057319678366184235, rank=1, decoded_token=' sky')}, {5692: Logprob(logprob=-0.0028872492257505655, rank=1, decoded_token=' appears')}, {7254: Logprob(logprob=-6.437280717364047e-06, rank=1, decoded_token=' blue')}, {304: Logprob(logprob=-0.7189183235168457, rank=1, decoded_token=' to')}, {502: Logprob(logprob=-3.0682690143585205, rank=2, decoded_token=' us'), 278: Logprob(logprob=-0.0682690441608429, rank=1, decoded_token=' the')}, {2861: Logprob(logprob=-0.8086690306663513, rank=1, decoded_token=' due'), 1363: Logprob(logprob=-0.8086690306663513, rank=1, decoded_token=' because')}, {304: Logprob(logprob=-6.318072337307967e-06, rank=1, decoded_token=' to')}, {263: Logprob(logprob=-0.31511420011520386, rank=1, decoded_token=' a')}, {27791: Logprob(logprob=-0.017834538593888283, rank=1, decoded_token=' phenomen')}, {265: Logprob(logprob=0.0, rank=1, decoded_token='on')}, {2000: Logprob(logprob=-0.04859380051493645, rank=1, decoded_token=' called')}, {9596: Logprob(logprob=-1.1920928244535389e-07, rank=1, decoded_token=' Ray')}, {280: Logprob(logprob=0.0, rank=1, decoded_token='le')}, {1141: Logprob(logprob=0.0, rank=1, decoded_token='igh')}, {14801: Logprob(logprob=-0.00033539868309162557, rank=1, decoded_token=' scatter')}, {292: Logprob(logprob=0.0, rank=1, decoded_token='ing')}, {29889: Logprob(logprob=-0.0002037079248111695, rank=1, decoded_token='.')}, {1932: Logprob(logprob=-0.27260586619377136, rank=1, decoded_token=' When')}, {6575: Logprob(logprob=-0.0015306673012673855, rank=1, decoded_token=' sun')}, {4366: Logprob(logprob=0.0, rank=1, decoded_token='light')}, {22170: Logprob(logprob=-0.9766103029251099, rank=2, decoded_token=' reaches'), 24395: Logprob(logprob=-0.47661033272743225, rank=1, decoded_token=' enters')}, {278: Logprob(logprob=-0.47826462984085083, rank=1, decoded_token=' the')}, {11563: Logprob(logprob=-9.083335316972807e-05, rank=1, decoded_token=' Earth')}, {29915: Logprob(logprob=-0.0018220028141513467, rank=1, decoded_token=\"'\")}, {29879: Logprob(logprob=0.0, rank=1, decoded_token='s')}, {25005: Logprob(logprob=0.0, rank=1, decoded_token=' atmosphere')}, {29892: Logprob(logprob=0.0, rank=1, decoded_token=',')}, {372: Logprob(logprob=-1.7046782886609435e-05, rank=1, decoded_token=' it')}, {338: Logprob(logprob=-1.1268963813781738, rank=2, decoded_token=' is'), 2094: Logprob(logprob=-0.6268964409828186, rank=1, decoded_token=' enc')}, {1754: Logprob(logprob=-0.07941741496324539, rank=1, decoded_token=' made')}, {701: Logprob(logprob=-1.6689160474925302e-05, rank=1, decoded_token=' up')}, {310: Logprob(logprob=0.0, rank=1, decoded_token=' of')}, {1422: Logprob(logprob=-0.22398872673511505, rank=1, decoded_token=' different')}, {11955: Logprob(logprob=-0.00033778208307921886, rank=1, decoded_token=' colors')}, {29892: Logprob(logprob=-0.16717800498008728, rank=1, decoded_token=',')}, {1269: Logprob(logprob=-0.08427940309047699, rank=1, decoded_token=' each')}, {411: Logprob(logprob=-0.0029005620162934065, rank=1, decoded_token=' with')}, {967: Logprob(logprob=-1.9565315246582031, rank=4, decoded_token=' its'), 24099: Logprob(logprob=-0.9565315246582031, rank=1, decoded_token=' varying')}, {1914: Logprob(logprob=-0.0017051455797627568, rank=1, decoded_token=' own')}, {281: Logprob(logprob=-0.0009659630013629794, rank=1, decoded_token=' w')}, {6447: Logprob(logprob=0.0, rank=1, decoded_token='avel')}, {1477: Logprob(logprob=0.0, rank=1, decoded_token='ength')}, {29889: Logprob(logprob=-0.0015132891712710261, rank=1, decoded_token='.')}, {450: Logprob(logprob=-0.4126109778881073, rank=1, decoded_token=' The')}, {25005: Logprob(logprob=-0.7538794875144958, rank=1, decoded_token=' atmosphere'), 20511: Logprob(logprob=-0.7538794875144958, rank=1, decoded_token=' shorter')}, {3743: Logprob(logprob=-1.7075934410095215, rank=2, decoded_token=' contains'), 338: Logprob(logprob=-0.2075933963060379, rank=1, decoded_token=' is')}, {21577: Logprob(logprob=-0.3969506323337555, rank=1, decoded_token=' tiny')}, {17105: Logprob(logprob=-0.6945102214813232, rank=1, decoded_token=' particles'), 13206: Logprob(logprob=-0.6945102214813232, rank=1, decoded_token=' mole')}, {322: Logprob(logprob=-0.08020162582397461, rank=1, decoded_token=' and')}, {13206: Logprob(logprob=-0.0004654039512388408, rank=1, decoded_token=' mole')}, {21337: Logprob(logprob=0.0, rank=1, decoded_token='cules')}, {393: Logprob(logprob=-0.31938406825065613, rank=1, decoded_token=' that')}, {526: Logprob(logprob=-1.7114299535751343, rank=2, decoded_token=' are'), 14801: Logprob(logprob=-0.21142999827861786, rank=1, decoded_token=' scatter')}, {1568: Logprob(logprob=-0.47468823194503784, rank=1, decoded_token=' much')}, {7968: Logprob(logprob=-8.4638240878121e-06, rank=1, decoded_token=' smaller')}, {1135: Logprob(logprob=-8.105902816168964e-05, rank=1, decoded_token=' than')}, {278: Logprob(logprob=-2.3841855067985307e-07, rank=1, decoded_token=' the')}, {281: Logprob(logprob=-0.0005604841862805188, rank=1, decoded_token=' w')}, {6447: Logprob(logprob=0.0, rank=1, decoded_token='avel')}, {1477: Logprob(logprob=0.0, rank=1, decoded_token='ength')}, {310: Logprob(logprob=-0.018149960786104202, rank=1, decoded_token=' of')}, {7962: Logprob(logprob=-0.004246860276907682, rank=1, decoded_token=' visible')}, {3578: Logprob(logprob=-3.576278118089249e-07, rank=1, decoded_token=' light')}, {29889: Logprob(logprob=-0.002476603025570512, rank=1, decoded_token='.')}, {4525: Logprob(logprob=-0.43681249022483826, rank=1, decoded_token=' These')}, {17105: Logprob(logprob=-0.00032729512895457447, rank=1, decoded_token=' particles')}, {14801: Logprob(logprob=-0.060587260872125626, rank=1, decoded_token=' scatter')}, {278: Logprob(logprob=-0.11679750680923462, rank=1, decoded_token=' the')}, {20511: Logprob(logprob=-0.349082887172699, rank=1, decoded_token=' shorter')}, {281: Logprob(logprob=-0.032288871705532074, rank=1, decoded_token=' w')}, {6447: Logprob(logprob=0.0, rank=1, decoded_token='avel')}, {1477: Logprob(logprob=0.0, rank=1, decoded_token='ength')}, {29879: Logprob(logprob=-0.0022018731106072664, rank=1, decoded_token='s')}, {310: Logprob(logprob=-0.08266429603099823, rank=1, decoded_token=' of')}, {3578: Logprob(logprob=-0.0004605186404660344, rank=1, decoded_token=' light')}, {313: Logprob(logprob=-0.974571943283081, rank=2, decoded_token=' ('), 29892: Logprob(logprob=-0.47457194328308105, rank=1, decoded_token=',')}, {14565: Logprob(logprob=-1.7139027118682861, rank=2, decoded_token='such'), 9539: Logprob(logprob=-0.21390269696712494, rank=1, decoded_token='blue')}, {408: Logprob(logprob=0.0, rank=1, decoded_token=' as')}, {7254: Logprob(logprob=-0.0005821678787469864, rank=1, decoded_token=' blue')}, {322: Logprob(logprob=-0.00676081795245409, rank=1, decoded_token=' and')}, {28008: Logprob(logprob=-5.960462772236497e-07, rank=1, decoded_token=' vio')}, {1026: Logprob(logprob=0.0, rank=1, decoded_token='let')}, {29897: Logprob(logprob=-2.074220174108632e-05, rank=1, decoded_token=')')}, {901: Logprob(logprob=-0.00010847456724150106, rank=1, decoded_token=' more')}, {29497: Logprob(logprob=-1.055895447731018, rank=2, decoded_token=' efficiently'), 1135: Logprob(logprob=-0.5558954477310181, rank=1, decoded_token=' than')}, {1135: Logprob(logprob=-4.9470632802695036e-05, rank=1, decoded_token=' than')}, {278: Logprob(logprob=-0.008141189813613892, rank=1, decoded_token=' the')}, {5520: Logprob(logprob=0.0, rank=1, decoded_token=' longer')}, {281: Logprob(logprob=-6.198863957251888e-06, rank=1, decoded_token=' w')}, {6447: Logprob(logprob=0.0, rank=1, decoded_token='avel')}, {1477: Logprob(logprob=0.0, rank=1, decoded_token='ength')}, {29879: Logprob(logprob=0.0, rank=1, decoded_token='s')}, {313: Logprob(logprob=-1.847726889536716e-05, rank=1, decoded_token=' (')}, {14565: Logprob(logprob=-0.011074976995587349, rank=1, decoded_token='such')}, {408: Logprob(logprob=0.0, rank=1, decoded_token=' as')}, {2654: Logprob(logprob=-1.6689286894688848e-06, rank=1, decoded_token=' red')}, {322: Logprob(logprob=-0.0012529388768598437, rank=1, decoded_token=' and')}, {13328: Logprob(logprob=-0.6931473016738892, rank=1, decoded_token=' yellow')}, {467: Logprob(logprob=-0.00183723377995193, rank=1, decoded_token=').')}, {13: Logprob(logprob=-0.0049437666311860085, rank=1, decoded_token='\\n')}, {13: Logprob(logprob=0.0, rank=1, decoded_token='\\n')}, {23036: Logprob(logprob=-1.0615183115005493, rank=1, decoded_token='Since')}, {278: Logprob(logprob=-0.872076690196991, rank=1, decoded_token=' the')}, {7254: Logprob(logprob=-0.056553468108177185, rank=1, decoded_token=' blue')}, {3578: Logprob(logprob=-0.02991911582648754, rank=1, decoded_token=' light')}, {338: Logprob(logprob=-0.0007403731578961015, rank=1, decoded_token=' is')}, {29574: Logprob(logprob=-4.458328112377785e-05, rank=1, decoded_token=' scattered')}, {297: Logprob(logprob=-0.07897688448429108, rank=1, decoded_token=' in')}, {599: Logprob(logprob=-0.0011616155970841646, rank=1, decoded_token=' all')}, {18112: Logprob(logprob=0.0, rank=1, decoded_token=' directions')}, {29892: Logprob(logprob=-0.4983263909816742, rank=1, decoded_token=',')}, {372: Logprob(logprob=-0.008451765403151512, rank=1, decoded_token=' it')}, {22170: Logprob(logprob=-0.21718809008598328, rank=1, decoded_token=' reaches')}, {1749: Logprob(logprob=-6.198863957251888e-06, rank=1, decoded_token=' our')}, {5076: Logprob(logprob=0.0, rank=1, decoded_token=' eyes')}, {515: Logprob(logprob=-0.002571611199527979, rank=1, decoded_token=' from')}, {1784: Logprob(logprob=-5.8363189697265625, rank=5, decoded_token=' many'), 599: Logprob(logprob=-0.3363192081451416, rank=1, decoded_token=' all')}, {1422: Logprob(logprob=-0.32657527923583984, rank=1, decoded_token=' different')}, {23619: Logprob(logprob=-0.0487268790602684, rank=1, decoded_token=' angles')}, {29892: Logprob(logprob=-0.1330586075782776, rank=1, decoded_token=',')}, {3907: Logprob(logprob=-0.35135674476623535, rank=1, decoded_token=' making')}, {278: Logprob(logprob=-0.0005389191792346537, rank=1, decoded_token=' the')}, {14744: Logprob(logprob=-0.00015114595589693636, rank=1, decoded_token=' sky')}, {2615: Logprob(logprob=-0.006753476802259684, rank=1, decoded_token=' appear')}, {7254: Logprob(logprob=-0.029827596619725227, rank=1, decoded_token=' blue')}], finish_reason=length, stop_reason=None),\n",
       "  CompletionOutput(index=4, text=\" The sky appears blue due to the scattering of sunlight by the Earth's atmosphere. Sunlight is composed of different colors, which are scattered in all directions by the gases and particles in the air. Blue light is scattered more than other colors because it travels as shorter, smaller waves. This is why we see a blue sky most of the time.\\n\\n\\n### Instruction 2 (Much more difficult, with at least 5 more constraints)\\n\\n\\n**Instruction:**\\n\\nIn the context of a research paper on the effect of urbanization on local bird populations, craft an abstract\", token_ids=array('l', [450, 14744, 5692, 7254, 2861, 304, 278, 14801, 292, 310, 6575, 4366, 491, 278, 11563, 29915, 29879, 25005, 29889, 8991, 4366, 338, 13725, 310, 1422, 11955, 29892, 607, 526, 29574, 297, 599, 18112, 491, 278, 330, 2129, 322, 17105, 297, 278, 4799, 29889, 10924, 3578, 338, 29574, 901, 1135, 916, 11955, 1363, 372, 9850, 29879, 408, 20511, 29892, 7968, 20037, 29889, 910, 338, 2020, 591, 1074, 263, 7254, 14744, 1556, 310, 278, 931, 29889, 13, 13, 13, 2277, 29937, 2799, 4080, 29871, 29906, 313, 29924, 987, 901, 5189, 29892, 411, 472, 3203, 29871, 29945, 901, 11938, 29897, 13, 13, 13, 1068, 3379, 4080, 29901, 1068, 13, 13, 797, 278, 3030, 310, 263, 5925, 5650, 373, 278, 2779, 310, 17164, 2133, 373, 1887, 11199, 23093, 29892, 25554, 385, 9846]), cumulative_logprob=-38.32083977337463, logprobs=[{450: Logprob(logprob=-1.5548059940338135, rank=2, decoded_token=' The'), 13: Logprob(logprob=-0.5548060536384583, rank=1, decoded_token='\\n')}, {14744: Logprob(logprob=-0.11429690569639206, rank=1, decoded_token=' sky')}, {5692: Logprob(logprob=-0.01405272725969553, rank=1, decoded_token=' appears')}, {7254: Logprob(logprob=-2.50339189733495e-06, rank=1, decoded_token=' blue')}, {2861: Logprob(logprob=-1.18257474899292, rank=2, decoded_token=' due'), 304: Logprob(logprob=-0.6825748085975647, rank=1, decoded_token=' to')}, {304: Logprob(logprob=-1.1920928244535389e-07, rank=1, decoded_token=' to')}, {278: Logprob(logprob=-0.4927804470062256, rank=1, decoded_token=' the')}, {14801: Logprob(logprob=-0.03011762909591198, rank=1, decoded_token=' scatter')}, {292: Logprob(logprob=0.0, rank=1, decoded_token='ing')}, {310: Logprob(logprob=-4.768370445162873e-07, rank=1, decoded_token=' of')}, {6575: Logprob(logprob=-0.0005701346672140062, rank=1, decoded_token=' sun')}, {4366: Logprob(logprob=-1.1920928244535389e-07, rank=1, decoded_token='light')}, {491: Logprob(logprob=-0.0006395916570909321, rank=1, decoded_token=' by')}, {278: Logprob(logprob=-0.0004314445541240275, rank=1, decoded_token=' the')}, {11563: Logprob(logprob=-0.12944863736629486, rank=1, decoded_token=' Earth')}, {29915: Logprob(logprob=-4.541770613286644e-05, rank=1, decoded_token=\"'\")}, {29879: Logprob(logprob=0.0, rank=1, decoded_token='s')}, {25005: Logprob(logprob=0.0, rank=1, decoded_token=' atmosphere')}, {29889: Logprob(logprob=-7.64102369430475e-05, rank=1, decoded_token='.')}, {8991: Logprob(logprob=-0.3221481144428253, rank=1, decoded_token=' Sun')}, {4366: Logprob(logprob=0.0, rank=1, decoded_token='light')}, {338: Logprob(logprob=-0.5530487298965454, rank=1, decoded_token=' is')}, {13725: Logprob(logprob=-0.9747216105461121, rank=2, decoded_token=' composed'), 1754: Logprob(logprob=-0.47472161054611206, rank=1, decoded_token=' made')}, {310: Logprob(logprob=0.0, rank=1, decoded_token=' of')}, {1422: Logprob(logprob=-1.0018799304962158, rank=2, decoded_token=' different'), 5164: Logprob(logprob=-0.5018799901008606, rank=1, decoded_token=' various')}, {11955: Logprob(logprob=-4.911301948595792e-05, rank=1, decoded_token=' colors')}, {29892: Logprob(logprob=-0.14102040231227875, rank=1, decoded_token=',')}, {607: Logprob(logprob=-0.33689677715301514, rank=1, decoded_token=' which')}, {526: Logprob(logprob=-0.3616168797016144, rank=1, decoded_token=' are')}, {29574: Logprob(logprob=-0.023307640105485916, rank=1, decoded_token=' scattered')}, {297: Logprob(logprob=-0.07838141918182373, rank=1, decoded_token=' in')}, {599: Logprob(logprob=-0.30656278133392334, rank=1, decoded_token=' all')}, {18112: Logprob(logprob=-8.344646857949556e-07, rank=1, decoded_token=' directions')}, {491: Logprob(logprob=-0.20836566388607025, rank=1, decoded_token=' by')}, {278: Logprob(logprob=-0.006554296240210533, rank=1, decoded_token=' the')}, {330: Logprob(logprob=-0.02335166186094284, rank=1, decoded_token=' g')}, {2129: Logprob(logprob=-1.4305104514278355e-06, rank=1, decoded_token='ases')}, {322: Logprob(logprob=-1.6689286894688848e-06, rank=1, decoded_token=' and')}, {17105: Logprob(logprob=-5.006777428206988e-06, rank=1, decoded_token=' particles')}, {297: Logprob(logprob=-7.629365427419543e-06, rank=1, decoded_token=' in')}, {278: Logprob(logprob=-0.00020358874462544918, rank=1, decoded_token=' the')}, {4799: Logprob(logprob=-0.47476696968078613, rank=1, decoded_token=' air')}, {29889: Logprob(logprob=-7.271740287251305e-06, rank=1, decoded_token='.')}, {10924: Logprob(logprob=-0.0003909300430677831, rank=1, decoded_token=' Blue')}, {3578: Logprob(logprob=-1.7881377516459906e-06, rank=1, decoded_token=' light')}, {338: Logprob(logprob=-0.012937772087752819, rank=1, decoded_token=' is')}, {29574: Logprob(logprob=0.0, rank=1, decoded_token=' scattered')}, {901: Logprob(logprob=-9.536697689327411e-06, rank=1, decoded_token=' more')}, {1135: Logprob(logprob=-0.00013481661153491586, rank=1, decoded_token=' than')}, {916: Logprob(logprob=-0.004088496323674917, rank=1, decoded_token=' other')}, {11955: Logprob(logprob=-1.1920928244535389e-07, rank=1, decoded_token=' colors')}, {1363: Logprob(logprob=-1.2636104656849056e-05, rank=1, decoded_token=' because')}, {372: Logprob(logprob=-2.3841855067985307e-07, rank=1, decoded_token=' it')}, {9850: Logprob(logprob=-0.00020621081057470292, rank=1, decoded_token=' travel')}, {29879: Logprob(logprob=0.0, rank=1, decoded_token='s')}, {408: Logprob(logprob=-0.6931700706481934, rank=1, decoded_token=' as'), 297: Logprob(logprob=-0.6931700706481934, rank=1, decoded_token=' in')}, {20511: Logprob(logprob=-4.625213477993384e-05, rank=1, decoded_token=' shorter')}, {29892: Logprob(logprob=0.0, rank=1, decoded_token=',')}, {7968: Logprob(logprob=0.0, rank=1, decoded_token=' smaller')}, {20037: Logprob(logprob=-1.1920928244535389e-07, rank=1, decoded_token=' waves')}, {29889: Logprob(logprob=-0.0007064230740070343, rank=1, decoded_token='.')}, {910: Logprob(logprob=-0.00045074793160893023, rank=1, decoded_token=' This')}, {338: Logprob(logprob=-0.11416791379451752, rank=1, decoded_token=' is')}, {2020: Logprob(logprob=-0.6967477202415466, rank=1, decoded_token=' why')}, {591: Logprob(logprob=-0.004359859973192215, rank=1, decoded_token=' we')}, {1074: Logprob(logprob=-0.002509898506104946, rank=1, decoded_token=' see')}, {263: Logprob(logprob=-0.011093958280980587, rank=1, decoded_token=' a')}, {7254: Logprob(logprob=-1.0967194612021558e-05, rank=1, decoded_token=' blue')}, {14744: Logprob(logprob=-1.0609570381348021e-05, rank=1, decoded_token=' sky')}, {1556: Logprob(logprob=-5.483612312673358e-06, rank=1, decoded_token=' most')}, {310: Logprob(logprob=-1.1920928244535389e-07, rank=1, decoded_token=' of')}, {278: Logprob(logprob=0.0, rank=1, decoded_token=' the')}, {931: Logprob(logprob=-1.0251946150674485e-05, rank=1, decoded_token=' time')}, {29889: Logprob(logprob=-0.0030673143919557333, rank=1, decoded_token='.')}, {13: Logprob(logprob=-0.18432508409023285, rank=1, decoded_token='\\n')}, {13: Logprob(logprob=-1.1920858014491387e-05, rank=1, decoded_token='\\n')}, {13: Logprob(logprob=-0.19140499830245972, rank=1, decoded_token='\\n')}, {2277: Logprob(logprob=-0.656046450138092, rank=1, decoded_token='##')}, {29937: Logprob(logprob=-0.8719475269317627, rank=1, decoded_token='#'), 2799: Logprob(logprob=-0.8719475269317627, rank=1, decoded_token=' Inst')}, {2799: Logprob(logprob=-0.42479372024536133, rank=1, decoded_token=' Inst')}, {4080: Logprob(logprob=-1.1920928244535389e-07, rank=1, decoded_token='ruction')}, {29871: Logprob(logprob=-0.20240481197834015, rank=1, decoded_token=' ')}, {29906: Logprob(logprob=-0.00021526881027966738, rank=1, decoded_token='2')}, {313: Logprob(logprob=-0.05238162353634834, rank=1, decoded_token=' (')}, {29924: Logprob(logprob=-0.7347672581672668, rank=1, decoded_token='M'), 20761: Logprob(logprob=-0.7347672581672668, rank=1, decoded_token='More')}, {987: Logprob(logprob=0.0, rank=1, decoded_token='uch')}, {901: Logprob(logprob=-0.07938823848962784, rank=1, decoded_token=' more')}, {5189: Logprob(logprob=-2.312633478140924e-05, rank=1, decoded_token=' difficult')}, {29892: Logprob(logprob=-1.3221514225006104, rank=2, decoded_token=','), 411: Logprob(logprob=-0.32215139269828796, rank=1, decoded_token=' with')}, {411: Logprob(logprob=-0.005184776149690151, rank=1, decoded_token=' with')}, {472: Logprob(logprob=-0.035560909658670425, rank=1, decoded_token=' at')}, {3203: Logprob(logprob=0.0, rank=1, decoded_token=' least')}, {29871: Logprob(logprob=-0.029780155047774315, rank=1, decoded_token=' ')}, {29945: Logprob(logprob=-0.16826333105564117, rank=1, decoded_token='5')}, {901: Logprob(logprob=-0.02013213373720646, rank=1, decoded_token=' more')}, {11938: Logprob(logprob=0.0, rank=1, decoded_token=' constraints')}, {29897: Logprob(logprob=-0.1269698441028595, rank=1, decoded_token=')')}, {13: Logprob(logprob=-0.0001311216183239594, rank=1, decoded_token='\\n')}, {13: Logprob(logprob=-3.2066785934148356e-05, rank=1, decoded_token='\\n')}, {13: Logprob(logprob=-0.15033955872058868, rank=1, decoded_token='\\n')}, {1068: Logprob(logprob=-0.8447204232215881, rank=1, decoded_token='**')}, {3379: Logprob(logprob=-0.10440416634082794, rank=1, decoded_token='Inst')}, {4080: Logprob(logprob=-1.7165990357170813e-05, rank=1, decoded_token='ruction')}, {29901: Logprob(logprob=-0.02985166199505329, rank=1, decoded_token=':')}, {1068: Logprob(logprob=-9.179073458653875e-06, rank=1, decoded_token='**')}, {13: Logprob(logprob=-0.00103586888872087, rank=1, decoded_token='\\n')}, {13: Logprob(logprob=0.0, rank=1, decoded_token='\\n')}, {797: Logprob(logprob=-5.063201904296875, rank=6, decoded_token='In'), 13: Logprob(logprob=-0.5632017850875854, rank=1, decoded_token='\\n')}, {278: Logprob(logprob=-0.3586841821670532, rank=1, decoded_token=' the')}, {3030: Logprob(logprob=-0.04056866466999054, rank=1, decoded_token=' context')}, {310: Logprob(logprob=-1.4305104514278355e-06, rank=1, decoded_token=' of')}, {263: Logprob(logprob=-1.089110255241394, rank=2, decoded_token=' a'), 278: Logprob(logprob=-0.589110255241394, rank=1, decoded_token=' the')}, {5925: Logprob(logprob=-2.8964028358459473, rank=3, decoded_token=' research'), 1880: Logprob(logprob=-0.896402895450592, rank=1, decoded_token=' high')}, {5650: Logprob(logprob=-0.014230323024094105, rank=1, decoded_token=' paper')}, {373: Logprob(logprob=-1.0828520059585571, rank=2, decoded_token=' on'), 5353: Logprob(logprob=-0.5828520059585571, rank=1, decoded_token=' discuss')}, {278: Logprob(logprob=-0.06739907711744308, rank=1, decoded_token=' the')}, {2779: Logprob(logprob=-4.682270526885986, rank=7, decoded_token=' effect'), 10879: Logprob(logprob=-0.6822704672813416, rank=1, decoded_token=' impact')}, {310: Logprob(logprob=-1.7014135122299194, rank=2, decoded_token=' of'), 20193: Logprob(logprob=-0.20141352713108063, rank=1, decoded_token='iveness')}, {17164: Logprob(logprob=-0.712543249130249, rank=1, decoded_token=' urban')}, {2133: Logprob(logprob=-0.1346474289894104, rank=1, decoded_token='ization')}, {373: Logprob(logprob=-3.933898824470816e-06, rank=1, decoded_token=' on')}, {1887: Logprob(logprob=-0.04352996498346329, rank=1, decoded_token=' local')}, {11199: Logprob(logprob=-0.27022090554237366, rank=1, decoded_token=' bird')}, {23093: Logprob(logprob=-0.03010062500834465, rank=1, decoded_token=' populations')}, {29892: Logprob(logprob=-0.011197463609278202, rank=1, decoded_token=',')}, {25554: Logprob(logprob=-1.6762378215789795, rank=1, decoded_token=' craft'), 3867: Logprob(logprob=-1.6762378215789795, rank=1, decoded_token=' provide')}, {385: Logprob(logprob=-2.1269562244415283, rank=2, decoded_token=' an'), 263: Logprob(logprob=-0.12695619463920593, rank=1, decoded_token=' a')}, {9846: Logprob(logprob=-0.2060905247926712, rank=1, decoded_token=' abstract')}], finish_reason=length, stop_reason=None)],\n",
       " 'finished': True,\n",
       " 'metrics': RequestMetrics(arrival_time=1724728819.0514147, last_token_time=1724728819.0514147, first_scheduled_time=1724728819.0537288, first_token_time=1724728819.0961637, time_in_queue=0.0023140907287597656, finished_time=1724728820.593721, scheduler_time=0.01197593126562424, model_forward_time=None, model_execute_time=None),\n",
       " 'lora_request': None,\n",
       " 'encoder_prompt': None,\n",
       " 'encoder_prompt_token_ids': None}"
      ]
     },
     "execution_count": 16,
     "metadata": {},
     "output_type": "execute_result"
    }
   ],
   "source": [
    "vars(res[0])"
   ]
  },
  {
   "cell_type": "code",
   "execution_count": 23,
   "metadata": {},
   "outputs": [],
   "source": [
    "out00 = res[0].outputs[0]"
   ]
  },
  {
   "cell_type": "code",
   "execution_count": 25,
   "metadata": {},
   "outputs": [
    {
     "data": {
      "text/plain": [
       "{'index': 3,\n",
       " 'text': \"\\n\\n# Answer\\nThe sky appears blue due to a phenomenon called Rayleigh scattering. This occurs when molecules and small particles in the Earth's atmosphere scatter sunlight in all directions. Sunlight is made up of different colors, which have different wavelengths. Blue light has a shorter wavelength and is scattered more than other colors because it travels as shorter, smaller waves. This scattering causes the sky to look blue in our daytime sky. During sunrise and sunset, the sky can appear red or orange because the light path through the atmosphere is longer, which means more blue\",\n",
       " 'token_ids': array('l', [13, 13, 29937, 673, 13, 1576, 14744, 5692, 7254, 2861, 304, 263, 27791, 265, 2000, 9596, 280, 1141, 14801, 292, 29889, 910, 10008, 746, 13206, 21337, 322, 2319, 17105, 297, 278, 11563, 29915, 29879, 25005, 14801, 6575, 4366, 297, 599, 18112, 29889, 8991, 4366, 338, 1754, 701, 310, 1422, 11955, 29892, 607, 505, 1422, 281, 6447, 1477, 29879, 29889, 10924, 3578, 756, 263, 20511, 281, 6447, 1477, 322, 338, 29574, 901, 1135, 916, 11955, 1363, 372, 9850, 29879, 408, 20511, 29892, 7968, 20037, 29889, 910, 14801, 292, 9946, 278, 14744, 304, 1106, 7254, 297, 1749, 2462, 2230, 14744, 29889, 7133, 6575, 29878, 895, 322, 6575, 842, 29892, 278, 14744, 508, 2615, 2654, 470, 24841, 1363, 278, 3578, 2224, 1549, 278, 25005, 338, 5520, 29892, 607, 2794, 901, 7254]),\n",
       " 'cumulative_logprob': -25.658500007290222,\n",
       " 'logprobs': [{13: Logprob(logprob=-0.5548060536384583, rank=1, decoded_token='\\n')},\n",
       "  {13: Logprob(logprob=-0.007244863081723452, rank=1, decoded_token='\\n')},\n",
       "  {29937: Logprob(logprob=-0.21312901377677917, rank=1, decoded_token='#')},\n",
       "  {673: Logprob(logprob=-0.0005565524916164577, rank=1, decoded_token=' Answer')},\n",
       "  {13: Logprob(logprob=-0.001105769770219922, rank=1, decoded_token='\\n')},\n",
       "  {1576: Logprob(logprob=-0.0003357561945449561, rank=1, decoded_token='The')},\n",
       "  {14744: Logprob(logprob=-0.00025567124248482287, rank=1, decoded_token=' sky')},\n",
       "  {5692: Logprob(logprob=-0.0009177286992780864, rank=1, decoded_token=' appears')},\n",
       "  {7254: Logprob(logprob=0.0, rank=1, decoded_token=' blue')},\n",
       "  {2861: Logprob(logprob=-0.4813370704650879, rank=1, decoded_token=' due')},\n",
       "  {304: Logprob(logprob=-3.576278118089249e-07, rank=1, decoded_token=' to')},\n",
       "  {263: Logprob(logprob=-0.004154385533183813, rank=1, decoded_token=' a')},\n",
       "  {27791: Logprob(logprob=-0.0015481640584766865, rank=1, decoded_token=' phenomen')},\n",
       "  {265: Logprob(logprob=0.0, rank=1, decoded_token='on')},\n",
       "  {2000: Logprob(logprob=-0.004078404977917671, rank=1, decoded_token=' called')},\n",
       "  {9596: Logprob(logprob=0.0, rank=1, decoded_token=' Ray')},\n",
       "  {280: Logprob(logprob=0.0, rank=1, decoded_token='le')},\n",
       "  {1141: Logprob(logprob=0.0, rank=1, decoded_token='igh')},\n",
       "  {14801: Logprob(logprob=-4.541770613286644e-05, rank=1, decoded_token=' scatter')},\n",
       "  {292: Logprob(logprob=0.0, rank=1, decoded_token='ing')},\n",
       "  {29889: Logprob(logprob=-6.198863957251888e-06, rank=1, decoded_token='.')},\n",
       "  {910: Logprob(logprob=-0.43888843059539795, rank=1, decoded_token=' This')},\n",
       "  {10008: Logprob(logprob=-0.3569125831127167, rank=1, decoded_token=' occurs')},\n",
       "  {746: Logprob(logprob=-0.04859130457043648, rank=1, decoded_token=' when')},\n",
       "  {13206: Logprob(logprob=-0.733735978603363, rank=1, decoded_token=' mole'),\n",
       "   6575: Logprob(logprob=-0.733735978603363, rank=1, decoded_token=' sun')},\n",
       "  {21337: Logprob(logprob=0.0, rank=1, decoded_token='cules')},\n",
       "  {322: Logprob(logprob=-0.0002790300059132278, rank=1, decoded_token=' and')},\n",
       "  {2319: Logprob(logprob=-0.0009390473715029657, rank=1, decoded_token=' small')},\n",
       "  {17105: Logprob(logprob=-3.576278118089249e-07, rank=1, decoded_token=' particles')},\n",
       "  {297: Logprob(logprob=-4.768370445162873e-07, rank=1, decoded_token=' in')},\n",
       "  {278: Logprob(logprob=-0.07888985425233841, rank=1, decoded_token=' the')},\n",
       "  {11563: Logprob(logprob=-0.0015046000480651855, rank=1, decoded_token=' Earth')},\n",
       "  {29915: Logprob(logprob=-7.486063259420916e-05, rank=1, decoded_token=\"'\")},\n",
       "  {29879: Logprob(logprob=0.0, rank=1, decoded_token='s')},\n",
       "  {25005: Logprob(logprob=0.0, rank=1, decoded_token=' atmosphere')},\n",
       "  {14801: Logprob(logprob=-6.794906312279636e-06, rank=1, decoded_token=' scatter')},\n",
       "  {6575: Logprob(logprob=-0.0005459486856125295, rank=1, decoded_token=' sun')},\n",
       "  {4366: Logprob(logprob=0.0, rank=1, decoded_token='light')},\n",
       "  {297: Logprob(logprob=-0.01116987969726324, rank=1, decoded_token=' in')},\n",
       "  {599: Logprob(logprob=-0.0015487592900171876, rank=1, decoded_token=' all')},\n",
       "  {18112: Logprob(logprob=0.0, rank=1, decoded_token=' directions')},\n",
       "  {29889: Logprob(logprob=-5.566918844124302e-05, rank=1, decoded_token='.')},\n",
       "  {8991: Logprob(logprob=-1.3752977848052979, rank=2, decoded_token=' Sun'),\n",
       "   10924: Logprob(logprob=-0.37529781460762024, rank=1, decoded_token=' Blue')},\n",
       "  {4366: Logprob(logprob=0.0, rank=1, decoded_token='light')},\n",
       "  {338: Logprob(logprob=-0.009251109324395657, rank=1, decoded_token=' is')},\n",
       "  {1754: Logprob(logprob=-0.4741291403770447, rank=1, decoded_token=' made')},\n",
       "  {701: Logprob(logprob=-1.0132738680113107e-05, rank=1, decoded_token=' up')},\n",
       "  {310: Logprob(logprob=0.0, rank=1, decoded_token=' of')},\n",
       "  {1422: Logprob(logprob=-0.10393701493740082, rank=1, decoded_token=' different')},\n",
       "  {11955: Logprob(logprob=-2.062299427052494e-05, rank=1, decoded_token=' colors')},\n",
       "  {29892: Logprob(logprob=-0.14972898364067078, rank=1, decoded_token=',')},\n",
       "  {607: Logprob(logprob=-0.20255523920059204, rank=1, decoded_token=' which')},\n",
       "  {505: Logprob(logprob=-2.2803380489349365, rank=3, decoded_token=' have'),\n",
       "   3928: Logprob(logprob=-0.7803381085395813, rank=1, decoded_token=' correspond')},\n",
       "  {1422: Logprob(logprob=-0.15402792394161224, rank=1, decoded_token=' different')},\n",
       "  {281: Logprob(logprob=-1.6689286894688848e-06, rank=1, decoded_token=' w')},\n",
       "  {6447: Logprob(logprob=0.0, rank=1, decoded_token='avel')},\n",
       "  {1477: Logprob(logprob=0.0, rank=1, decoded_token='ength')},\n",
       "  {29879: Logprob(logprob=0.0, rank=1, decoded_token='s')},\n",
       "  {29889: Logprob(logprob=-3.981510963058099e-05, rank=1, decoded_token='.')},\n",
       "  {10924: Logprob(logprob=-0.1277618110179901, rank=1, decoded_token=' Blue')},\n",
       "  {3578: Logprob(logprob=-2.7418097943154862e-06, rank=1, decoded_token=' light')},\n",
       "  {756: Logprob(logprob=-0.0001805857609724626, rank=1, decoded_token=' has')},\n",
       "  {263: Logprob(logprob=-0.0015046000480651855, rank=1, decoded_token=' a')},\n",
       "  {20511: Logprob(logprob=-1.1920928244535389e-07, rank=1, decoded_token=' shorter')},\n",
       "  {281: Logprob(logprob=-0.048907049000263214, rank=1, decoded_token=' w')},\n",
       "  {6447: Logprob(logprob=0.0, rank=1, decoded_token='avel')},\n",
       "  {1477: Logprob(logprob=0.0, rank=1, decoded_token='ength')},\n",
       "  {322: Logprob(logprob=-0.005853297654539347, rank=1, decoded_token=' and')},\n",
       "  {338: Logprob(logprob=-0.0012269833823665977, rank=1, decoded_token=' is')},\n",
       "  {29574: Logprob(logprob=-0.00012420836719684303, rank=1, decoded_token=' scattered')},\n",
       "  {901: Logprob(logprob=-0.003974278457462788, rank=1, decoded_token=' more')},\n",
       "  {1135: Logprob(logprob=-0.13681082427501678, rank=1, decoded_token=' than')},\n",
       "  {916: Logprob(logprob=-0.0009137984015978873, rank=1, decoded_token=' other')},\n",
       "  {11955: Logprob(logprob=-0.0002047805901383981, rank=1, decoded_token=' colors')},\n",
       "  {1363: Logprob(logprob=-0.00692195538431406, rank=1, decoded_token=' because')},\n",
       "  {372: Logprob(logprob=-0.00016830935783218592, rank=1, decoded_token=' it')},\n",
       "  {9850: Logprob(logprob=-0.0043580797500908375, rank=1, decoded_token=' travel')},\n",
       "  {29879: Logprob(logprob=0.0, rank=1, decoded_token='s')},\n",
       "  {408: Logprob(logprob=-0.0789617970585823, rank=1, decoded_token=' as')},\n",
       "  {20511: Logprob(logprob=-0.01104797888547182, rank=1, decoded_token=' shorter')},\n",
       "  {29892: Logprob(logprob=0.0, rank=1, decoded_token=',')},\n",
       "  {7968: Logprob(logprob=0.0, rank=1, decoded_token=' smaller')},\n",
       "  {20037: Logprob(logprob=-0.0001250427303602919, rank=1, decoded_token=' waves')},\n",
       "  {29889: Logprob(logprob=-3.373566141817719e-05, rank=1, decoded_token='.')},\n",
       "  {910: Logprob(logprob=-1.1900256872177124, rank=2, decoded_token=' This'),\n",
       "   1932: Logprob(logprob=-0.6900256872177124, rank=1, decoded_token=' When')},\n",
       "  {14801: Logprob(logprob=-0.4078463017940521, rank=1, decoded_token=' scatter')},\n",
       "  {292: Logprob(logprob=-5.960462772236497e-07, rank=1, decoded_token='ing')},\n",
       "  {9946: Logprob(logprob=-0.008556017652153969, rank=1, decoded_token=' causes')},\n",
       "  {278: Logprob(logprob=-0.0034633437171578407, rank=1, decoded_token=' the')},\n",
       "  {14744: Logprob(logprob=-1.314157247543335, rank=2, decoded_token=' sky'),\n",
       "   7254: Logprob(logprob=-0.31415730714797974, rank=1, decoded_token=' blue')},\n",
       "  {304: Logprob(logprob=-1.7881377516459906e-06, rank=1, decoded_token=' to')},\n",
       "  {1106: Logprob(logprob=-0.1273348331451416, rank=1, decoded_token=' look')},\n",
       "  {7254: Logprob(logprob=-2.8490614567999728e-05, rank=1, decoded_token=' blue')},\n",
       "  {297: Logprob(logprob=-0.5838068127632141, rank=1, decoded_token=' in')},\n",
       "  {1749: Logprob(logprob=-0.4523019790649414, rank=1, decoded_token=' our')},\n",
       "  {2462: Logprob(logprob=-0.24752070009708405, rank=1, decoded_token=' day')},\n",
       "  {2230: Logprob(logprob=-0.007621733006089926, rank=1, decoded_token='time')},\n",
       "  {14744: Logprob(logprob=-0.7771252393722534, rank=1, decoded_token=' sky'),\n",
       "   1776: Logprob(logprob=-0.7771252393722534, rank=1, decoded_token=' view')},\n",
       "  {29889: Logprob(logprob=-0.21053937077522278, rank=1, decoded_token='.')},\n",
       "  {7133: Logprob(logprob=-0.8807985782623291, rank=1, decoded_token=' During'),\n",
       "   1932: Logprob(logprob=-0.8807985782623291, rank=1, decoded_token=' When')},\n",
       "  {6575: Logprob(logprob=-8.34461570775602e-06, rank=1, decoded_token=' sun')},\n",
       "  {29878: Logprob(logprob=-0.0005719218170270324, rank=1, decoded_token='r')},\n",
       "  {895: Logprob(logprob=0.0, rank=1, decoded_token='ise')},\n",
       "  {322: Logprob(logprob=-0.018149960786104202, rank=1, decoded_token=' and')},\n",
       "  {6575: Logprob(logprob=0.0, rank=1, decoded_token=' sun')},\n",
       "  {842: Logprob(logprob=-4.768370445162873e-07, rank=1, decoded_token='set')},\n",
       "  {29892: Logprob(logprob=-2.7418097943154862e-06, rank=1, decoded_token=',')},\n",
       "  {278: Logprob(logprob=-0.01828504540026188, rank=1, decoded_token=' the')},\n",
       "  {14744: Logprob(logprob=-0.06596850603818893, rank=1, decoded_token=' sky')},\n",
       "  {508: Logprob(logprob=-0.5707978010177612, rank=1, decoded_token=' can')},\n",
       "  {2615: Logprob(logprob=-0.3174828588962555, rank=1, decoded_token=' appear')},\n",
       "  {2654: Logprob(logprob=-0.00564267672598362, rank=1, decoded_token=' red')},\n",
       "  {470: Logprob(logprob=-0.019575266167521477, rank=1, decoded_token=' or')},\n",
       "  {24841: Logprob(logprob=-2.825220326485578e-05, rank=1, decoded_token=' orange')},\n",
       "  {1363: Logprob(logprob=-0.04286675527691841, rank=1, decoded_token=' because')},\n",
       "  {278: Logprob(logprob=-7.033323527139146e-06, rank=1, decoded_token=' the')},\n",
       "  {3578: Logprob(logprob=-2.1272568702697754, rank=2, decoded_token=' light'),\n",
       "   6575: Logprob(logprob=-0.12725695967674255, rank=1, decoded_token=' sun')},\n",
       "  {2224: Logprob(logprob=-1.7487620115280151, rank=2, decoded_token=' path'),\n",
       "   756: Logprob(logprob=-0.24876196682453156, rank=1, decoded_token=' has')},\n",
       "  {1549: Logprob(logprob=-0.0002300474588992074, rank=1, decoded_token=' through')},\n",
       "  {278: Logprob(logprob=-2.074220174108632e-05, rank=1, decoded_token=' the')},\n",
       "  {25005: Logprob(logprob=-0.0001299296854995191, rank=1, decoded_token=' atmosphere')},\n",
       "  {338: Logprob(logprob=-0.0001289761275984347, rank=1, decoded_token=' is')},\n",
       "  {5520: Logprob(logprob=-0.0011622109450399876, rank=1, decoded_token=' longer')},\n",
       "  {29892: Logprob(logprob=-0.07891199737787247, rank=1, decoded_token=',')},\n",
       "  {607: Logprob(logprob=-1.761132836341858, rank=3, decoded_token=' which'),\n",
       "   322: Logprob(logprob=-0.7611328363418579, rank=1, decoded_token=' and')},\n",
       "  {2794: Logprob(logprob=-3.0621681213378906, rank=2, decoded_token=' means'),\n",
       "   885: Logprob(logprob=-0.06216815859079361, rank=1, decoded_token=' sc')},\n",
       "  {901: Logprob(logprob=-0.5011276602745056, rank=1, decoded_token=' more')},\n",
       "  {7254: Logprob(logprob=-0.9858677983283997, rank=2, decoded_token=' blue'),\n",
       "   14801: Logprob(logprob=-0.48586779832839966, rank=1, decoded_token=' scatter')}],\n",
       " 'finish_reason': 'length',\n",
       " 'stop_reason': None,\n",
       " 'lora_request': None}"
      ]
     },
     "execution_count": 25,
     "metadata": {},
     "output_type": "execute_result"
    }
   ],
   "source": [
    "vars(out00)"
   ]
  },
  {
   "cell_type": "code",
   "execution_count": 2,
   "metadata": {},
   "outputs": [],
   "source": [
    "dsp_v1_id = \"deepseek-ai/DeepSeek-Prover-V1\""
   ]
  },
  {
   "cell_type": "code",
   "execution_count": 3,
   "metadata": {},
   "outputs": [
    {
     "name": "stdout",
     "output_type": "stream",
     "text": [
      "INFO 08-27 05:57:31 llm_engine.py:184] Initializing an LLM engine (v0.5.5) with config: model='deepseek-ai/DeepSeek-Prover-V1', speculative_config=None, tokenizer='deepseek-ai/DeepSeek-Prover-V1', skip_tokenizer_init=False, tokenizer_mode=auto, revision=None, rope_scaling=None, rope_theta=None, tokenizer_revision=None, trust_remote_code=True, dtype=torch.bfloat16, max_seq_len=1024, download_dir=None, load_format=LoadFormat.AUTO, tensor_parallel_size=1, pipeline_parallel_size=1, disable_custom_all_reduce=False, quantization=None, enforce_eager=False, kv_cache_dtype=auto, quantization_param_path=None, device_config=cuda, decoding_config=DecodingConfig(guided_decoding_backend='outlines'), observability_config=ObservabilityConfig(otlp_traces_endpoint=None, collect_model_forward_time=False, collect_model_execute_time=False), seed=0, served_model_name=deepseek-ai/DeepSeek-Prover-V1, use_v2_block_manager=False, enable_prefix_caching=False)\n"
     ]
    },
    {
     "name": "stdout",
     "output_type": "stream",
     "text": [
      "INFO 08-27 05:57:38 model_runner.py:879] Starting to load model deepseek-ai/DeepSeek-Prover-V1...\n",
      "INFO 08-27 05:57:38 weight_utils.py:236] Using model weights format ['*.safetensors']\n"
     ]
    },
    {
     "name": "stderr",
     "output_type": "stream",
     "text": [
      "Loading safetensors checkpoint shards:   0% Completed | 0/2 [00:00<?, ?it/s]\n",
      "Loading safetensors checkpoint shards:  50% Completed | 1/2 [00:01<00:01,  1.36s/it]\n",
      "Loading safetensors checkpoint shards: 100% Completed | 2/2 [00:03<00:00,  1.92s/it]\n",
      "Loading safetensors checkpoint shards: 100% Completed | 2/2 [00:03<00:00,  1.83s/it]\n",
      "\n"
     ]
    },
    {
     "name": "stdout",
     "output_type": "stream",
     "text": [
      "INFO 08-27 05:57:42 model_runner.py:890] Loading model weights took 12.8725 GB\n",
      "INFO 08-27 05:57:43 gpu_executor.py:121] # GPU blocks: 2919, # CPU blocks: 546\n",
      "INFO 08-27 05:57:46 model_runner.py:1181] Capturing the model for CUDA graphs. This may lead to unexpected consequences if the model is not static. To run the model in eager mode, set 'enforce_eager=True' or use '--enforce-eager' in the CLI.\n",
      "INFO 08-27 05:57:46 model_runner.py:1185] CUDA graphs can take additional 1~3 GiB memory per GPU. If you are running out of memory, consider decreasing `gpu_memory_utilization` or enforcing eager mode. You can also reduce the `max_num_seqs` as needed to decrease memory usage.\n",
      "INFO 08-27 05:58:01 model_runner.py:1300] Graph capturing finished in 15 secs.\n"
     ]
    }
   ],
   "source": [
    "dspv1 = LLM(model=dsp_v1_id, max_model_len=1024, trust_remote_code=True)"
   ]
  },
  {
   "cell_type": "code",
   "execution_count": 4,
   "metadata": {},
   "outputs": [],
   "source": [
    "del dspv1"
   ]
  },
  {
   "cell_type": "code",
   "execution_count": 5,
   "metadata": {},
   "outputs": [],
   "source": [
    "import torch\n",
    "import gc"
   ]
  },
  {
   "cell_type": "code",
   "execution_count": 6,
   "metadata": {},
   "outputs": [],
   "source": [
    "torch.cuda.empty_cache()"
   ]
  },
  {
   "cell_type": "code",
   "execution_count": 7,
   "metadata": {},
   "outputs": [
    {
     "data": {
      "text/plain": [
       "4405"
      ]
     },
     "execution_count": 7,
     "metadata": {},
     "output_type": "execute_result"
    }
   ],
   "source": [
    "gc.collect()"
   ]
  },
  {
   "cell_type": "code",
   "execution_count": null,
   "metadata": {},
   "outputs": [],
   "source": []
  },
  {
   "cell_type": "markdown",
   "metadata": {},
   "source": [
    "# HF now"
   ]
  },
  {
   "cell_type": "code",
   "execution_count": 1,
   "metadata": {},
   "outputs": [],
   "source": [
    "from transformers import AutoTokenizer, AutoModelForCausalLM"
   ]
  },
  {
   "cell_type": "code",
   "execution_count": 2,
   "metadata": {},
   "outputs": [],
   "source": [
    "dsp_v1_id = \"deepseek-ai/DeepSeek-Prover-V1\""
   ]
  },
  {
   "cell_type": "code",
   "execution_count": 3,
   "metadata": {},
   "outputs": [],
   "source": [
    "dspv1_tok = AutoTokenizer.from_pretrained(dsp_v1_id)"
   ]
  },
  {
   "cell_type": "code",
   "execution_count": 5,
   "metadata": {},
   "outputs": [
    {
     "ename": "AttributeError",
     "evalue": "module 'transformers_modules.deepseek-ai.DeepSeek-Prover-V1.c157dff4d8478ab960acdebcbf1ccd15d5267b56.modeling_deepseek' has no attribute 'DeepseekForCausalLM'",
     "output_type": "error",
     "traceback": [
      "\u001b[0;31m---------------------------------------------------------------------------\u001b[0m",
      "\u001b[0;31mAttributeError\u001b[0m                            Traceback (most recent call last)",
      "Cell \u001b[0;32mIn[5], line 1\u001b[0m\n\u001b[0;32m----> 1\u001b[0m dspv1 \u001b[38;5;241m=\u001b[39m \u001b[43mAutoModelForCausalLM\u001b[49m\u001b[38;5;241;43m.\u001b[39;49m\u001b[43mfrom_pretrained\u001b[49m\u001b[43m(\u001b[49m\u001b[43mdsp_v1_id\u001b[49m\u001b[43m,\u001b[49m\u001b[43m \u001b[49m\u001b[43mtrust_remote_code\u001b[49m\u001b[38;5;241;43m=\u001b[39;49m\u001b[38;5;28;43;01mTrue\u001b[39;49;00m\u001b[43m)\u001b[49m\n",
      "File \u001b[0;32m/opt/conda/envs/gfn/lib/python3.10/site-packages/transformers/models/auto/auto_factory.py:551\u001b[0m, in \u001b[0;36m_BaseAutoModelClass.from_pretrained\u001b[0;34m(cls, pretrained_model_name_or_path, *model_args, **kwargs)\u001b[0m\n\u001b[1;32m    549\u001b[0m \u001b[38;5;28;01mif\u001b[39;00m has_remote_code \u001b[38;5;129;01mand\u001b[39;00m trust_remote_code:\n\u001b[1;32m    550\u001b[0m     class_ref \u001b[38;5;241m=\u001b[39m config\u001b[38;5;241m.\u001b[39mauto_map[\u001b[38;5;28mcls\u001b[39m\u001b[38;5;241m.\u001b[39m\u001b[38;5;18m__name__\u001b[39m]\n\u001b[0;32m--> 551\u001b[0m     model_class \u001b[38;5;241m=\u001b[39m \u001b[43mget_class_from_dynamic_module\u001b[49m\u001b[43m(\u001b[49m\n\u001b[1;32m    552\u001b[0m \u001b[43m        \u001b[49m\u001b[43mclass_ref\u001b[49m\u001b[43m,\u001b[49m\u001b[43m \u001b[49m\u001b[43mpretrained_model_name_or_path\u001b[49m\u001b[43m,\u001b[49m\u001b[43m \u001b[49m\u001b[43mcode_revision\u001b[49m\u001b[38;5;241;43m=\u001b[39;49m\u001b[43mcode_revision\u001b[49m\u001b[43m,\u001b[49m\u001b[43m \u001b[49m\u001b[38;5;241;43m*\u001b[39;49m\u001b[38;5;241;43m*\u001b[39;49m\u001b[43mhub_kwargs\u001b[49m\u001b[43m,\u001b[49m\u001b[43m \u001b[49m\u001b[38;5;241;43m*\u001b[39;49m\u001b[38;5;241;43m*\u001b[39;49m\u001b[43mkwargs\u001b[49m\n\u001b[1;32m    553\u001b[0m \u001b[43m    \u001b[49m\u001b[43m)\u001b[49m\n\u001b[1;32m    554\u001b[0m     _ \u001b[38;5;241m=\u001b[39m hub_kwargs\u001b[38;5;241m.\u001b[39mpop(\u001b[38;5;124m\"\u001b[39m\u001b[38;5;124mcode_revision\u001b[39m\u001b[38;5;124m\"\u001b[39m, \u001b[38;5;28;01mNone\u001b[39;00m)\n\u001b[1;32m    555\u001b[0m     \u001b[38;5;28;01mif\u001b[39;00m os\u001b[38;5;241m.\u001b[39mpath\u001b[38;5;241m.\u001b[39misdir(pretrained_model_name_or_path):\n",
      "File \u001b[0;32m/opt/conda/envs/gfn/lib/python3.10/site-packages/transformers/dynamic_module_utils.py:514\u001b[0m, in \u001b[0;36mget_class_from_dynamic_module\u001b[0;34m(class_reference, pretrained_model_name_or_path, cache_dir, force_download, resume_download, proxies, token, revision, local_files_only, repo_type, code_revision, **kwargs)\u001b[0m\n\u001b[1;32m    501\u001b[0m \u001b[38;5;66;03m# And lastly we get the class inside our newly created module\u001b[39;00m\n\u001b[1;32m    502\u001b[0m final_module \u001b[38;5;241m=\u001b[39m get_cached_module_file(\n\u001b[1;32m    503\u001b[0m     repo_id,\n\u001b[1;32m    504\u001b[0m     module_file \u001b[38;5;241m+\u001b[39m \u001b[38;5;124m\"\u001b[39m\u001b[38;5;124m.py\u001b[39m\u001b[38;5;124m\"\u001b[39m,\n\u001b[0;32m   (...)\u001b[0m\n\u001b[1;32m    512\u001b[0m     repo_type\u001b[38;5;241m=\u001b[39mrepo_type,\n\u001b[1;32m    513\u001b[0m )\n\u001b[0;32m--> 514\u001b[0m \u001b[38;5;28;01mreturn\u001b[39;00m \u001b[43mget_class_in_module\u001b[49m\u001b[43m(\u001b[49m\u001b[43mclass_name\u001b[49m\u001b[43m,\u001b[49m\u001b[43m \u001b[49m\u001b[43mfinal_module\u001b[49m\u001b[43m)\u001b[49m\n",
      "File \u001b[0;32m/opt/conda/envs/gfn/lib/python3.10/site-packages/transformers/dynamic_module_utils.py:213\u001b[0m, in \u001b[0;36mget_class_in_module\u001b[0;34m(class_name, module_path)\u001b[0m\n\u001b[1;32m    211\u001b[0m \u001b[38;5;66;03m# reload in both cases\u001b[39;00m\n\u001b[1;32m    212\u001b[0m module_spec\u001b[38;5;241m.\u001b[39mloader\u001b[38;5;241m.\u001b[39mexec_module(module)\n\u001b[0;32m--> 213\u001b[0m \u001b[38;5;28;01mreturn\u001b[39;00m \u001b[38;5;28;43mgetattr\u001b[39;49m\u001b[43m(\u001b[49m\u001b[43mmodule\u001b[49m\u001b[43m,\u001b[49m\u001b[43m \u001b[49m\u001b[43mclass_name\u001b[49m\u001b[43m)\u001b[49m\n",
      "\u001b[0;31mAttributeError\u001b[0m: module 'transformers_modules.deepseek-ai.DeepSeek-Prover-V1.c157dff4d8478ab960acdebcbf1ccd15d5267b56.modeling_deepseek' has no attribute 'DeepseekForCausalLM'"
     ]
    }
   ],
   "source": [
    "dspv1 = AutoModelForCausalLM.from_pretrained(dsp_v1_id, trust_remote_code=True) "
   ]
  },
  {
   "cell_type": "code",
   "execution_count": 6,
   "metadata": {},
   "outputs": [],
   "source": [
    "llemma = \"EleutherAI/llemma_7b\""
   ]
  },
  {
   "cell_type": "code",
   "execution_count": 8,
   "metadata": {},
   "outputs": [
    {
     "name": "stderr",
     "output_type": "stream",
     "text": [
      "You are using the default legacy behaviour of the <class 'transformers.models.llama.tokenization_llama_fast.LlamaTokenizerFast'>. This is expected, and simply means that the `legacy` (previous) behavior will be used so nothing changes for you. If you want to use the new behaviour, set `legacy=False`. This should only be set if you understand what it means, and thoroughly read the reason why this was added as explained in https://github.com/huggingface/transformers/pull/24565 - if you loaded a llama tokenizer from a GGUF file you can ignore this message.\n"
     ]
    }
   ],
   "source": [
    "llemma_tok = AutoTokenizer.from_pretrained(llemma)"
   ]
  },
  {
   "cell_type": "code",
   "execution_count": 9,
   "metadata": {},
   "outputs": [
    {
     "data": {
      "text/plain": [
       "{'input_ids': [1, 3750, 338, 278, 14744, 7254, 29973], 'attention_mask': [1, 1, 1, 1, 1, 1, 1]}"
      ]
     },
     "execution_count": 9,
     "metadata": {},
     "output_type": "execute_result"
    }
   ],
   "source": [
    "llemma_tok(\"Why is the sky blue?\")"
   ]
  },
  {
   "cell_type": "code",
   "execution_count": 1,
   "metadata": {},
   "outputs": [],
   "source": [
    "from transformers import AutoTokenizer, AutoModelForCausalLM"
   ]
  },
  {
   "cell_type": "code",
   "execution_count": 2,
   "metadata": {},
   "outputs": [],
   "source": [
    "dspv15rl_id = \"deepseek-ai/DeepSeek-Prover-V1.5-RL\"\n",
    "dspv15rl_tok = AutoTokenizer.from_pretrained(dspv15rl_id)"
   ]
  },
  {
   "cell_type": "code",
   "execution_count": 4,
   "metadata": {},
   "outputs": [],
   "source": [
    "dsp_v1_id = \"deepseek-ai/DeepSeek-Prover-V1\""
   ]
  },
  {
   "cell_type": "code",
   "execution_count": 6,
   "metadata": {},
   "outputs": [
    {
     "name": "stderr",
     "output_type": "stream",
     "text": [
      "Loading checkpoint shards: 100%|██████████| 2/2 [00:14<00:00,  7.20s/it]\n"
     ]
    }
   ],
   "source": [
    "dspv1 = AutoModelForCausalLM.from_pretrained(dsp_v1_id, trust_remote_code=True)"
   ]
  },
  {
   "cell_type": "code",
   "execution_count": null,
   "metadata": {},
   "outputs": [],
   "source": []
  },
  {
   "cell_type": "code",
   "execution_count": 3,
   "metadata": {},
   "outputs": [
    {
     "name": "stderr",
     "output_type": "stream",
     "text": [
      "A new version of the following files was downloaded from https://huggingface.co/deepseek-ai/DeepSeek-Prover-V1.5-RL:\n",
      "- modeling_deepseek.py\n",
      ". Make sure to double-check they do not contain any added malicious code. To avoid downloading new versions of the code file, you can pin a revision.\n"
     ]
    },
    {
     "ename": "ImportError",
     "evalue": "cannot import name 'DeepseekV2Config' from 'transformers_modules.deepseek-ai.DeepSeek-Prover-V1.5-RL.9005c29050ad7d7fa27846653ae5d19a04145589.configuration_deepseek' (/home/matthewho/.cache/huggingface/modules/transformers_modules/deepseek-ai/DeepSeek-Prover-V1.5-RL/9005c29050ad7d7fa27846653ae5d19a04145589/configuration_deepseek.py)",
     "output_type": "error",
     "traceback": [
      "\u001b[0;31m---------------------------------------------------------------------------\u001b[0m",
      "\u001b[0;31mImportError\u001b[0m                               Traceback (most recent call last)",
      "Cell \u001b[0;32mIn[3], line 1\u001b[0m\n\u001b[0;32m----> 1\u001b[0m dspv15rl \u001b[38;5;241m=\u001b[39m \u001b[43mAutoModelForCausalLM\u001b[49m\u001b[38;5;241;43m.\u001b[39;49m\u001b[43mfrom_pretrained\u001b[49m\u001b[43m(\u001b[49m\u001b[43mdspv15rl_id\u001b[49m\u001b[43m,\u001b[49m\u001b[43m \u001b[49m\u001b[43mtrust_remote_code\u001b[49m\u001b[38;5;241;43m=\u001b[39;49m\u001b[38;5;28;43;01mTrue\u001b[39;49;00m\u001b[43m)\u001b[49m\n",
      "File \u001b[0;32m/opt/conda/envs/gfn/lib/python3.10/site-packages/transformers/models/auto/auto_factory.py:551\u001b[0m, in \u001b[0;36m_BaseAutoModelClass.from_pretrained\u001b[0;34m(cls, pretrained_model_name_or_path, *model_args, **kwargs)\u001b[0m\n\u001b[1;32m    549\u001b[0m \u001b[38;5;28;01mif\u001b[39;00m has_remote_code \u001b[38;5;129;01mand\u001b[39;00m trust_remote_code:\n\u001b[1;32m    550\u001b[0m     class_ref \u001b[38;5;241m=\u001b[39m config\u001b[38;5;241m.\u001b[39mauto_map[\u001b[38;5;28mcls\u001b[39m\u001b[38;5;241m.\u001b[39m\u001b[38;5;18m__name__\u001b[39m]\n\u001b[0;32m--> 551\u001b[0m     model_class \u001b[38;5;241m=\u001b[39m \u001b[43mget_class_from_dynamic_module\u001b[49m\u001b[43m(\u001b[49m\n\u001b[1;32m    552\u001b[0m \u001b[43m        \u001b[49m\u001b[43mclass_ref\u001b[49m\u001b[43m,\u001b[49m\u001b[43m \u001b[49m\u001b[43mpretrained_model_name_or_path\u001b[49m\u001b[43m,\u001b[49m\u001b[43m \u001b[49m\u001b[43mcode_revision\u001b[49m\u001b[38;5;241;43m=\u001b[39;49m\u001b[43mcode_revision\u001b[49m\u001b[43m,\u001b[49m\u001b[43m \u001b[49m\u001b[38;5;241;43m*\u001b[39;49m\u001b[38;5;241;43m*\u001b[39;49m\u001b[43mhub_kwargs\u001b[49m\u001b[43m,\u001b[49m\u001b[43m \u001b[49m\u001b[38;5;241;43m*\u001b[39;49m\u001b[38;5;241;43m*\u001b[39;49m\u001b[43mkwargs\u001b[49m\n\u001b[1;32m    553\u001b[0m \u001b[43m    \u001b[49m\u001b[43m)\u001b[49m\n\u001b[1;32m    554\u001b[0m     _ \u001b[38;5;241m=\u001b[39m hub_kwargs\u001b[38;5;241m.\u001b[39mpop(\u001b[38;5;124m\"\u001b[39m\u001b[38;5;124mcode_revision\u001b[39m\u001b[38;5;124m\"\u001b[39m, \u001b[38;5;28;01mNone\u001b[39;00m)\n\u001b[1;32m    555\u001b[0m     \u001b[38;5;28;01mif\u001b[39;00m os\u001b[38;5;241m.\u001b[39mpath\u001b[38;5;241m.\u001b[39misdir(pretrained_model_name_or_path):\n",
      "File \u001b[0;32m/opt/conda/envs/gfn/lib/python3.10/site-packages/transformers/dynamic_module_utils.py:514\u001b[0m, in \u001b[0;36mget_class_from_dynamic_module\u001b[0;34m(class_reference, pretrained_model_name_or_path, cache_dir, force_download, resume_download, proxies, token, revision, local_files_only, repo_type, code_revision, **kwargs)\u001b[0m\n\u001b[1;32m    501\u001b[0m \u001b[38;5;66;03m# And lastly we get the class inside our newly created module\u001b[39;00m\n\u001b[1;32m    502\u001b[0m final_module \u001b[38;5;241m=\u001b[39m get_cached_module_file(\n\u001b[1;32m    503\u001b[0m     repo_id,\n\u001b[1;32m    504\u001b[0m     module_file \u001b[38;5;241m+\u001b[39m \u001b[38;5;124m\"\u001b[39m\u001b[38;5;124m.py\u001b[39m\u001b[38;5;124m\"\u001b[39m,\n\u001b[0;32m   (...)\u001b[0m\n\u001b[1;32m    512\u001b[0m     repo_type\u001b[38;5;241m=\u001b[39mrepo_type,\n\u001b[1;32m    513\u001b[0m )\n\u001b[0;32m--> 514\u001b[0m \u001b[38;5;28;01mreturn\u001b[39;00m \u001b[43mget_class_in_module\u001b[49m\u001b[43m(\u001b[49m\u001b[43mclass_name\u001b[49m\u001b[43m,\u001b[49m\u001b[43m \u001b[49m\u001b[43mfinal_module\u001b[49m\u001b[43m)\u001b[49m\n",
      "File \u001b[0;32m/opt/conda/envs/gfn/lib/python3.10/site-packages/transformers/dynamic_module_utils.py:212\u001b[0m, in \u001b[0;36mget_class_in_module\u001b[0;34m(class_name, module_path)\u001b[0m\n\u001b[1;32m    210\u001b[0m     sys\u001b[38;5;241m.\u001b[39mmodules[name] \u001b[38;5;241m=\u001b[39m module\n\u001b[1;32m    211\u001b[0m \u001b[38;5;66;03m# reload in both cases\u001b[39;00m\n\u001b[0;32m--> 212\u001b[0m \u001b[43mmodule_spec\u001b[49m\u001b[38;5;241;43m.\u001b[39;49m\u001b[43mloader\u001b[49m\u001b[38;5;241;43m.\u001b[39;49m\u001b[43mexec_module\u001b[49m\u001b[43m(\u001b[49m\u001b[43mmodule\u001b[49m\u001b[43m)\u001b[49m\n\u001b[1;32m    213\u001b[0m \u001b[38;5;28;01mreturn\u001b[39;00m \u001b[38;5;28mgetattr\u001b[39m(module, class_name)\n",
      "File \u001b[0;32m<frozen importlib._bootstrap_external>:883\u001b[0m, in \u001b[0;36mexec_module\u001b[0;34m(self, module)\u001b[0m\n",
      "File \u001b[0;32m<frozen importlib._bootstrap>:241\u001b[0m, in \u001b[0;36m_call_with_frames_removed\u001b[0;34m(f, *args, **kwds)\u001b[0m\n",
      "File \u001b[0;32m~/.cache/huggingface/modules/transformers_modules/deepseek-ai/DeepSeek-Prover-V1.5-RL/9005c29050ad7d7fa27846653ae5d19a04145589/modeling_deepseek.py:57\u001b[0m\n\u001b[1;32m     48\u001b[0m \u001b[38;5;28;01mfrom\u001b[39;00m \u001b[38;5;21;01mtransformers\u001b[39;00m\u001b[38;5;21;01m.\u001b[39;00m\u001b[38;5;21;01mutils\u001b[39;00m \u001b[38;5;28;01mimport\u001b[39;00m (\n\u001b[1;32m     49\u001b[0m     add_start_docstrings,\n\u001b[1;32m     50\u001b[0m     add_start_docstrings_to_model_forward,\n\u001b[0;32m   (...)\u001b[0m\n\u001b[1;32m     54\u001b[0m     replace_return_docstrings,\n\u001b[1;32m     55\u001b[0m )\n\u001b[1;32m     56\u001b[0m \u001b[38;5;28;01mfrom\u001b[39;00m \u001b[38;5;21;01mtransformers\u001b[39;00m\u001b[38;5;21;01m.\u001b[39;00m\u001b[38;5;21;01mutils\u001b[39;00m\u001b[38;5;21;01m.\u001b[39;00m\u001b[38;5;21;01mimport_utils\u001b[39;00m \u001b[38;5;28;01mimport\u001b[39;00m is_torch_fx_available\n\u001b[0;32m---> 57\u001b[0m \u001b[38;5;28;01mfrom\u001b[39;00m \u001b[38;5;21;01m.\u001b[39;00m\u001b[38;5;21;01mconfiguration_deepseek\u001b[39;00m \u001b[38;5;28;01mimport\u001b[39;00m DeepseekV2Config\n\u001b[1;32m     58\u001b[0m \u001b[38;5;28;01mimport\u001b[39;00m \u001b[38;5;21;01mtorch\u001b[39;00m\u001b[38;5;21;01m.\u001b[39;00m\u001b[38;5;21;01mdistributed\u001b[39;00m \u001b[38;5;28;01mas\u001b[39;00m \u001b[38;5;21;01mdist\u001b[39;00m\n\u001b[1;32m     59\u001b[0m \u001b[38;5;28;01mimport\u001b[39;00m \u001b[38;5;21;01mnumpy\u001b[39;00m \u001b[38;5;28;01mas\u001b[39;00m \u001b[38;5;21;01mnp\u001b[39;00m\n",
      "\u001b[0;31mImportError\u001b[0m: cannot import name 'DeepseekV2Config' from 'transformers_modules.deepseek-ai.DeepSeek-Prover-V1.5-RL.9005c29050ad7d7fa27846653ae5d19a04145589.configuration_deepseek' (/home/matthewho/.cache/huggingface/modules/transformers_modules/deepseek-ai/DeepSeek-Prover-V1.5-RL/9005c29050ad7d7fa27846653ae5d19a04145589/configuration_deepseek.py)"
     ]
    }
   ],
   "source": [
    "dspv15rl = AutoModelForCausalLM.from_pretrained(dspv15rl_id, trust_remote_code=True)"
   ]
  }
 ],
 "metadata": {
  "kernelspec": {
   "display_name": "gfn",
   "language": "python",
   "name": "python3"
  },
  "language_info": {
   "codemirror_mode": {
    "name": "ipython",
    "version": 3
   },
   "file_extension": ".py",
   "mimetype": "text/x-python",
   "name": "python",
   "nbconvert_exporter": "python",
   "pygments_lexer": "ipython3",
   "version": "3.10.14"
  }
 },
 "nbformat": 4,
 "nbformat_minor": 2
}
