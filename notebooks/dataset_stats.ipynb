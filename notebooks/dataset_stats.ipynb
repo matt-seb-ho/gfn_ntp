{
 "cells": [
  {
   "cell_type": "markdown",
   "metadata": {},
   "source": [
    "# Dataset Statistics"
   ]
  },
  {
   "cell_type": "code",
   "execution_count": 11,
   "metadata": {},
   "outputs": [],
   "source": [
    "# - basic python utils\n",
    "import gc\n",
    "import json\n",
    "import os\n",
    "import time\n",
    "# import random\n",
    "# import re\n",
    "from collections import Counter, defaultdict\n",
    "from tqdm import tqdm\n",
    "from typing import Optional\n",
    "\n",
    "# - data processing\n",
    "import math\n",
    "import numpy as np\n",
    "# import pandas as pd\n",
    "import matplotlib.pyplot as plt\n",
    "plt.style.use(\"rose-pine-dawn\")\n",
    "import scipy.stats\n",
    "\n",
    "# - nlp\n",
    "from transformers import AutoTokenizer"
   ]
  },
  {
   "cell_type": "code",
   "execution_count": 8,
   "metadata": {},
   "outputs": [],
   "source": [
    "def filter_dataset(\n",
    "    data_dir: str = \"../data/\",\n",
    "    lean_dojo_split: str = \"random\",\n",
    "    split: str = \"train\",\n",
    "    tokenizer_id: str = \"EleutherAI/llemma_7b\",\n",
    "    min_depth: int = 1,\n",
    "    max_depth: int = 3,\n",
    "    token_limit: Optional[int] = None,\n",
    ") -> tuple[list[int], list[int]]:\n",
    "    \"\"\"\n",
    "    - creates a data subset with proofs of a maximum depth of `max_depth`.\n",
    "    - saves the dataset to the provided path\n",
    "    - gathers statistics about tactic token lengths\n",
    "    \"\"\"\n",
    "    train_data_path = os.path.join(\n",
    "        data_dir,\n",
    "        \"leandojo_benchmark_4\",\n",
    "        lean_dojo_split,\n",
    "        f\"{split}.json\",\n",
    "    )\n",
    "    start = time.perf_counter()\n",
    "    with open(train_data_path, \"r\") as f:\n",
    "        train_data = json.load(f)\n",
    "    print(f\"Loaded {len(train_data)} proofs in {time.perf_counter() - start:.2f} seconds\")\n",
    "    \n",
    "    tokenizer = AutoTokenizer.from_pretrained(tokenizer_id)\n",
    "\n",
    "    filtered = []\n",
    "    proof_lengths = []\n",
    "    tactic_lengths = []\n",
    "    token_limit = token_limit or math.inf\n",
    "    \n",
    "    print(\"Filtering proofs...\")\n",
    "    for proof in tqdm(train_data, total=len(train_data)):\n",
    "        proof_length = len(proof[\"traced_tactics\"])\n",
    "        proof_lengths.append(proof_length)\n",
    "        if not (min_depth <= proof_length <= max_depth):\n",
    "            continue\n",
    "\n",
    "        token_filter_status = True\n",
    "        for traced_tactic in proof[\"traced_tactics\"]:\n",
    "            tactic = traced_tactic[\"tactic\"]\n",
    "            token_length = len(tokenizer.encode(tactic))\n",
    "            tactic_lengths.append(token_length)\n",
    "            if token_length > token_limit:\n",
    "                token_filter_status = False\n",
    "\n",
    "        if token_filter_status:\n",
    "            filtered.append(proof)\n",
    "    \n",
    "    # save the filtered data\n",
    "    filename = f\"{lean_dojo_split}_{split}_md{max_depth}_tl{token_limit}.json\"\n",
    "    output_path = os.path.join(data_dir, filename)\n",
    "    start = time.perf_counter()\n",
    "    with open(output_path, \"w\") as f:\n",
    "        json.dump(filtered, f, indent=2)\n",
    "    print(f\"Saved {len(filtered)} proofs in {time.perf_counter() - start:.2f} seconds\")\n",
    "    \n",
    "    return proof_lengths, tactic_lengths"
   ]
  },
  {
   "cell_type": "code",
   "execution_count": 7,
   "metadata": {},
   "outputs": [
    {
     "name": "stdout",
     "output_type": "stream",
     "text": [
      "Loaded 112729 proofs in 5.75 seconds\n"
     ]
    },
    {
     "name": "stderr",
     "output_type": "stream",
     "text": [
      "100%|██████████| 112729/112729 [00:04<00:00, 25538.87it/s]\n"
     ]
    },
    {
     "name": "stdout",
     "output_type": "stream",
     "text": [
      "Saved 37949 proofs in 3.61 seconds\n"
     ]
    }
   ],
   "source": [
    "pls, tls = filter_dataset()"
   ]
  },
  {
   "cell_type": "code",
   "execution_count": 9,
   "metadata": {},
   "outputs": [
    {
     "name": "stdout",
     "output_type": "stream",
     "text": [
      "Loaded 112729 proofs in 5.92 seconds\n",
      "Filtering proofs...\n"
     ]
    },
    {
     "name": "stderr",
     "output_type": "stream",
     "text": [
      "100%|██████████| 112729/112729 [00:04<00:00, 24676.24it/s]\n"
     ]
    },
    {
     "name": "stdout",
     "output_type": "stream",
     "text": [
      "Saved 94538 proofs in 4.64 seconds\n"
     ]
    }
   ],
   "source": [
    "_, _ = filter_dataset(min_depth=0)"
   ]
  },
  {
   "cell_type": "code",
   "execution_count": 10,
   "metadata": {},
   "outputs": [
    {
     "name": "stdout",
     "output_type": "stream",
     "text": [
      "Loaded 112729 proofs in 5.59 seconds\n",
      "Filtering proofs...\n"
     ]
    },
    {
     "name": "stderr",
     "output_type": "stream",
     "text": [
      "100%|██████████| 112729/112729 [00:04<00:00, 25691.94it/s]\n"
     ]
    },
    {
     "name": "stdout",
     "output_type": "stream",
     "text": [
      "Saved 38042 proofs in 3.58 seconds\n"
     ]
    }
   ],
   "source": [
    "npls, ntls = filter_dataset(\n",
    "    lean_dojo_split=\"novel_premises\", \n",
    ")"
   ]
  },
  {
   "cell_type": "code",
   "execution_count": 12,
   "metadata": {},
   "outputs": [],
   "source": [
    "def summary_statistics(data: list[int]):\n",
    "    # print statistics: min, max, median, quartiles\n",
    "    data_ = sorted(data)\n",
    "    print(\n",
    "        f\"mean: {np.mean(data_):.2f}\\n\"\n",
    "        f\"min: {data_[0]}\\n\"\n",
    "        f\"25th percentile: {np.percentile(data_, 25):.2f}\\n\"\n",
    "        f\"median: {np.median(data_):.2f}\\n\"\n",
    "        f\"75th percentile: {np.percentile(data_, 75):.2f}\\n\"\n",
    "        f\"max: {data_[-1]}\"\n",
    "    )"
   ]
  },
  {
   "cell_type": "code",
   "execution_count": 14,
   "metadata": {},
   "outputs": [],
   "source": [
    "def deciles(data):\n",
    "    for i in range(0, 100, 10):\n",
    "        print(f\"{i}th percentile: {np.percentile(data, i):.2f}\")"
   ]
  },
  {
   "cell_type": "code",
   "execution_count": 13,
   "metadata": {},
   "outputs": [
    {
     "name": "stdout",
     "output_type": "stream",
     "text": [
      "mean: 2.07\n",
      "min: 0\n",
      "25th percentile: 0.00\n",
      "median: 0.00\n",
      "75th percentile: 2.00\n",
      "max: 128\n"
     ]
    }
   ],
   "source": [
    "summary_statistics(npls)"
   ]
  },
  {
   "cell_type": "code",
   "execution_count": 15,
   "metadata": {},
   "outputs": [
    {
     "name": "stdout",
     "output_type": "stream",
     "text": [
      "0th percentile: 0.00\n",
      "10th percentile: 0.00\n",
      "20th percentile: 0.00\n",
      "30th percentile: 0.00\n",
      "40th percentile: 0.00\n",
      "50th percentile: 0.00\n",
      "60th percentile: 1.00\n",
      "70th percentile: 2.00\n",
      "80th percentile: 3.00\n",
      "90th percentile: 6.00\n"
     ]
    }
   ],
   "source": [
    "deciles(npls)"
   ]
  },
  {
   "cell_type": "code",
   "execution_count": 16,
   "metadata": {},
   "outputs": [
    {
     "name": "stdout",
     "output_type": "stream",
     "text": [
      "mean: 20.04\n",
      "min: 2\n",
      "25th percentile: 8.00\n",
      "median: 16.00\n",
      "75th percentile: 27.00\n",
      "max: 274\n",
      "0th percentile: 2.00\n",
      "10th percentile: 3.00\n",
      "20th percentile: 6.00\n",
      "30th percentile: 10.00\n",
      "40th percentile: 13.00\n",
      "50th percentile: 16.00\n",
      "60th percentile: 20.00\n",
      "70th percentile: 24.00\n",
      "80th percentile: 30.00\n",
      "90th percentile: 40.00\n"
     ]
    }
   ],
   "source": [
    "summary_statistics(ntls)\n",
    "deciles(ntls)"
   ]
  },
  {
   "cell_type": "code",
   "execution_count": 17,
   "metadata": {},
   "outputs": [
    {
     "name": "stdout",
     "output_type": "stream",
     "text": [
      "Loaded 112729 proofs in 5.75 seconds\n",
      "Filtering proofs...\n"
     ]
    },
    {
     "name": "stderr",
     "output_type": "stream",
     "text": [
      "100%|██████████| 112729/112729 [00:04<00:00, 24907.66it/s]\n"
     ]
    },
    {
     "name": "stdout",
     "output_type": "stream",
     "text": [
      "Saved 28800 proofs in 2.24 seconds\n"
     ]
    }
   ],
   "source": [
    "pu32t, tu32t = filter_dataset(lean_dojo_split=\"novel_premises\", token_limit=32)"
   ]
  },
  {
   "cell_type": "code",
   "execution_count": 18,
   "metadata": {},
   "outputs": [
    {
     "name": "stdout",
     "output_type": "stream",
     "text": [
      "proof lengths\n",
      "mean: 2.07\n",
      "min: 0\n",
      "25th percentile: 0.00\n",
      "median: 0.00\n",
      "75th percentile: 2.00\n",
      "max: 128\n",
      "0th percentile: 0.00\n",
      "10th percentile: 0.00\n",
      "20th percentile: 0.00\n",
      "30th percentile: 0.00\n",
      "40th percentile: 0.00\n",
      "50th percentile: 0.00\n",
      "60th percentile: 1.00\n",
      "70th percentile: 2.00\n",
      "80th percentile: 3.00\n",
      "90th percentile: 6.00\n",
      "tactic lengths\n",
      "mean: 20.04\n",
      "min: 2\n",
      "25th percentile: 8.00\n",
      "median: 16.00\n",
      "75th percentile: 27.00\n",
      "max: 274\n",
      "0th percentile: 2.00\n",
      "10th percentile: 3.00\n",
      "20th percentile: 6.00\n",
      "30th percentile: 10.00\n",
      "40th percentile: 13.00\n",
      "50th percentile: 16.00\n",
      "60th percentile: 20.00\n",
      "70th percentile: 24.00\n",
      "80th percentile: 30.00\n",
      "90th percentile: 40.00\n"
     ]
    }
   ],
   "source": [
    "print(\"proof lengths\")\n",
    "summary_statistics(pu32t)\n",
    "deciles(pu32t)\n",
    "print(\"tactic lengths\")\n",
    "summary_statistics(tu32t)\n",
    "deciles(tu32t)"
   ]
  },
  {
   "cell_type": "markdown",
   "metadata": {},
   "source": [
    "## Plotting"
   ]
  },
  {
   "cell_type": "code",
   "execution_count": 28,
   "metadata": {},
   "outputs": [],
   "source": [
    "def make_hist(data, label, file=None, bounds=None):\n",
    "    bin_count = len(set(data))\n",
    "    plt.hist(data, bins=bin_count, range=bounds)\n",
    "    plt.title(label)\n",
    "    plt.ylabel(\"frequency\")\n",
    "    if bounds:\n",
    "        # plt.xticks(range(bounds[1] + 1))\n",
    "        pass\n",
    "    if file:\n",
    "        plt.savefig(file)\n",
    "    plt.show()"
   ]
  },
  {
   "cell_type": "code",
   "execution_count": 26,
   "metadata": {},
   "outputs": [
    {
     "data": {
      "image/png": "[encoded data removed]",
      "text/plain": [
       "<Figure size 640x480 with 1 Axes>"
      ]
     },
     "metadata": {},
     "output_type": "display_data"
    }
   ],
   "source": [
    "make_hist(pu32t, \"Proof Length (tactics)\", \"proof_lengths_hist.png\", bounds=(0, 20))"
   ]
  },
  {
   "cell_type": "code",
   "execution_count": 30,
   "metadata": {},
   "outputs": [
    {
     "data": {
      "image/png": "[encoded data removed]",
      "text/plain": [
       "<Figure size 640x480 with 1 Axes>"
      ]
     },
     "metadata": {},
     "output_type": "display_data"
    }
   ],
   "source": [
    "make_hist(tu32t, \"Tactic Length (tokens)\", \"tactic_lengths_hist.png\", bounds=(0, 40))"
   ]
  }
 ],
 "metadata": {
  "kernelspec": {
   "display_name": "gfn",
   "language": "python",
   "name": "python3"
  },
  "language_info": {
   "codemirror_mode": {
    "name": "ipython",
    "version": 3
   },
   "file_extension": ".py",
   "mimetype": "text/x-python",
   "name": "python",
   "nbconvert_exporter": "python",
   "pygments_lexer": "ipython3",
   "version": "3.10.14"
  }
 },
 "nbformat": 4,
 "nbformat_minor": 2
}
