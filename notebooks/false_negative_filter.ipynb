{
 "cells": [
  {
   "cell_type": "code",
   "execution_count": 15,
   "metadata": {},
   "outputs": [
    {
     "name": "stdout",
     "output_type": "stream",
     "text": [
      "14017\n",
      "[{'state_before': '⊢ (match powHalf 1 with\\n    | mk α β xL xR => max (Ordinal.lsub fun i => (xL i).birthday) (Ordinal.lsub fun i => (xR i).birthday)) =\\n    2', 'tactic': 'simp [powHalf]', 'state_after': 'no goals', 'message': '', 'dist_reduction': 1}]\n",
      "[{'state_before': \"K : Type u_1\\nn : ℕ\\ng : GeneralizedContinuedFraction K\\ns : Stream'.Seq (Pair K)\\ninst✝ : DivisionRing K\\ngp_n gp_succ_n : Pair K\\ns_nth_eq : s.get? n = some gp_n\\ns_succ_nth_eq : s.get? (n + 1) = some gp_succ_n\\n⊢ (match (s.get? n, s.get? (n + 1)) with\\n        | (some gp_n, some gp_succ_n) =>\\n          Stream'.Seq.zipWith\\n            (fun n' gp => if n' = n then { a := gp_n.a, b := gp_n.b + gp_succ_n.a / gp_succ_n.b } else gp)\\n            Stream'.Seq.nats s\\n        | x => s).get?\\n      n =\\n    some { a := gp_n.a, b := gp_n.b + gp_succ_n.a / gp_succ_n.b }\", 'tactic': 'simp [s_nth_eq, s_succ_nth_eq, ite_true]', 'state_after': 'no goals', 'message': '', 'dist_reduction': 1}]\n",
      "[{'tactic': \"cases s <;> simp [next?, toStream_toList']\", 'annotated_tactic': [\"cases s <;> simp [<a>next?</a>, <a>toStream_toList'</a>]\", [{'full_name': 'Batteries.RBNode.Stream.next?', 'def_path': '.lake/packages/batteries/Batteries/Data/RBMap/Basic.lean', 'def_pos': [136, 5], 'def_end_pos': [136, 10]}, {'full_name': \"Batteries.RBNode.toStream_toList'\", 'def_path': '.lake/packages/batteries/Batteries/Data/RBMap/Lemmas.lean', 'def_pos': [219, 9], 'def_end_pos': [219, 25]}]], 'state_before': 'α : Type u_1\\ns : RBNode.Stream α\\n⊢ Option.map\\n      (fun x =>\\n        match x with\\n        | (a, b) => (a, b.toList))\\n      s.next? =\\n    s.toList.next?', 'state_after': 'no goals', 'dist_reduction': 1}]\n",
      "[{'state_before': \"ι : Type u_1\\nm✝ : Type u_2\\nn : Type u_3\\np : Type u_4\\nα : Type u_5\\nR : Type u_6\\nS : Type u_7\\ninst✝⁵ : Fintype m✝\\ninst✝⁴ : Fintype n\\ninst✝³ : Fintype p\\ninst✝² : AddCommMonoid R\\ninst✝¹ : DecidableEq p\\nm : p → Type u_8\\ninst✝ : (i : p) → Fintype (m i)\\nM : (i : p) → Matrix (m i) (m i) R\\n⊢ ∑ i : (i : p) × m i,\\n      (of fun x x_1 =>\\n            match x with\\n            | ⟨k, i⟩ =>\\n              match x_1 with\\n              | ⟨k', j⟩ => if h : k = k' then M k i (cast ⋯ j) else 0).diag\\n        i =\\n    ∑ i : p, ∑ i_1 : m i, (M i).diag i_1\", 'tactic': \"simp [Finset.sum_sigma']\", 'state_after': 'no goals', 'message': '', 'dist_reduction': 1}]\n",
      "[{'state_before': 'o : Ordinal.{u_1}\\n⊢ (match\\n      let o := o;\\n      let_fun this := ⋯;\\n      mk (Quotient.out o).α PEmpty.{u_1 + 1}\\n        (fun x =>\\n          let_fun this_1 := ⋯;\\n          (typein (fun x x_1 => x < x_1) x).toPGame)\\n        PEmpty.elim with\\n    | mk l β a a_1 => l) =\\n    (Quotient.out o).α', 'tactic': 'congr', 'state_after': 'no goals', 'message': '', 'dist_reduction': 1}]\n",
      "[{'tactic': 'induction l <;> simp [List.eraseP, cond]', 'annotated_tactic': ['induction l <;> simp [<a>List.eraseP</a>, <a>cond</a>]', [{'full_name': 'List.eraseP', 'def_path': '.lake/packages/batteries/Batteries/Data/List/Basic.lean', 'def_pos': [663, 5], 'def_end_pos': [663, 11]}, {'full_name': 'cond', 'def_path': '.lake/packages/lean4/src/lean/Init/Prelude.lean', 'def_pos': [1006, 21], 'def_end_pos': [1006, 25]}]], 'state_before': 'α : Type u_1\\nβ : Type u_2\\np : α → β → Bool\\nl : AssocList α β\\n⊢ (eraseP p l).toList =\\n    List.eraseP\\n      (fun x =>\\n        match x with\\n        | (a, b) => p a b)\\n      l.toList', 'state_after': 'case cons\\nα : Type u_1\\nβ : Type u_2\\np : α → β → Bool\\nkey✝ : α\\nvalue✝ : β\\ntail✝ : AssocList α β\\ntail_ih✝ :\\n  (eraseP p tail✝).toList =\\n    List.eraseP\\n      (fun x =>\\n        match x with\\n        | (a, b) => p a b)\\n      tail✝.toList\\n⊢ (match p key✝ value✝ with\\n      | true => tail✝\\n      | false => cons key✝ value✝ (eraseP p tail✝)).toList =\\n    match p key✝ value✝ with\\n    | true => tail✝.toList\\n    | false => (key✝, value✝) :: List.eraseP (fun x => p x.fst x.snd) tail✝.toList', 'dist_reduction': 1}]\n",
      "[{'tactic': 'simp [cond]', 'annotated_tactic': ['simp [<a>cond</a>]', [{'full_name': 'cond', 'def_path': '.lake/packages/lean4/src/lean/Init/Prelude.lean', 'def_pos': [1006, 21], 'def_end_pos': [1006, 25]}]], 'state_before': 'α : Type u_1\\nβ : Type u_2\\nf : α → β → β\\ninst✝ : BEq α\\na : α\\nl : AssocList α β\\n⊢ (modify a f l).toList =\\n    List.replaceF\\n      (fun x =>\\n        match x with\\n        | (k, v) => bif k == a then some (a, f k v) else none)\\n      l.toList', 'state_after': 'α : Type u_1\\nβ : Type u_2\\nf : α → β → β\\ninst✝ : BEq α\\na : α\\nl : AssocList α β\\n⊢ (modify a f l).toList =\\n    List.replaceF\\n      (fun x =>\\n        match x.fst == a with\\n        | true => some (a, f x.fst x.snd)\\n        | false => none)\\n      l.toList', 'dist_reduction': 1}]\n",
      "[{'tactic': 'induction l <;> simp [any, *]', 'annotated_tactic': ['induction l <;> simp [<a>any</a>, *]', [{'full_name': 'Batteries.AssocList.any', 'def_path': '.lake/packages/batteries/Batteries/Data/AssocList.lean', 'def_pos': [147, 19], 'def_end_pos': [147, 22]}]], 'state_before': 'α : Type u_1\\nβ : Type u_2\\np : α → β → Bool\\nl : AssocList α β\\n⊢ any p l =\\n    l.toList.any fun x =>\\n      match x with\\n      | (a, b) => p a b', 'state_after': 'no goals', 'dist_reduction': 1}]\n",
      "[{'tactic': 'rw [Encodable.encodek]', 'annotated_tactic': ['rw [<a>Encodable.encodek</a>]', [{'full_name': 'Encodable.encodek', 'def_path': 'Mathlib/Logic/Encodable/Basic.lean', 'def_pos': [52, 3], 'def_end_pos': [52, 10]}]], 'state_before': 'P : Type u_1\\ninst✝¹ : Preorder P\\np : P\\nι : Type u_2\\ninst✝ : Encodable ι\\n𝒟 : ι → Cofinal P\\ni : ι\\n⊢ (match Encodable.decode (Encodable.encode i) with\\n    | none => sequenceOfCofinals p 𝒟 (Encodable.encode i)\\n    | some i_1 => (𝒟 i_1).above (sequenceOfCofinals p 𝒟 (Encodable.encode i))) ∈\\n    𝒟 i', 'state_after': 'P : Type u_1\\ninst✝¹ : Preorder P\\np : P\\nι : Type u_2\\ninst✝ : Encodable ι\\n𝒟 : ι → Cofinal P\\ni : ι\\n⊢ (match some i with\\n    | none => sequenceOfCofinals p 𝒟 (Encodable.encode i)\\n    | some i_1 => (𝒟 i_1).above (sequenceOfCofinals p 𝒟 (Encodable.encode i))) ∈\\n    𝒟 i', 'dist_reduction': 1}]\n",
      "[{'tactic': 'induction l <;> simp [*]', 'annotated_tactic': ['induction l <;> simp [*]', []], 'state_before': 'α : Type u_1\\nβ : Type u_2\\nδ : Type u_3\\nf : α → β → δ\\nl : AssocList α β\\n⊢ (mapVal f l).toList =\\n    List.map\\n      (fun x =>\\n        match x with\\n        | (a, b) => (a, f a b))\\n      l.toList', 'state_after': 'no goals', 'dist_reduction': 1}]\n",
      "[{'tactic': 'induction l <;> simp [*]', 'annotated_tactic': ['induction l <;> simp [*]', []], 'state_before': 'α : Type u_1\\nδ : Type u_2\\nβ : Type u_3\\nf : α → δ\\nl : AssocList α β\\n⊢ (mapKey f l).toList =\\n    List.map\\n      (fun x =>\\n        match x with\\n        | (a, b) => (f a, b))\\n      l.toList', 'state_after': 'no goals', 'dist_reduction': 1}]\n",
      "[{'tactic': 'induction l <;> simp [all, *]', 'annotated_tactic': ['induction l <;> simp [<a>all</a>, *]', [{'full_name': 'Batteries.AssocList.all', 'def_path': '.lake/packages/batteries/Batteries/Data/AssocList.lean', 'def_pos': [155, 19], 'def_end_pos': [155, 22]}]], 'state_before': 'α : Type u_1\\nβ : Type u_2\\np : α → β → Bool\\nl : AssocList α β\\n⊢ all p l =\\n    l.toList.all fun x =>\\n      match x with\\n      | (a, b) => p a b', 'state_after': 'no goals', 'dist_reduction': 1}]\n",
      "[{'tactic': 'simp [List.foldl_eq_foldlM, foldl, Id.run]', 'annotated_tactic': ['simp [<a>List.foldl_eq_foldlM</a>, <a>foldl</a>, <a>Id.run</a>]', [{'full_name': 'List.foldl_eq_foldlM', 'def_path': '.lake/packages/lean4/src/lean/Init/Data/List/Lemmas.lean', 'def_pos': [577, 9], 'def_end_pos': [577, 24]}, {'full_name': 'Batteries.AssocList.foldl', 'def_path': '.lake/packages/batteries/Batteries/Data/AssocList.lean', 'def_pos': [68, 15], 'def_end_pos': [68, 20]}, {'full_name': 'Id.run', 'def_path': '.lake/packages/lean4/src/lean/Init/Control/Id.lean', 'def_pos': [27, 15], 'def_end_pos': [27, 18]}]], 'state_before': 'δ : Type u_1\\nα : Type u_2\\nβ : Type u_3\\nf : δ → α → β → δ\\ninit : δ\\nl : AssocList α β\\n⊢ foldl f init l =\\n    List.foldl\\n      (fun d x =>\\n        match x with\\n        | (a, b) => f d a b)\\n      init l.toList', 'state_after': 'no goals', 'dist_reduction': 1}]\n",
      "[{'tactic': 'ext', 'annotated_tactic': ['ext', []], 'state_before': 'σ : Type u_1\\ninst✝² : Fintype σ\\ninst✝¹ : DecidableEq σ\\nR : Type u_2\\ninst✝ : CommRing R\\nk : ℕ\\n⊢ filter\\n      (fun x =>\\n        match x with\\n        | (s, snd) => s.card < k)\\n      (MvPolynomial.NewtonIdentities.pairs σ k) =\\n    (range k).disjiUnion (fun x => powersetCard x univ) ⋯ ×ˢ univ', 'state_after': 'case a\\nσ : Type u_1\\ninst✝² : Fintype σ\\ninst✝¹ : DecidableEq σ\\nR : Type u_2\\ninst✝ : CommRing R\\nk : ℕ\\na✝ : Finset σ × σ\\n⊢ a✝ ∈\\n      filter\\n        (fun x =>\\n          match x with\\n          | (s, snd) => s.card < k)\\n        (MvPolynomial.NewtonIdentities.pairs σ k) ↔\\n    a✝ ∈ (range k).disjiUnion (fun x => powersetCard x univ) ⋯ ×ˢ univ', 'dist_reduction': 1}]\n",
      "[{'tactic': 'induction l <;> simp [*, forM]', 'annotated_tactic': ['induction l <;> simp [*, <a>forM</a>]', [{'full_name': 'Batteries.AssocList.forM', 'def_path': '.lake/packages/batteries/Batteries/Data/AssocList.lean', 'def_pos': [84, 19], 'def_end_pos': [84, 23]}]], 'state_before': 'm : Type u_1 → Type u_2\\nα : Type u_3\\nβ : Type u_4\\ninst✝ : Monad m\\nf : α → β → m PUnit\\nl : AssocList α β\\n⊢ forM f l =\\n    l.toList.forM fun x =>\\n      match x with\\n      | (a, b) => f a b', 'state_after': 'no goals', 'dist_reduction': 1}]\n",
      "[{'tactic': 'induction l <;> simp [findEntryP?, List.find?_cons]', 'annotated_tactic': ['induction l <;> simp [<a>findEntryP?</a>, <a>List.find?_cons</a>]', [{'full_name': 'Batteries.AssocList.findEntryP?', 'def_path': '.lake/packages/batteries/Batteries/Data/AssocList.lean', 'def_pos': [117, 19], 'def_end_pos': [117, 30]}, {'full_name': 'List.find?_cons', 'def_path': '.lake/packages/lean4/src/lean/Init/Data/List/Basic.lean', 'def_pos': [987, 9], 'def_end_pos': [987, 19]}]], 'state_before': 'α : Type u_1\\nβ : Type u_2\\np : α → β → Bool\\nl : AssocList α β\\n⊢ findEntryP? p l =\\n    List.find?\\n      (fun x =>\\n        match x with\\n        | (a, b) => p a b)\\n      l.toList', 'state_after': 'case cons\\nα : Type u_1\\nβ : Type u_2\\np : α → β → Bool\\nkey✝ : α\\nvalue✝ : β\\ntail✝ : AssocList α β\\ntail_ih✝ :\\n  findEntryP? p tail✝ =\\n    List.find?\\n      (fun x =>\\n        match x with\\n        | (a, b) => p a b)\\n      tail✝.toList\\n⊢ (bif p key✝ value✝ then some (key✝, value✝) else findEntryP? p tail✝) =\\n    match p key✝ value✝ with\\n    | true => some (key✝, value✝)\\n    | false => List.find? (fun x => p x.fst x.snd) tail✝.toList', 'dist_reduction': 1}]\n",
      "[{'tactic': 'split <;> simp [and_assoc, and_left_comm]', 'annotated_tactic': ['split <;> simp [<a>and_assoc</a>, <a>and_left_comm</a>]', [{'full_name': 'and_assoc', 'def_path': '.lake/packages/lean4/src/lean/Init/SimpLemmas.lean', 'def_pos': [148, 9], 'def_end_pos': [148, 18]}, {'full_name': 'and_left_comm', 'def_path': '.lake/packages/lean4/src/lean/Init/PropLemmas.lean', 'def_pos': [56, 9], 'def_end_pos': [56, 22]}]], 'state_before': 'α : Type u_1\\np : α → Prop\\nl : RBNode α\\nv : α\\nr : RBNode α\\n⊢ All p\\n      (match l, v, r with\\n      | a, x, node red b y (node red c z d) => node red (node black a x b) y (node black c z d)\\n      | a, x, node red (node red b y c) z d => node red (node black a x b) y (node black c z d)\\n      | a, x, b => node black a x b) ↔\\n    p v ∧ All p l ∧ All p r', 'state_after': 'no goals', 'dist_reduction': 1}]\n",
      "[{'tactic': 'induction l generalizing init <;> simp [*, foldlM]', 'annotated_tactic': ['induction l generalizing init <;> simp [*, <a>foldlM</a>]', [{'full_name': 'Batteries.AssocList.foldlM', 'def_path': '.lake/packages/batteries/Batteries/Data/AssocList.lean', 'def_pos': [59, 19], 'def_end_pos': [59, 25]}]], 'state_before': 'm : Type u_1 → Type u_2\\nδ : Type u_1\\nα : Type u_3\\nβ : Type u_4\\ninst✝ : Monad m\\nf : δ → α → β → m δ\\ninit : δ\\nl : AssocList α β\\n⊢ foldlM f init l =\\n    List.foldlM\\n      (fun d x =>\\n        match x with\\n        | (a, b) => f d a b)\\n      init l.toList', 'state_after': 'no goals', 'dist_reduction': 1}]\n",
      "13999\n",
      "18\n"
     ]
    }
   ],
   "source": [
    "import json\n",
    "import pandas as pd\n",
    "\n",
    "def filter_by_withn(tactics_df: pd.DataFrame):\n",
    "    filtered_tactics_df = pd.DataFrame(columns=tactics_df.columns.values.tolist())\n",
    "    for index, row in tactics_df.iterrows():\n",
    "        value = row['state_before']\n",
    "        if \"with\\n\" in value:\n",
    "            filtered_tactics_df.loc[len(filtered_tactics_df)] = row\n",
    "            tactics_df.drop(index=index, inplace=True)\n",
    "            print(row[\"positive\"])\n",
    "            \n",
    "        \n",
    "    return tactics_df, filtered_tactics_df\n",
    "    \n",
    "with open(\"/home/vincentzhu/gfn_ntp/data/negative_tactics_dataset.json\") as f:\n",
    "    data = json.load(f)\n",
    "    \n",
    "print(len(data))\n",
    "# print(data)\n",
    "data_df = pd.DataFrame.from_dict(data)\n",
    "# print(type(data))\n",
    "# print(data.columns.values.tolist())\n",
    "filtered_df, filtered_false_neg_df = filter_by_withn(data_df)\n",
    "# print(filtered_df)\n",
    "list_of_dicts = filtered_df.to_dict(orient='records')\n",
    "list_of_dicts2 = filtered_false_neg_df.to_dict(orient='records')\n",
    "\n",
    "# with open(\"/home/vincentzhu/gfn_ntp/data/filtered_neg_tactics_data.json\", \"w\") as f:\n",
    "#     data = json.dump(list_of_dicts, f, indent=4)\n",
    "# with open(\"/home/vincentzhu/gfn_ntp/data/filtered_false_neg_data.json\", \"w\") as f:\n",
    "#     data = json.dump(list_of_dicts2, f, indent=4)\n",
    "\n",
    "with open(\"/home/vincentzhu/gfn_ntp/data/filtered_neg_tactics_data.json\") as f:\n",
    "    data1 = json.load(f)\n",
    "with open(\"/home/vincentzhu/gfn_ntp/data/filtered_false_neg_data.json\") as f:\n",
    "    data2 = json.load(f)\n",
    "    \n",
    "print(len(data1))\n",
    "print(len(data2))"
   ]
  }
 ],
 "metadata": {
  "kernelspec": {
   "display_name": ".venv",
   "language": "python",
   "name": "python3"
  },
  "language_info": {
   "codemirror_mode": {
    "name": "ipython",
    "version": 3
   },
   "file_extension": ".py",
   "mimetype": "text/x-python",
   "name": "python",
   "nbconvert_exporter": "python",
   "pygments_lexer": "ipython3",
   "version": "3.10.14"
  }
 },
 "nbformat": 4,
 "nbformat_minor": 2
}
