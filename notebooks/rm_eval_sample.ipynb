{
 "cells": [
  {
   "cell_type": "markdown",
   "metadata": {},
   "source": [
    "# inspecting rm eval sampling outputs"
   ]
  },
  {
   "cell_type": "code",
   "execution_count": 9,
   "metadata": {},
   "outputs": [],
   "source": [
    "import json\n",
    "import importlib\n",
    "import matplotlib.pyplot as plt\n",
    "\n",
    "from copy import deepcopy\n",
    "from collections import defaultdict, Counter\n",
    "\n",
    "plt.style.use(\"rose-pine\")"
   ]
  },
  {
   "cell_type": "code",
   "execution_count": 2,
   "metadata": {},
   "outputs": [],
   "source": [
    "# rm_data_file: \"data/rm_eval_dataset.json\"\n",
    "with open(\"../data/rm_eval_dataset.json\", \"r\") as f:\n",
    "    data = json.load(f)"
   ]
  },
  {
   "cell_type": "code",
   "execution_count": 50,
   "metadata": {},
   "outputs": [],
   "source": [
    "copied = deepcopy(data)"
   ]
  },
  {
   "cell_type": "code",
   "execution_count": 51,
   "metadata": {},
   "outputs": [],
   "source": [
    "rem = copied.pop(152)"
   ]
  },
  {
   "cell_type": "code",
   "execution_count": 54,
   "metadata": {},
   "outputs": [
    {
     "data": {
      "text/plain": [
       "917"
      ]
     },
     "execution_count": 54,
     "metadata": {},
     "output_type": "execute_result"
    }
   ],
   "source": [
    "len(rem[\"state_before\"])"
   ]
  },
  {
   "cell_type": "code",
   "execution_count": 55,
   "metadata": {},
   "outputs": [],
   "source": [
    "with open(\"../data/rm_eval_dataset_v2.json\", 'w') as f:\n",
    "    json.dump(copied, f)"
   ]
  },
  {
   "cell_type": "code",
   "execution_count": 4,
   "metadata": {},
   "outputs": [
    {
     "data": {
      "text/plain": [
       "{'thm_idx': '2',\n",
       " 'state_before': 'R : Type u\\nS : Type v\\nσ : Type u_1\\nτ : Type u_2\\nr : R\\ne : ℕ\\nn m : σ\\ns : σ →₀ ℕ\\ninst✝¹ : CommSemiring R\\np✝ q : MvPolynomial σ R\\ninst✝ : CommSemiring S\\np : MvPolynomial σ R\\nf : R →+* S\\nhf : Injective ⇑f\\n⊢ ((map f) p).degrees = p.degrees',\n",
       " 'positive': [{'tactic': 'simp only [degrees, MvPolynomial.support_map_of_injective _ hf]',\n",
       "   'annotated_tactic': ['simp only [<a>degrees</a>, <a>MvPolynomial.support_map_of_injective</a> _ hf]',\n",
       "    [{'full_name': 'MvPolynomial.degrees',\n",
       "      'def_path': 'Mathlib/Algebra/MvPolynomial/Degrees.lean',\n",
       "      'def_pos': [79, 5],\n",
       "      'def_end_pos': [79, 12]},\n",
       "     {'full_name': 'MvPolynomial.support_map_of_injective',\n",
       "      'def_path': 'Mathlib/Algebra/MvPolynomial/Basic.lean',\n",
       "      'def_pos': [1450, 9],\n",
       "      'def_end_pos': [1450, 33]}]],\n",
       "   'state_before': 'R : Type u\\nS : Type v\\nσ : Type u_1\\nτ : Type u_2\\nr : R\\ne : ℕ\\nn m : σ\\ns : σ →₀ ℕ\\ninst✝¹ : CommSemiring R\\np✝ q : MvPolynomial σ R\\ninst✝ : CommSemiring S\\np : MvPolynomial σ R\\nf : R →+* S\\nhf : Injective ⇑f\\n⊢ ((map f) p).degrees = p.degrees',\n",
       "   'state_after': 'no goals',\n",
       "   'dist_reduction': 1}],\n",
       " 'negative': [{'state_before': 'R : Type u\\nS : Type v\\nσ : Type u_1\\nτ : Type u_2\\nr : R\\ne : ℕ\\nn m : σ\\ns : σ →₀ ℕ\\ninst✝¹ : CommSemiring R\\np✝ q : MvPolynomial σ R\\ninst✝ : CommSemiring S\\np : MvPolynomial σ R\\nf : R →+* S\\nhf : Injective ⇑f\\n⊢ ((map f) p).degrees = p.degrees',\n",
       "   'tactic': 'ext s',\n",
       "   'state_after': None,\n",
       "   'message': 'no applicable extensionality theorem found for\\n  Multiset σ',\n",
       "   'dist_reduction': -inf},\n",
       "  {'state_before': 'R : Type u\\nS : Type v\\nσ : Type u_1\\nτ : Type u_2\\nr : R\\ne : ℕ\\nn m : σ\\ns : σ →₀ ℕ\\ninst✝¹ : CommSemiring R\\np✝ q : MvPolynomial σ R\\ninst✝ : CommSemiring S\\np : MvPolynomial σ R\\nf : R →+* S\\nhf : Injective ⇑f\\n⊢ ((map f) p).degrees = p.degrees',\n",
       "   'tactic': 'induction p using MvPolynomial.induction_on with',\n",
       "   'state_after': None,\n",
       "   'message': \"<stdin>:1:48: unexpected end of input; expected '|'\",\n",
       "   'dist_reduction': -inf},\n",
       "  {'state_before': 'R : Type u\\nS : Type v\\nσ : Type u_1\\nτ : Type u_2\\nr : R\\ne : ℕ\\nn m : σ\\ns : σ →₀ ℕ\\ninst✝¹ : CommSemiring R\\np✝ q : MvPolynomial σ R\\ninst✝ : CommSemiring S\\np : MvPolynomial σ R\\nf : R →+* S\\nhf : Injective ⇑f\\n⊢ ((map f) p).degrees = p.degrees',\n",
       "   'tactic': 'induction p using MvPolynomial.induction_on with',\n",
       "   'state_after': None,\n",
       "   'message': \"<stdin>:1:48: unexpected end of input; expected '|'\",\n",
       "   'dist_reduction': -inf},\n",
       "  {'state_before': 'R : Type u\\nS : Type v\\nσ : Type u_1\\nτ : Type u_2\\nr : R\\ne : ℕ\\nn m : σ\\ns : σ →₀ ℕ\\ninst✝¹ : CommSemiring R\\np✝ q : MvPolynomial σ R\\ninst✝ : CommSemiring S\\np : MvPolynomial σ R\\nf : R →+* S\\nhf : Injective ⇑f\\n⊢ ((map f) p).degrees = p.degrees',\n",
       "   'tactic': 'ext',\n",
       "   'state_after': None,\n",
       "   'message': 'no applicable extensionality theorem found for\\n  Multiset σ',\n",
       "   'dist_reduction': -inf},\n",
       "  {'state_before': 'R : Type u\\nS : Type v\\nσ : Type u_1\\nτ : Type u_2\\nr : R\\ne : ℕ\\nn m : σ\\ns : σ →₀ ℕ\\ninst✝¹ : CommSemiring R\\np✝ q : MvPolynomial σ R\\ninst✝ : CommSemiring S\\np : MvPolynomial σ R\\nf : R →+* S\\nhf : Injective ⇑f\\n⊢ ((map f) p).degrees = p.degrees',\n",
       "   'tactic': 'ext i',\n",
       "   'state_after': None,\n",
       "   'message': 'no applicable extensionality theorem found for\\n  Multiset σ',\n",
       "   'dist_reduction': -inf},\n",
       "  {'state_before': 'R : Type u\\nS : Type v\\nσ : Type u_1\\nτ : Type u_2\\nr : R\\ne : ℕ\\nn m : σ\\ns : σ →₀ ℕ\\ninst✝¹ : CommSemiring R\\np✝ q : MvPolynomial σ R\\ninst✝ : CommSemiring S\\np : MvPolynomial σ R\\nf : R →+* S\\nhf : Injective ⇑f\\n⊢ ((map f) p).degrees = p.degrees',\n",
       "   'tactic': 'induction p using MvPolynomial.induction_on with',\n",
       "   'state_after': None,\n",
       "   'message': \"<stdin>:1:48: unexpected end of input; expected '|'\",\n",
       "   'dist_reduction': -inf},\n",
       "  {'state_before': 'R : Type u\\nS : Type v\\nσ : Type u_1\\nτ : Type u_2\\nr : R\\ne : ℕ\\nn m : σ\\ns : σ →₀ ℕ\\ninst✝¹ : CommSemiring R\\np✝ q : MvPolynomial σ R\\ninst✝ : CommSemiring S\\np : MvPolynomial σ R\\nf : R →+* S\\nhf : Injective ⇑f\\n⊢ ((map f) p).degrees = p.degrees',\n",
       "   'tactic': 'apply le_antisymm',\n",
       "   'state_after': 'case a\\nR : Type u\\nS : Type v\\nσ : Type u_1\\nτ : Type u_2\\nr : R\\ne : ℕ\\nn m : σ\\ns : σ →₀ ℕ\\ninst✝¹ : CommSemiring R\\np✝ q : MvPolynomial σ R\\ninst✝ : CommSemiring S\\np : MvPolynomial σ R\\nf : R →+* S\\nhf : Injective ⇑f\\n⊢ ((map f) p).degrees ≤ p.degrees\\n\\ncase a\\nR : Type u\\nS : Type v\\nσ : Type u_1\\nτ : Type u_2\\nr : R\\ne : ℕ\\nn m : σ\\ns : σ →₀ ℕ\\ninst✝¹ : CommSemiring R\\np✝ q : MvPolynomial σ R\\ninst✝ : CommSemiring S\\np : MvPolynomial σ R\\nf : R →+* S\\nhf : Injective ⇑f\\n⊢ p.degrees ≤ ((map f) p).degrees',\n",
       "   'message': None,\n",
       "   'dist_reduction': -inf},\n",
       "  {'state_before': 'R : Type u\\nS : Type v\\nσ : Type u_1\\nτ : Type u_2\\nr : R\\ne : ℕ\\nn m : σ\\ns : σ →₀ ℕ\\ninst✝¹ : CommSemiring R\\np✝ q : MvPolynomial σ R\\ninst✝ : CommSemiring S\\np : MvPolynomial σ R\\nf : R →+* S\\nhf : Injective ⇑f\\n⊢ ((map f) p).degrees = p.degrees',\n",
       "   'tactic': 'induction p using MvPolynomial.induction_on with',\n",
       "   'state_after': None,\n",
       "   'message': \"<stdin>:1:48: unexpected end of input; expected '|'\",\n",
       "   'dist_reduction': -inf},\n",
       "  {'state_before': 'R : Type u\\nS : Type v\\nσ : Type u_1\\nτ : Type u_2\\nr : R\\ne : ℕ\\nn m : σ\\ns : σ →₀ ℕ\\ninst✝¹ : CommSemiring R\\np✝ q : MvPolynomial σ R\\ninst✝ : CommSemiring S\\np : MvPolynomial σ R\\nf : R →+* S\\nhf : Injective ⇑f\\n⊢ ((map f) p).degrees = p.degrees',\n",
       "   'tactic': 'induction p using MvPolynomial.induction_on with',\n",
       "   'state_after': None,\n",
       "   'message': \"<stdin>:1:48: unexpected end of input; expected '|'\",\n",
       "   'dist_reduction': -inf},\n",
       "  {'state_before': 'R : Type u\\nS : Type v\\nσ : Type u_1\\nτ : Type u_2\\nr : R\\ne : ℕ\\nn m : σ\\ns : σ →₀ ℕ\\ninst✝¹ : CommSemiring R\\np✝ q : MvPolynomial σ R\\ninst✝ : CommSemiring S\\np : MvPolynomial σ R\\nf : R →+* S\\nhf : Injective ⇑f\\n⊢ ((map f) p).degrees = p.degrees',\n",
       "   'tactic': 'induction p using MvPolynomial.induction_on with',\n",
       "   'state_after': None,\n",
       "   'message': \"<stdin>:1:48: unexpected end of input; expected '|'\",\n",
       "   'dist_reduction': -inf},\n",
       "  {'state_before': 'R : Type u\\nS : Type v\\nσ : Type u_1\\nτ : Type u_2\\nr : R\\ne : ℕ\\nn m : σ\\ns : σ →₀ ℕ\\ninst✝¹ : CommSemiring R\\np✝ q : MvPolynomial σ R\\ninst✝ : CommSemiring S\\np : MvPolynomial σ R\\nf : R →+* S\\nhf : Injective ⇑f\\n⊢ ((map f) p).degrees = p.degrees',\n",
       "   'tactic': 'induction p using MvPolynomial.induction_on with',\n",
       "   'state_after': None,\n",
       "   'message': \"<stdin>:1:48: unexpected end of input; expected '|'\",\n",
       "   'dist_reduction': -inf},\n",
       "  {'state_before': 'R : Type u\\nS : Type v\\nσ : Type u_1\\nτ : Type u_2\\nr : R\\ne : ℕ\\nn m : σ\\ns : σ →₀ ℕ\\ninst✝¹ : CommSemiring R\\np✝ q : MvPolynomial σ R\\ninst✝ : CommSemiring S\\np : MvPolynomial σ R\\nf : R →+* S\\nhf : Injective ⇑f\\n⊢ ((map f) p).degrees = p.degrees',\n",
       "   'tactic': 'induction p using MvPolynomial.induction_on with',\n",
       "   'state_after': None,\n",
       "   'message': \"<stdin>:1:48: unexpected end of input; expected '|'\",\n",
       "   'dist_reduction': -inf},\n",
       "  {'state_before': 'R : Type u\\nS : Type v\\nσ : Type u_1\\nτ : Type u_2\\nr : R\\ne : ℕ\\nn m : σ\\ns : σ →₀ ℕ\\ninst✝¹ : CommSemiring R\\np✝ q : MvPolynomial σ R\\ninst✝ : CommSemiring S\\np : MvPolynomial σ R\\nf : R →+* S\\nhf : Injective ⇑f\\n⊢ ((map f) p).degrees = p.degrees',\n",
       "   'tactic': 'induction p using MvPolynomial.induction_on with',\n",
       "   'state_after': None,\n",
       "   'message': \"<stdin>:1:48: unexpected end of input; expected '|'\",\n",
       "   'dist_reduction': -inf},\n",
       "  {'state_before': 'R : Type u\\nS : Type v\\nσ : Type u_1\\nτ : Type u_2\\nr : R\\ne : ℕ\\nn m : σ\\ns : σ →₀ ℕ\\ninst✝¹ : CommSemiring R\\np✝ q : MvPolynomial σ R\\ninst✝ : CommSemiring S\\np : MvPolynomial σ R\\nf : R →+* S\\nhf : Injective ⇑f\\n⊢ ((map f) p).degrees = p.degrees',\n",
       "   'tactic': 'ext i',\n",
       "   'state_after': None,\n",
       "   'message': 'no applicable extensionality theorem found for\\n  Multiset σ',\n",
       "   'dist_reduction': -inf},\n",
       "  {'state_before': 'R : Type u\\nS : Type v\\nσ : Type u_1\\nτ : Type u_2\\nr : R\\ne : ℕ\\nn m : σ\\ns : σ →₀ ℕ\\ninst✝¹ : CommSemiring R\\np✝ q : MvPolynomial σ R\\ninst✝ : CommSemiring S\\np : MvPolynomial σ R\\nf : R →+* S\\nhf : Injective ⇑f\\n⊢ ((map f) p).degrees = p.degrees',\n",
       "   'tactic': 'ext i',\n",
       "   'state_after': None,\n",
       "   'message': 'no applicable extensionality theorem found for\\n  Multiset σ',\n",
       "   'dist_reduction': -inf},\n",
       "  {'state_before': 'R : Type u\\nS : Type v\\nσ : Type u_1\\nτ : Type u_2\\nr : R\\ne : ℕ\\nn m : σ\\ns : σ →₀ ℕ\\ninst✝¹ : CommSemiring R\\np✝ q : MvPolynomial σ R\\ninst✝ : CommSemiring S\\np : MvPolynomial σ R\\nf : R →+* S\\nhf : Injective ⇑f\\n⊢ ((map f) p).degrees = p.degrees',\n",
       "   'tactic': 'induction p using MvPolynomial.induction_on with',\n",
       "   'state_after': None,\n",
       "   'message': \"<stdin>:1:48: unexpected end of input; expected '|'\",\n",
       "   'dist_reduction': -inf}]}"
      ]
     },
     "execution_count": 4,
     "metadata": {},
     "output_type": "execute_result"
    }
   ],
   "source": [
    "data[0]"
   ]
  },
  {
   "cell_type": "code",
   "execution_count": 5,
   "metadata": {},
   "outputs": [
    {
     "data": {
      "text/plain": [
       "{'thm_idx': '268',\n",
       " 'state_before': 'α : Type u_1\\nβ : Type u_2\\ninst✝² : LinearOrder α\\ninst✝¹ : CommSemigroup α\\ninst✝ : CommSemigroup β\\nf : α → β\\na b : α\\n⊢ f (min a b) * f (max a b) = f a * f b',\n",
       " 'positive': [{'tactic': 'obtain h | h := le_total a b <;> simp [h, mul_comm]',\n",
       "   'annotated_tactic': ['obtain h | h := <a>le_total</a> a b <;> simp [h, <a>mul_comm</a>]',\n",
       "    [{'full_name': 'le_total',\n",
       "      'def_path': 'Mathlib/Init/Order/Defs.lean',\n",
       "      'def_pos': [297, 9],\n",
       "      'def_end_pos': [297, 17]},\n",
       "     {'full_name': 'mul_comm',\n",
       "      'def_path': 'Mathlib/Algebra/Group/Defs.lean',\n",
       "      'def_pos': [332, 9],\n",
       "      'def_end_pos': [332, 17]}]],\n",
       "   'state_before': 'α : Type u_1\\nβ : Type u_2\\ninst✝² : LinearOrder α\\ninst✝¹ : CommSemigroup α\\ninst✝ : CommSemigroup β\\nf : α → β\\na b : α\\n⊢ f (min a b) * f (max a b) = f a * f b',\n",
       "   'state_after': 'no goals',\n",
       "   'dist_reduction': 1}],\n",
       " 'negative': [{'state_before': 'α : Type u_1\\nβ : Type u_2\\ninst✝² : LinearOrder α\\ninst✝¹ : CommSemigroup α\\ninst✝ : CommSemigroup β\\nf : α → β\\na b : α\\n⊢ f (min a b) * f (max a b) = f a * f b',\n",
       "   'tactic': 'by_cases h : a ≤ b',\n",
       "   'state_after': 'case pos\\nα : Type u_1\\nβ : Type u_2\\ninst✝² : LinearOrder α\\ninst✝¹ : CommSemigroup α\\ninst✝ : CommSemigroup β\\nf : α → β\\na b : α\\nh : a ≤ b\\n⊢ f (min a b) * f (max a b) = f a * f b\\n\\ncase neg\\nα : Type u_1\\nβ : Type u_2\\ninst✝² : LinearOrder α\\ninst✝¹ : CommSemigroup α\\ninst✝ : CommSemigroup β\\nf : α → β\\na b : α\\nh : ¬a ≤ b\\n⊢ f (min a b) * f (max a b) = f a * f b',\n",
       "   'message': None,\n",
       "   'dist_reduction': -inf},\n",
       "  {'state_before': 'α : Type u_1\\nβ : Type u_2\\ninst✝² : LinearOrder α\\ninst✝¹ : CommSemigroup α\\ninst✝ : CommSemigroup β\\nf : α → β\\na b : α\\n⊢ f (min a b) * f (max a b) = f a * f b',\n",
       "   'tactic': 'by_cases h : a ≤ b',\n",
       "   'state_after': 'case pos\\nα : Type u_1\\nβ : Type u_2\\ninst✝² : LinearOrder α\\ninst✝¹ : CommSemigroup α\\ninst✝ : CommSemigroup β\\nf : α → β\\na b : α\\nh : a ≤ b\\n⊢ f (min a b) * f (max a b) = f a * f b\\n\\ncase neg\\nα : Type u_1\\nβ : Type u_2\\ninst✝² : LinearOrder α\\ninst✝¹ : CommSemigroup α\\ninst✝ : CommSemigroup β\\nf : α → β\\na b : α\\nh : ¬a ≤ b\\n⊢ f (min a b) * f (max a b) = f a * f b',\n",
       "   'message': None,\n",
       "   'dist_reduction': -inf},\n",
       "  {'state_before': 'α : Type u_1\\nβ : Type u_2\\ninst✝² : LinearOrder α\\ninst✝¹ : CommSemigroup α\\ninst✝ : CommSemigroup β\\nf : α → β\\na b : α\\n⊢ f (min a b) * f (max a b) = f a * f b',\n",
       "   'tactic': 'cases le_total a b with',\n",
       "   'state_after': None,\n",
       "   'message': \"<stdin>:1:23: unexpected end of input; expected '|'\",\n",
       "   'dist_reduction': -inf},\n",
       "  {'state_before': 'α : Type u_1\\nβ : Type u_2\\ninst✝² : LinearOrder α\\ninst✝¹ : CommSemigroup α\\ninst✝ : CommSemigroup β\\nf : α → β\\na b : α\\n⊢ f (min a b) * f (max a b) = f a * f b',\n",
       "   'tactic': 'by_cases h : a ≤ b',\n",
       "   'state_after': 'case pos\\nα : Type u_1\\nβ : Type u_2\\ninst✝² : LinearOrder α\\ninst✝¹ : CommSemigroup α\\ninst✝ : CommSemigroup β\\nf : α → β\\na b : α\\nh : a ≤ b\\n⊢ f (min a b) * f (max a b) = f a * f b\\n\\ncase neg\\nα : Type u_1\\nβ : Type u_2\\ninst✝² : LinearOrder α\\ninst✝¹ : CommSemigroup α\\ninst✝ : CommSemigroup β\\nf : α → β\\na b : α\\nh : ¬a ≤ b\\n⊢ f (min a b) * f (max a b) = f a * f b',\n",
       "   'message': None,\n",
       "   'dist_reduction': -inf},\n",
       "  {'state_before': 'α : Type u_1\\nβ : Type u_2\\ninst✝² : LinearOrder α\\ninst✝¹ : CommSemigroup α\\ninst✝ : CommSemigroup β\\nf : α → β\\na b : α\\n⊢ f (min a b) * f (max a b) = f a * f b',\n",
       "   'tactic': 'cases le_total a b with',\n",
       "   'state_after': None,\n",
       "   'message': \"<stdin>:1:23: unexpected end of input; expected '|'\",\n",
       "   'dist_reduction': -inf},\n",
       "  {'state_before': 'α : Type u_1\\nβ : Type u_2\\ninst✝² : LinearOrder α\\ninst✝¹ : CommSemigroup α\\ninst✝ : CommSemigroup β\\nf : α → β\\na b : α\\n⊢ f (min a b) * f (max a b) = f a * f b',\n",
       "   'tactic': 'cases le_total a b with',\n",
       "   'state_after': None,\n",
       "   'message': \"<stdin>:1:23: unexpected end of input; expected '|'\",\n",
       "   'dist_reduction': -inf},\n",
       "  {'state_before': 'α : Type u_1\\nβ : Type u_2\\ninst✝² : LinearOrder α\\ninst✝¹ : CommSemigroup α\\ninst✝ : CommSemigroup β\\nf : α → β\\na b : α\\n⊢ f (min a b) * f (max a b) = f a * f b',\n",
       "   'tactic': 'cases le_total a b with',\n",
       "   'state_after': None,\n",
       "   'message': \"<stdin>:1:23: unexpected end of input; expected '|'\",\n",
       "   'dist_reduction': -inf},\n",
       "  {'state_before': 'α : Type u_1\\nβ : Type u_2\\ninst✝² : LinearOrder α\\ninst✝¹ : CommSemigroup α\\ninst✝ : CommSemigroup β\\nf : α → β\\na b : α\\n⊢ f (min a b) * f (max a b) = f a * f b',\n",
       "   'tactic': 'by_cases h : a ≤ b',\n",
       "   'state_after': 'case pos\\nα : Type u_1\\nβ : Type u_2\\ninst✝² : LinearOrder α\\ninst✝¹ : CommSemigroup α\\ninst✝ : CommSemigroup β\\nf : α → β\\na b : α\\nh : a ≤ b\\n⊢ f (min a b) * f (max a b) = f a * f b\\n\\ncase neg\\nα : Type u_1\\nβ : Type u_2\\ninst✝² : LinearOrder α\\ninst✝¹ : CommSemigroup α\\ninst✝ : CommSemigroup β\\nf : α → β\\na b : α\\nh : ¬a ≤ b\\n⊢ f (min a b) * f (max a b) = f a * f b',\n",
       "   'message': None,\n",
       "   'dist_reduction': -inf},\n",
       "  {'state_before': 'α : Type u_1\\nβ : Type u_2\\ninst✝² : LinearOrder α\\ninst✝¹ : CommSemigroup α\\ninst✝ : CommSemigroup β\\nf : α → β\\na b : α\\n⊢ f (min a b) * f (max a b) = f a * f b',\n",
       "   'tactic': 'cases le_total a b with',\n",
       "   'state_after': None,\n",
       "   'message': \"<stdin>:1:23: unexpected end of input; expected '|'\",\n",
       "   'dist_reduction': -inf},\n",
       "  {'state_before': 'α : Type u_1\\nβ : Type u_2\\ninst✝² : LinearOrder α\\ninst✝¹ : CommSemigroup α\\ninst✝ : CommSemigroup β\\nf : α → β\\na b : α\\n⊢ f (min a b) * f (max a b) = f a * f b',\n",
       "   'tactic': 'cases le_total a b with',\n",
       "   'state_after': None,\n",
       "   'message': \"<stdin>:1:23: unexpected end of input; expected '|'\",\n",
       "   'dist_reduction': -inf},\n",
       "  {'state_before': 'α : Type u_1\\nβ : Type u_2\\ninst✝² : LinearOrder α\\ninst✝¹ : CommSemigroup α\\ninst✝ : CommSemigroup β\\nf : α → β\\na b : α\\n⊢ f (min a b) * f (max a b) = f a * f b',\n",
       "   'tactic': 'cases le_total a b with',\n",
       "   'state_after': None,\n",
       "   'message': \"<stdin>:1:23: unexpected end of input; expected '|'\",\n",
       "   'dist_reduction': -inf},\n",
       "  {'state_before': 'α : Type u_1\\nβ : Type u_2\\ninst✝² : LinearOrder α\\ninst✝¹ : CommSemigroup α\\ninst✝ : CommSemigroup β\\nf : α → β\\na b : α\\n⊢ f (min a b) * f (max a b) = f a * f b',\n",
       "   'tactic': 'rcases le_total a b with h | h',\n",
       "   'state_after': 'case inl\\nα : Type u_1\\nβ : Type u_2\\ninst✝² : LinearOrder α\\ninst✝¹ : CommSemigroup α\\ninst✝ : CommSemigroup β\\nf : α → β\\na b : α\\nh : a ≤ b\\n⊢ f (min a b) * f (max a b) = f a * f b\\n\\ncase inr\\nα : Type u_1\\nβ : Type u_2\\ninst✝² : LinearOrder α\\ninst✝¹ : CommSemigroup α\\ninst✝ : CommSemigroup β\\nf : α → β\\na b : α\\nh : b ≤ a\\n⊢ f (min a b) * f (max a b) = f a * f b',\n",
       "   'message': None,\n",
       "   'dist_reduction': -inf},\n",
       "  {'state_before': 'α : Type u_1\\nβ : Type u_2\\ninst✝² : LinearOrder α\\ninst✝¹ : CommSemigroup α\\ninst✝ : CommSemigroup β\\nf : α → β\\na b : α\\n⊢ f (min a b) * f (max a b) = f a * f b',\n",
       "   'tactic': 'by_cases h : a ≤ b',\n",
       "   'state_after': 'case pos\\nα : Type u_1\\nβ : Type u_2\\ninst✝² : LinearOrder α\\ninst✝¹ : CommSemigroup α\\ninst✝ : CommSemigroup β\\nf : α → β\\na b : α\\nh : a ≤ b\\n⊢ f (min a b) * f (max a b) = f a * f b\\n\\ncase neg\\nα : Type u_1\\nβ : Type u_2\\ninst✝² : LinearOrder α\\ninst✝¹ : CommSemigroup α\\ninst✝ : CommSemigroup β\\nf : α → β\\na b : α\\nh : ¬a ≤ b\\n⊢ f (min a b) * f (max a b) = f a * f b',\n",
       "   'message': None,\n",
       "   'dist_reduction': -inf},\n",
       "  {'state_before': 'α : Type u_1\\nβ : Type u_2\\ninst✝² : LinearOrder α\\ninst✝¹ : CommSemigroup α\\ninst✝ : CommSemigroup β\\nf : α → β\\na b : α\\n⊢ f (min a b) * f (max a b) = f a * f b',\n",
       "   'tactic': 'cases le_total a b with',\n",
       "   'state_after': None,\n",
       "   'message': \"<stdin>:1:23: unexpected end of input; expected '|'\",\n",
       "   'dist_reduction': -inf},\n",
       "  {'state_before': 'α : Type u_1\\nβ : Type u_2\\ninst✝² : LinearOrder α\\ninst✝¹ : CommSemigroup α\\ninst✝ : CommSemigroup β\\nf : α → β\\na b : α\\n⊢ f (min a b) * f (max a b) = f a * f b',\n",
       "   'tactic': 'cases le_total a b with',\n",
       "   'state_after': None,\n",
       "   'message': \"<stdin>:1:23: unexpected end of input; expected '|'\",\n",
       "   'dist_reduction': -inf},\n",
       "  {'state_before': 'α : Type u_1\\nβ : Type u_2\\ninst✝² : LinearOrder α\\ninst✝¹ : CommSemigroup α\\ninst✝ : CommSemigroup β\\nf : α → β\\na b : α\\n⊢ f (min a b) * f (max a b) = f a * f b',\n",
       "   'tactic': 'cases le_total a b with',\n",
       "   'state_after': None,\n",
       "   'message': \"<stdin>:1:23: unexpected end of input; expected '|'\",\n",
       "   'dist_reduction': -inf}]}"
      ]
     },
     "execution_count": 5,
     "metadata": {},
     "output_type": "execute_result"
    }
   ],
   "source": [
    "data[151]"
   ]
  },
  {
   "cell_type": "code",
   "execution_count": 10,
   "metadata": {},
   "outputs": [],
   "source": [
    "from transformers import AutoModelForCausalLM, AutoTokenizer\n",
    "from tqdm import tqdm"
   ]
  },
  {
   "cell_type": "code",
   "execution_count": 9,
   "metadata": {},
   "outputs": [],
   "source": [
    "# model: deepseek-ai/DeepSeek-Prover-V1 # FIXING! sent discord message\n",
    "# model: EleutherAI/llemma_7b\n",
    "# model: internlm/internlm2-math-base-7b\n",
    "tok = AutoTokenizer.from_pretrained(\"internlm/internlm2-math-base-7b\", trust_remote_code=True)"
   ]
  },
  {
   "cell_type": "code",
   "execution_count": 25,
   "metadata": {},
   "outputs": [
    {
     "name": "stderr",
     "output_type": "stream",
     "text": [
      "281it [00:00, 3210.89it/s]\n"
     ]
    }
   ],
   "source": [
    "token_length_data = {}\n",
    "for i, entry in tqdm(enumerate(data)):\n",
    "    rel_info = {\n",
    "        \"state_before\": entry[\"state_before\"],\n",
    "        \"pos0\": entry[\"positive\"][0][\"tactic\"],\n",
    "        \"state_after_pos0\": entry[\"positive\"][0][\"state_after\"],\n",
    "        \"neg0\": entry[\"negative\"][0][\"tactic\"],\n",
    "        \"state_after_neg0\": entry[\"negative\"][0][\"state_after\"],\n",
    "    }\n",
    "    tk_info = {\n",
    "        k: (len(tok.encode(v)) if isinstance(v, str) else 0)\n",
    "        for k, v in rel_info.items()\n",
    "    }\n",
    "    rel_info[\"token_info\"] = tk_info\n",
    "    token_length_data[f'{entry[\"thm_idx\"]}_{i}'] = rel_info"
   ]
  },
  {
   "cell_type": "code",
   "execution_count": 26,
   "metadata": {},
   "outputs": [],
   "source": [
    "pos_lens = [v[\"token_info\"][\"state_before\"] + v[\"token_info\"][\"pos0\"] for v in token_length_data.values()]\n",
    "neg_lens = [v[\"token_info\"][\"state_before\"] + v[\"token_info\"][\"neg0\"] for v in token_length_data.values()]"
   ]
  },
  {
   "cell_type": "code",
   "execution_count": 56,
   "metadata": {},
   "outputs": [],
   "source": [
    "state_only = [v[\"token_info\"][\"state_before\"] for v in token_length_data.values()]\n",
    "pos_only = [v[\"token_info\"][\"pos0\"] for v in token_length_data.values()]\n",
    "neg_only = [v[\"token_info\"][\"neg0\"] for v in token_length_data.values()]"
   ]
  },
  {
   "cell_type": "code",
   "execution_count": 57,
   "metadata": {},
   "outputs": [],
   "source": [
    "import numpy as np"
   ]
  },
  {
   "cell_type": "code",
   "execution_count": 58,
   "metadata": {},
   "outputs": [
    {
     "data": {
      "text/plain": [
       "(101.52669039145907, 13.135231316725978, 10.86832740213523)"
      ]
     },
     "execution_count": 58,
     "metadata": {},
     "output_type": "execute_result"
    }
   ],
   "source": [
    "np.mean(state_only), np.mean(pos_only), np.mean(neg_only)"
   ]
  },
  {
   "cell_type": "code",
   "execution_count": 59,
   "metadata": {},
   "outputs": [],
   "source": [
    "def find_outlier_indexes(data: list[int]) -> list[int]:\n",
    "    \"\"\"\n",
    "    Finds the indexes of outliers in a list of integers using the IQR method.\n",
    "\n",
    "    Args:\n",
    "    data (list[int]): The input list of integers.\n",
    "\n",
    "    Returns:\n",
    "    list[int]: A list of indexes where outliers are located.\n",
    "    \"\"\"\n",
    "    # Convert the data to a numpy array for easier manipulation\n",
    "    data_np = np.array(data)\n",
    "    \n",
    "    # Calculate Q1 (25th percentile) and Q3 (75th percentile)\n",
    "    Q1 = np.percentile(data_np, 25)\n",
    "    Q3 = np.percentile(data_np, 75)\n",
    "    \n",
    "    # Compute the IQR\n",
    "    IQR = Q3 - Q1\n",
    "    \n",
    "    # Determine the lower and upper bounds for outliers\n",
    "    lower_bound = Q1 - 1.5 * IQR\n",
    "    upper_bound = Q3 + 1.5 * IQR\n",
    "    \n",
    "    # Find indexes of outliers\n",
    "    outlier_indexes = [index for index, value in enumerate(data) if value < lower_bound or value > upper_bound]\n",
    "    \n",
    "    return outlier_indexes"
   ]
  },
  {
   "cell_type": "code",
   "execution_count": 60,
   "metadata": {},
   "outputs": [],
   "source": [
    "out_idxs = find_outlier_indexes(state_only)"
   ]
  },
  {
   "cell_type": "code",
   "execution_count": 61,
   "metadata": {},
   "outputs": [
    {
     "data": {
      "text/plain": [
       "[8, 10, 81, 84, 112, 113, 152, 166, 186, 211]"
      ]
     },
     "execution_count": 61,
     "metadata": {},
     "output_type": "execute_result"
    }
   ],
   "source": [
    "out_idxs"
   ]
  },
  {
   "cell_type": "code",
   "execution_count": 64,
   "metadata": {},
   "outputs": [
    {
     "name": "stdout",
     "output_type": "stream",
     "text": [
      "8 279\n",
      "10 308\n",
      "81 344\n",
      "84 242\n",
      "112 307\n",
      "113 312\n",
      "152 693\n",
      "166 229\n",
      "186 452\n",
      "211 244\n"
     ]
    }
   ],
   "source": [
    "for i in out_idxs:\n",
    "    print(i, state_only[i])"
   ]
  },
  {
   "cell_type": "code",
   "execution_count": 66,
   "metadata": {},
   "outputs": [],
   "source": [
    "exclude_idxs = {152, 186}\n",
    "data_v2 = []\n",
    "for i, entry in enumerate(data):\n",
    "    if i in exclude_idxs:\n",
    "        continue\n",
    "    data_v2.append(entry)\n",
    "with open(\"../data/rm_eval_dataset_v2.json\", 'w') as f:\n",
    "    json.dump(data_v2, f, indent=4)"
   ]
  },
  {
   "cell_type": "code",
   "execution_count": 29,
   "metadata": {},
   "outputs": [
    {
     "data": {
      "text/plain": [
       "281"
      ]
     },
     "execution_count": 29,
     "metadata": {},
     "output_type": "execute_result"
    }
   ],
   "source": [
    "\n",
    "len(pos_lens)"
   ]
  },
  {
   "cell_type": "code",
   "execution_count": 40,
   "metadata": {},
   "outputs": [
    {
     "data": {
      "text/plain": [
       "<matplotlib.collections.PathCollection at 0x7f22c02e8d30>"
      ]
     },
     "execution_count": 40,
     "metadata": {},
     "output_type": "execute_result"
    },
    {
     "data": {
      "image/png": "[encoded data removed]",
      "text/plain": [
       "<Figure size 640x480 with 1 Axes>"
      ]
     },
     "metadata": {},
     "output_type": "display_data"
    }
   ],
   "source": [
    "x = list(range(len(token_length_data)))\n",
    "plt.scatter(x, pos_lens, label=\"Positive\")"
   ]
  },
  {
   "cell_type": "code",
   "execution_count": 31,
   "metadata": {},
   "outputs": [
    {
     "data": {
      "text/plain": [
       "<BarContainer object of 281 artists>"
      ]
     },
     "execution_count": 31,
     "metadata": {},
     "output_type": "execute_result"
    },
    {
     "data": {
      "image/png": "[encoded data removed]",
      "text/plain": [
       "<Figure size 640x480 with 1 Axes>"
      ]
     },
     "metadata": {},
     "output_type": "display_data"
    }
   ],
   "source": [
    "plt.bar(x, pos_lens, label=[e[\"thm_idx\"] for e in data])"
   ]
  },
  {
   "cell_type": "code",
   "execution_count": 41,
   "metadata": {},
   "outputs": [
    {
     "data": {
      "text/plain": [
       "<BarContainer object of 281 artists>"
      ]
     },
     "execution_count": 41,
     "metadata": {},
     "output_type": "execute_result"
    },
    {
     "data": {
      "image/png": "[encoded data removed]",
      "text/plain": [
       "<Figure size 640x480 with 1 Axes>"
      ]
     },
     "metadata": {},
     "output_type": "display_data"
    }
   ],
   "source": [
    "plt.bar(x, height=neg_lens, label=[e[\"thm_idx\"] for e in data])"
   ]
  },
  {
   "cell_type": "code",
   "execution_count": 39,
   "metadata": {},
   "outputs": [
    {
     "data": {
      "text/plain": [
       "156"
      ]
     },
     "execution_count": 39,
     "metadata": {},
     "output_type": "execute_result"
    }
   ],
   "source": [
    "x"
   ]
  },
  {
   "cell_type": "code",
   "execution_count": 37,
   "metadata": {},
   "outputs": [
    {
     "data": {
      "text/plain": [
       "[140,\n",
       " 95,\n",
       " 76,\n",
       " 77,\n",
       " 69,\n",
       " 111,\n",
       " 55,\n",
       " 67,\n",
       " 281,\n",
       " 93,\n",
       " 310,\n",
       " 63,\n",
       " 121,\n",
       " 40,\n",
       " 59,\n",
       " 51,\n",
       " 74,\n",
       " 81,\n",
       " 95,\n",
       " 121,\n",
       " 133,\n",
       " 41,\n",
       " 113,\n",
       " 105,\n",
       " 118,\n",
       " 123,\n",
       " 65,\n",
       " 84,\n",
       " 103,\n",
       " 104,\n",
       " 88,\n",
       " 113,\n",
       " 44,\n",
       " 42,\n",
       " 74,\n",
       " 174,\n",
       " 96,\n",
       " 71,\n",
       " 237,\n",
       " 75,\n",
       " 101,\n",
       " 39,\n",
       " 129,\n",
       " 85,\n",
       " 167,\n",
       " 85,\n",
       " 73,\n",
       " 30,\n",
       " 47,\n",
       " 135,\n",
       " 113,\n",
       " 131,\n",
       " 92,\n",
       " 72,\n",
       " 51,\n",
       " 74,\n",
       " 80,\n",
       " 74,\n",
       " 126,\n",
       " 146,\n",
       " 40,\n",
       " 164,\n",
       " 194,\n",
       " 31,\n",
       " 41,\n",
       " 85,\n",
       " 136,\n",
       " 130,\n",
       " 50,\n",
       " 65,\n",
       " 65,\n",
       " 64,\n",
       " 163,\n",
       " 62,\n",
       " 16,\n",
       " 184,\n",
       " 157,\n",
       " 33,\n",
       " 62,\n",
       " 63,\n",
       " 176,\n",
       " 374,\n",
       " 145,\n",
       " 92,\n",
       " 255,\n",
       " 162,\n",
       " 65,\n",
       " 69,\n",
       " 98,\n",
       " 126,\n",
       " 26,\n",
       " 128,\n",
       " 227,\n",
       " 23,\n",
       " 118,\n",
       " 127,\n",
       " 42,\n",
       " 171,\n",
       " 121,\n",
       " 51,\n",
       " 121,\n",
       " 57,\n",
       " 33,\n",
       " 69,\n",
       " 37,\n",
       " 120,\n",
       " 147,\n",
       " 76,\n",
       " 164,\n",
       " 85,\n",
       " 65,\n",
       " 206,\n",
       " 315,\n",
       " 345,\n",
       " 46,\n",
       " 127,\n",
       " 141,\n",
       " 61,\n",
       " 74,\n",
       " 163,\n",
       " 54,\n",
       " 82,\n",
       " 30,\n",
       " 37,\n",
       " 119,\n",
       " 181,\n",
       " 215,\n",
       " 200,\n",
       " 81,\n",
       " 127,\n",
       " 139,\n",
       " 97,\n",
       " 128,\n",
       " 246,\n",
       " 49,\n",
       " 85,\n",
       " 129,\n",
       " 133,\n",
       " 64,\n",
       " 69,\n",
       " 50,\n",
       " 46,\n",
       " 117,\n",
       " 132,\n",
       " 149,\n",
       " 149,\n",
       " 89,\n",
       " 57,\n",
       " 34,\n",
       " 135,\n",
       " 102,\n",
       " 98,\n",
       " 707,\n",
       " 85,\n",
       " 223,\n",
       " 77,\n",
       " 100,\n",
       " 159,\n",
       " 178,\n",
       " 97,\n",
       " 77,\n",
       " 93,\n",
       " 89,\n",
       " 108,\n",
       " 117,\n",
       " 193,\n",
       " 256,\n",
       " 89,\n",
       " 88,\n",
       " 119,\n",
       " 140,\n",
       " 116,\n",
       " 87,\n",
       " 64,\n",
       " 56,\n",
       " 51,\n",
       " 82,\n",
       " 167,\n",
       " 111,\n",
       " 71,\n",
       " 80,\n",
       " 174,\n",
       " 50,\n",
       " 189,\n",
       " 206,\n",
       " 198,\n",
       " 455,\n",
       " 198,\n",
       " 127,\n",
       " 79,\n",
       " 58,\n",
       " 161,\n",
       " 74,\n",
       " 22,\n",
       " 85,\n",
       " 61,\n",
       " 78,\n",
       " 77,\n",
       " 90,\n",
       " 94,\n",
       " 92,\n",
       " 172,\n",
       " 164,\n",
       " 106,\n",
       " 86,\n",
       " 178,\n",
       " 181,\n",
       " 183,\n",
       " 77,\n",
       " 54,\n",
       " 93,\n",
       " 267,\n",
       " 76,\n",
       " 51,\n",
       " 59,\n",
       " 84,\n",
       " 46,\n",
       " 29,\n",
       " 47,\n",
       " 53,\n",
       " 176,\n",
       " 178,\n",
       " 72,\n",
       " 24,\n",
       " 22,\n",
       " 68,\n",
       " 142,\n",
       " 167,\n",
       " 150,\n",
       " 98,\n",
       " 48,\n",
       " 151,\n",
       " 44,\n",
       " 87,\n",
       " 67,\n",
       " 94,\n",
       " 103,\n",
       " 37,\n",
       " 145,\n",
       " 89,\n",
       " 91,\n",
       " 125,\n",
       " 46,\n",
       " 84,\n",
       " 92,\n",
       " 191,\n",
       " 209,\n",
       " 113,\n",
       " 129,\n",
       " 113,\n",
       " 39,\n",
       " 130,\n",
       " 136,\n",
       " 91,\n",
       " 78,\n",
       " 138,\n",
       " 120,\n",
       " 74,\n",
       " 66,\n",
       " 144,\n",
       " 154,\n",
       " 122,\n",
       " 145,\n",
       " 69,\n",
       " 67,\n",
       " 118,\n",
       " 94,\n",
       " 85,\n",
       " 143,\n",
       " 152,\n",
       " 204,\n",
       " 97,\n",
       " 101,\n",
       " 98,\n",
       " 198,\n",
       " 212,\n",
       " 115,\n",
       " 118,\n",
       " 163,\n",
       " 143,\n",
       " 152]"
      ]
     },
     "execution_count": 37,
     "metadata": {},
     "output_type": "execute_result"
    }
   ],
   "source": [
    "neg_lens"
   ]
  },
  {
   "cell_type": "code",
   "execution_count": 34,
   "metadata": {},
   "outputs": [
    {
     "name": "stdout",
     "output_type": "stream",
     "text": [
      "152 697\n"
     ]
    }
   ],
   "source": [
    "for i, x in enumerate(pos_lens):\n",
    "    if x > 600:\n",
    "        print(i, x)"
   ]
  },
  {
   "cell_type": "code",
   "execution_count": 42,
   "metadata": {},
   "outputs": [],
   "source": [
    "d = data[152]"
   ]
  },
  {
   "cell_type": "code",
   "execution_count": 44,
   "metadata": {},
   "outputs": [],
   "source": [
    "enc = tok.encode(d[\"state_before\"])"
   ]
  },
  {
   "cell_type": "code",
   "execution_count": 45,
   "metadata": {},
   "outputs": [
    {
     "data": {
      "text/plain": [
       "693"
      ]
     },
     "execution_count": 45,
     "metadata": {},
     "output_type": "execute_result"
    }
   ],
   "source": [
    "len(enc)"
   ]
  },
  {
   "cell_type": "code",
   "execution_count": 46,
   "metadata": {},
   "outputs": [
    {
     "name": "stdout",
     "output_type": "stream",
     "text": [
      "C₁ : Type u_1\n",
      "C₂ : Type u_2\n",
      "D : Type u_3\n",
      "I₁ : Type u_4\n",
      "I₂ : Type u_5\n",
      "J : Type u_6\n",
      "inst✝¹¹ : Category.{u_9, u_1} C₁\n",
      "inst✝¹⁰ : Category.{u_8, u_2} C₂\n",
      "inst✝⁹ : Category.{u_7, u_3} D\n",
      "inst✝⁸ : Preadditive C₁\n",
      "inst✝⁷ : Preadditive C₂\n",
      "inst✝⁶ : Preadditive D\n",
      "c₁ : ComplexShape I₁\n",
      "c₂ : ComplexShape I₂\n",
      "K₁ L₁ : HomologicalComplex C₁ c₁\n",
      "f₁ f₁' : K₁ ⟶ L₁\n",
      "h₁ : Homotopy f₁ f₁'\n",
      "K₂ L₂ : HomologicalComplex C₂ c₂\n",
      "f₂ : K₂ ⟶ L₂\n",
      "F : C₁ ⥤ C₂ ⥤ D\n",
      "inst✝⁵ : F.Additive\n",
      "inst✝⁴ : ∀ (X₁ : C₁), (F.obj X₁).Additive\n",
      "c : ComplexShape J\n",
      "inst✝³ : DecidableEq J\n",
      "inst✝² : TotalComplexShape c₁ c₂ c\n",
      "inst✝¹ : K₁.HasMapBifunctor K₂ F c\n",
      "inst✝ : L₁.HasMapBifunctor L₂ F c\n",
      "i₁ i₁' : I₁\n",
      "i₂ : I₂\n",
      "j j' : J\n",
      "h : c₁.π c₂ c (i₁', i₂) = j\n",
      "h' : c₁.prev i₁' = i₁\n",
      "⊢ K₁.ιMapBifunctor K₂ F c i₁' i₂ j h ≫ hom₁ h₁ f₂ F c j j' =\n",
      "    c₁.ε₁ c₂ c (i₁, i₂) •\n",
      "      (F.map (h₁.hom i₁' i₁)).app (K₂.X i₂) ≫ (F.obj (L₁.X i₁)).map (f₂.f i₂) ≫ L₁.ιMapBifunctorOrZero L₂ F c i₁ i₂ j'\n"
     ]
    }
   ],
   "source": [
    "print(d[\"state_before\"])"
   ]
  },
  {
   "cell_type": "code",
   "execution_count": 23,
   "metadata": {},
   "outputs": [
    {
     "data": {
      "text/plain": [
       "208"
      ]
     },
     "execution_count": 23,
     "metadata": {},
     "output_type": "execute_result"
    }
   ],
   "source": [
    "len(pos_lens)"
   ]
  },
  {
   "cell_type": "code",
   "execution_count": 2,
   "metadata": {},
   "outputs": [],
   "source": [
    "src_data_path = \"../data/time_filtered_val.json\"\n",
    "with open(src_data_path) as f:\n",
    "    src_data = json.load(f)"
   ]
  },
  {
   "cell_type": "code",
   "execution_count": 3,
   "metadata": {},
   "outputs": [
    {
     "data": {
      "text/plain": [
       "214"
      ]
     },
     "execution_count": 3,
     "metadata": {},
     "output_type": "execute_result"
    }
   ],
   "source": [
    "len(src_data)"
   ]
  },
  {
   "cell_type": "code",
   "execution_count": 4,
   "metadata": {},
   "outputs": [],
   "source": [
    "keys = list(src_data.keys())\n",
    "src_data_sample = {k: src_data[k] for k in keys[:5]}"
   ]
  },
  {
   "cell_type": "code",
   "execution_count": 5,
   "metadata": {},
   "outputs": [
    {
     "data": {
      "text/plain": [
       "{'url': 'https://github.com/leanprover-community/mathlib4',\n",
       " 'commit': '29dcec074de168ac2bf835a77ef68bbe069194c5',\n",
       " 'file_path': 'Mathlib/Algebra/MvPolynomial/Degrees.lean',\n",
       " 'full_name': 'MvPolynomial.degrees_map_of_injective',\n",
       " 'start': [214, 1],\n",
       " 'end': [216, 66],\n",
       " 'traced_tactics': [{'tactic': 'simp only [degrees, MvPolynomial.support_map_of_injective _ hf]',\n",
       "   'annotated_tactic': ['simp only [<a>degrees</a>, <a>MvPolynomial.support_map_of_injective</a> _ hf]',\n",
       "    [{'full_name': 'MvPolynomial.degrees',\n",
       "      'def_path': 'Mathlib/Algebra/MvPolynomial/Degrees.lean',\n",
       "      'def_pos': [79, 5],\n",
       "      'def_end_pos': [79, 12]},\n",
       "     {'full_name': 'MvPolynomial.support_map_of_injective',\n",
       "      'def_path': 'Mathlib/Algebra/MvPolynomial/Basic.lean',\n",
       "      'def_pos': [1450, 9],\n",
       "      'def_end_pos': [1450, 33]}]],\n",
       "   'state_before': 'R : Type u\\nS : Type v\\nσ : Type u_1\\nτ : Type u_2\\nr : R\\ne : ℕ\\nn m : σ\\ns : σ →₀ ℕ\\ninst✝¹ : CommSemiring R\\np✝ q : MvPolynomial σ R\\ninst✝ : CommSemiring S\\np : MvPolynomial σ R\\nf : R →+* S\\nhf : Injective ⇑f\\n⊢ ((map f) p).degrees = p.degrees',\n",
       "   'state_after': 'no goals'}],\n",
       " 'formal_statement': 'theorem degrees_map_of_injective [CommSemiring S] (p : MvPolynomial σ R) {f : R →+* S}\\n    (hf : Injective f) : (map f p).degrees = p.degrees := by\\n',\n",
       " 'is_tactic_proof': True,\n",
       " 'entry_time': 2.8110471249965485,\n",
       " 'entry_failed': False}"
      ]
     },
     "execution_count": 5,
     "metadata": {},
     "output_type": "execute_result"
    }
   ],
   "source": [
    "src_data_sample[keys[0]]"
   ]
  },
  {
   "cell_type": "code",
   "execution_count": 6,
   "metadata": {},
   "outputs": [],
   "source": [
    "sampled_data_path = \"../data/sample_proofs.json\"\n",
    "with open(sampled_data_path) as f:\n",
    "    sampled_data = json.load(f)"
   ]
  },
  {
   "cell_type": "code",
   "execution_count": 7,
   "metadata": {},
   "outputs": [
    {
     "name": "stdout",
     "output_type": "stream",
     "text": [
      "<class 'list'> 5 32\n"
     ]
    }
   ],
   "source": [
    "print(\n",
    "    type(sampled_data),\n",
    "    len(sampled_data),\n",
    "    len(sampled_data[0]),\n",
    ")"
   ]
  },
  {
   "cell_type": "code",
   "execution_count": 8,
   "metadata": {},
   "outputs": [],
   "source": [
    "pr00 = sampled_data[0][0]"
   ]
  },
  {
   "cell_type": "code",
   "execution_count": 10,
   "metadata": {},
   "outputs": [
    {
     "name": "stdout",
     "output_type": "stream",
     "text": [
      "  /-\n",
      "  We aim to show that the degrees of the polynomial obtained by mapping a multivariate polynomial \\( p \\) over \\( R \\) to a multivariate polynomial over \\( S \\) using an injective ring homomorphism \\( f \\) are the same as the degrees of the original polynomial \\( p \\).\n",
      "  1. **Extensionality**: We use the fact that two multisets are equal if they have the same elements with the same multiplicities.\n",
      "  2. **Monadicity**: The degrees of a polynomial are defined in terms of the union of multisets from the support of the polynomial.\n",
      "  3. **Injective Function**: Since \\( f \\) is injective, the image of each coefficient under \\( f \\) is uniquely determined, ensuring that the degrees of the polynomial remain unchanged.\n",
      "  -/\n",
      "  -- Use the extensionality principle for multisets to show equality.\n",
      "  rw [MvPolynomial.degrees_map]\n",
      "  -- Since f is injective, the degrees of the polynomial remain unchanged.\n",
      "  -- This is because the image of each coefficient under f is uniquely determined.\n",
      "  <;> simp [hf]\n",
      "  -- The degrees of the polynomial are the same before and after mapping.\n",
      "  <;> exact Finset.image_id _\n",
      "\n"
     ]
    }
   ],
   "source": [
    "print(pr00)"
   ]
  },
  {
   "cell_type": "markdown",
   "metadata": {},
   "source": [
    "# Fixing batch completion probability function"
   ]
  },
  {
   "cell_type": "code",
   "execution_count": 29,
   "metadata": {},
   "outputs": [],
   "source": [
    "import torch\n",
    "from transformers import AutoModelForCausalLM, AutoTokenizer"
   ]
  },
  {
   "cell_type": "code",
   "execution_count": 72,
   "metadata": {},
   "outputs": [
    {
     "name": "stderr",
     "output_type": "stream",
     "text": [
      "Loading checkpoint shards: 100%|██████████| 2/2 [00:04<00:00,  2.42s/it]\n"
     ]
    }
   ],
   "source": [
    "model_id = \"deepseek-ai/DeepSeek-Prover-V1\"\n",
    "tok = AutoTokenizer.from_pretrained(model_id, trust_remote_code=True)\n",
    "model = AutoModelForCausalLM.from_pretrained(model_id, trust_remote_code=True)"
   ]
  },
  {
   "cell_type": "code",
   "execution_count": 73,
   "metadata": {},
   "outputs": [],
   "source": [
    "if tok.pad_token_id is None:\n",
    "    tok.pad_token_id = tok.eos_token_id"
   ]
  },
  {
   "cell_type": "code",
   "execution_count": 95,
   "metadata": {},
   "outputs": [],
   "source": [
    "# original impl\n",
    "def batch_completion_probabilities(\n",
    "    model,\n",
    "    tokenizer,\n",
    "    prompt_completion_pairs,\n",
    "    sep=\"\",\n",
    "    device=None,\n",
    "):\n",
    "    input_texts = []\n",
    "    # idx of first completion char + last completion char\n",
    "    start_char_idxs = []\n",
    "    end_char_idxs = []\n",
    "    for prompt, completion in prompt_completion_pairs:\n",
    "        text = prompt + sep + completion\n",
    "        input_texts.append(text)\n",
    "        start_char_idxs.append(len(prompt) + len(sep))\n",
    "        print(f\"start: {start_char_idxs[-1]}\")\n",
    "        end_char_idxs.append(len(text) - 1)\n",
    "    \n",
    "    batch_enc = tokenizer(input_texts, padding=True, return_tensors=\"pt\")\n",
    "    input_ids = batch_enc.input_ids\n",
    "    if device:\n",
    "        input_ids = input_ids.to(device)\n",
    "    outputs = model(input_ids)\n",
    "    probs = torch.log_softmax(outputs.logits, dim=-1).detach()\n",
    "\n",
    "    start_token_idxs = []\n",
    "    for i, char_idx in enumerate(start_char_idxs):\n",
    "        start_token_idxs.append(batch_enc.char_to_token(i, char_idx))\n",
    "        print(i, char_idx, start_token_idxs[-1], batch_enc.input_ids[i])\n",
    "    # start_token_idxs = [batch_enc.char_to_token(i, char_idx) for i, char_idx in enumerate(start_char_idxs)]\n",
    "    end_token_idxs = [batch_enc.char_to_token(i, char_idx) for i, char_idx in enumerate(end_char_idxs)]\n",
    "\n",
    "    # collect the probability of the generated token -- probability at index 0 corresponds to the token at index 1\n",
    "    probs = probs[:, :-1, :]\n",
    "    input_ids = input_ids[:, 1:]\n",
    "    gen_probs = torch.gather(probs, 2, input_ids[:, :, None]).squeeze(-1)\n",
    "\n",
    "    batch = []\n",
    "    for input_probs, start_idx, end_idx in zip(gen_probs, start_token_idxs, end_token_idxs):\n",
    "        print(input_probs, start_idx, end_idx)\n",
    "        completion_log_prob = input_probs[start_idx:end_idx+1].sum().item()\n",
    "        batch.append({\n",
    "            \"log_prob_sum\": completion_log_prob,\n",
    "            \"token_count\": end_idx - start_idx + 1,\n",
    "        })\n",
    "    return batch"
   ]
  },
  {
   "cell_type": "code",
   "execution_count": 83,
   "metadata": {},
   "outputs": [],
   "source": [
    "text = \"The earth is round\""
   ]
  },
  {
   "cell_type": "code",
   "execution_count": 84,
   "metadata": {},
   "outputs": [
    {
     "data": {
      "text/plain": [
       "[100000, 549, 6039, 317, 4078]"
      ]
     },
     "execution_count": 84,
     "metadata": {},
     "output_type": "execute_result"
    }
   ],
   "source": [
    "tok.encode(text)"
   ]
  },
  {
   "cell_type": "code",
   "execution_count": 91,
   "metadata": {},
   "outputs": [
    {
     "name": "stdout",
     "output_type": "stream",
     "text": [
      "13\n"
     ]
    }
   ],
   "source": [
    "start_idx = len(\"The earth is \")\n",
    "print(start_idx)"
   ]
  },
  {
   "cell_type": "code",
   "execution_count": 86,
   "metadata": {},
   "outputs": [
    {
     "data": {
      "text/plain": [
       "'round'"
      ]
     },
     "execution_count": 86,
     "metadata": {},
     "output_type": "execute_result"
    }
   ],
   "source": [
    "text[start_idx:]"
   ]
  },
  {
   "cell_type": "code",
   "execution_count": 87,
   "metadata": {},
   "outputs": [],
   "source": [
    "benc = tok(text, return_tensors=\"pt\")"
   ]
  },
  {
   "cell_type": "code",
   "execution_count": 92,
   "metadata": {},
   "outputs": [
    {
     "data": {
      "text/plain": [
       "tensor([[100000,    549,   6039,    317,   4078]])"
      ]
     },
     "execution_count": 92,
     "metadata": {},
     "output_type": "execute_result"
    }
   ],
   "source": [
    "benc.input_ids"
   ]
  },
  {
   "cell_type": "code",
   "execution_count": 88,
   "metadata": {},
   "outputs": [
    {
     "data": {
      "text/plain": [
       "4"
      ]
     },
     "execution_count": 88,
     "metadata": {},
     "output_type": "execute_result"
    }
   ],
   "source": [
    "benc.char_to_token(0, start_idx)"
   ]
  },
  {
   "cell_type": "code",
   "execution_count": 27,
   "metadata": {},
   "outputs": [],
   "source": [
    "prompt_completion_pairs = [\n",
    "    (\"The earth is\" , \" flat.\"),\n",
    "    (\"The earth is\" , \" round.\"),\n",
    "    (\"The earth is\" , \" flat\"),\n",
    "    (\"The earth is\" , \" round\"),\n",
    "    (\"The earth is \" , \"flat\"),\n",
    "    (\"The earth is \" , \"round\"),\n",
    "]"
   ]
  },
  {
   "cell_type": "code",
   "execution_count": 98,
   "metadata": {},
   "outputs": [
    {
     "name": "stdout",
     "output_type": "stream",
     "text": [
      "start: 12\n",
      "start: 12\n",
      "start: 12\n",
      "start: 12\n",
      "start: 13\n",
      "start: 13\n",
      "0 12 4 tensor([100000,    549,   6039,    317,   7372,     13])\n",
      "1 12 4 tensor([100000,    549,   6039,    317,   4078,     13])\n",
      "2 12 5 tensor([100001, 100000,    549,   6039,    317,   7372])\n",
      "3 12 5 tensor([100001, 100000,    549,   6039,    317,   4078])\n",
      "4 13 5 tensor([100001, 100000,    549,   6039,    317,   7372])\n",
      "5 13 5 tensor([100001, 100000,    549,   6039,    317,   4078])\n",
      "tensor([-13.3202, -10.2705,  -1.7378,  -6.4810,  -3.7067]) 4 5\n",
      "tensor([-13.3202, -10.2705,  -1.7378,  -4.2532,  -2.2360]) 4 5\n",
      "tensor([-31.7360,  -8.6571,  -9.9023,  -1.1810,  -6.5289]) 5 5\n",
      "tensor([-31.7360,  -8.6571,  -9.9023,  -1.1810,  -4.6776]) 5 5\n",
      "tensor([-31.7360,  -8.6571,  -9.9023,  -1.1810,  -6.5289]) 5 5\n",
      "tensor([-31.7360,  -8.6571,  -9.9023,  -1.1810,  -4.6776]) 5 5\n"
     ]
    },
    {
     "data": {
      "text/plain": [
       "[{'log_prob_sum': -3.7066965103149414, 'token_count': 2},\n",
       " {'log_prob_sum': -2.2359964847564697, 'token_count': 2},\n",
       " {'log_prob_sum': 0.0, 'token_count': 1},\n",
       " {'log_prob_sum': 0.0, 'token_count': 1},\n",
       " {'log_prob_sum': 0.0, 'token_count': 1},\n",
       " {'log_prob_sum': 0.0, 'token_count': 1}]"
      ]
     },
     "execution_count": 98,
     "metadata": {},
     "output_type": "execute_result"
    }
   ],
   "source": [
    "batch_completion_probabilities(model, tok, prompt_completion_pairs)"
   ]
  },
  {
   "cell_type": "markdown",
   "metadata": {},
   "source": [
    "## fixing the padding problem\n",
    "\n",
    "Notice how in the tensors, the 549 token has different log prob depending on whether it is BOS -> 549 vs. EOS (temp pad) -> BOS -> 549\n",
    "- this clearly demonstrates that we're not actually ignoring the pad token\n",
    "\n",
    "probably just need to pass the attention mask from tokenization\n",
    "\n",
    "but I also want to add the pad token as an actual token instead of just using EOS token so we might be able to attend to the EOS token"
   ]
  },
  {
   "cell_type": "code",
   "execution_count": 1,
   "metadata": {},
   "outputs": [
    {
     "name": "stderr",
     "output_type": "stream",
     "text": [
      "/opt/conda/envs/gfn/lib/python3.10/site-packages/tqdm/auto.py:21: TqdmWarning: IProgress not found. Please update jupyter and ipywidgets. See https://ipywidgets.readthedocs.io/en/stable/user_install.html\n",
      "  from .autonotebook import tqdm as notebook_tqdm\n"
     ]
    }
   ],
   "source": [
    "from transformers import AutoModelForCausalLM, AutoTokenizer"
   ]
  },
  {
   "cell_type": "code",
   "execution_count": 18,
   "metadata": {},
   "outputs": [
    {
     "name": "stderr",
     "output_type": "stream",
     "text": [
      "Loading checkpoint shards: 100%|██████████| 2/2 [00:02<00:00,  1.28s/it]\n"
     ]
    }
   ],
   "source": [
    "dsp_v1_model_id = \"deepseek-ai/DeepSeek-Prover-V1\"\n",
    "tok = AutoTokenizer.from_pretrained(dsp_v1_model_id, trust_remote_code=True)\n",
    "model = AutoModelForCausalLM.from_pretrained(dsp_v1_model_id, trust_remote_code=True)"
   ]
  },
  {
   "cell_type": "code",
   "execution_count": 19,
   "metadata": {},
   "outputs": [
    {
     "name": "stdout",
     "output_type": "stream",
     "text": [
      "model vocab size: 102400\n",
      "tokenizer vocab size: 100002\n"
     ]
    }
   ],
   "source": [
    "print(f\"model vocab size: {model.config.vocab_size}\")\n",
    "print(f\"tokenizer vocab size: {len(tok)}\")"
   ]
  },
  {
   "cell_type": "code",
   "execution_count": 20,
   "metadata": {},
   "outputs": [
    {
     "name": "stdout",
     "output_type": "stream",
     "text": [
      "True\n",
      "True\n"
     ]
    }
   ],
   "source": [
    "print(tok.pad_token is None)\n",
    "print(tok.pad_token_id is None)"
   ]
  },
  {
   "cell_type": "code",
   "execution_count": 21,
   "metadata": {},
   "outputs": [],
   "source": [
    "# enabling import from `proof_flow` package\n",
    "import sys\n",
    "import os\n",
    "sys.path.append(os.path.abspath(os.path.join('..')))\n",
    "\n",
    "import importlib\n",
    "# import module\n",
    "# importlib.reload(module)\n",
    "# from module import function"
   ]
  },
  {
   "cell_type": "code",
   "execution_count": 23,
   "metadata": {},
   "outputs": [],
   "source": [
    "import proof_flow.src.utils\n",
    "importlib.reload(proof_flow.src.utils)\n",
    "from proof_flow.src.utils import set_up_padding"
   ]
  },
  {
   "cell_type": "code",
   "execution_count": 24,
   "metadata": {},
   "outputs": [
    {
     "name": "stdout",
     "output_type": "stream",
     "text": [
      "Tokenizer pad token ID: 100002\n",
      "Model pad token ID: 100002\n"
     ]
    }
   ],
   "source": [
    "set_up_padding(\n",
    "    model,\n",
    "    tok,\n",
    "    token_embedding_multiple=64,\n",
    ")"
   ]
  },
  {
   "cell_type": "code",
   "execution_count": 25,
   "metadata": {},
   "outputs": [
    {
     "data": {
      "text/plain": [
       "102400"
      ]
     },
     "execution_count": 25,
     "metadata": {},
     "output_type": "execute_result"
    }
   ],
   "source": [
    "model.config.vocab_size"
   ]
  },
  {
   "cell_type": "code",
   "execution_count": 26,
   "metadata": {},
   "outputs": [],
   "source": [
    "def bcp_fixed_attn(\n",
    "    model,\n",
    "    tokenizer,\n",
    "    prompt_completion_pairs,\n",
    "    sep=\"\",\n",
    "    device=None,\n",
    "):\n",
    "    input_texts = []\n",
    "    # idx of first completion char + last completion char\n",
    "    start_char_idxs = []\n",
    "    end_char_idxs = []\n",
    "    for prompt, completion in prompt_completion_pairs:\n",
    "        text = prompt + sep + completion\n",
    "        input_texts.append(text)\n",
    "        start_char_idxs.append(len(prompt) + len(sep))\n",
    "        print(f\"start: {start_char_idxs[-1]}\")\n",
    "        end_char_idxs.append(len(text) - 1)\n",
    "    \n",
    "    batch_enc = tokenizer(input_texts, padding=True, return_tensors=\"pt\")\n",
    "    if device:\n",
    "        # input_ids = input_ids.to(device)\n",
    "        batch_enc = batch_enc.to(device)\n",
    "    input_ids = batch_enc.input_ids\n",
    "    outputs = model(**batch_enc)\n",
    "    probs = torch.log_softmax(outputs.logits, dim=-1).detach()\n",
    "\n",
    "    start_token_idxs = []\n",
    "    for i, char_idx in enumerate(start_char_idxs):\n",
    "        start_token_idxs.append(batch_enc.char_to_token(i, char_idx))\n",
    "        print(i, char_idx, start_token_idxs[-1], batch_enc.input_ids[i])\n",
    "    # start_token_idxs = [batch_enc.char_to_token(i, char_idx) for i, char_idx in enumerate(start_char_idxs)]\n",
    "    end_token_idxs = [batch_enc.char_to_token(i, char_idx) for i, char_idx in enumerate(end_char_idxs)]\n",
    "\n",
    "    # collect the probability of the generated token -- probability at index 0 corresponds to the token at index 1\n",
    "    probs = probs[:, :-1, :]\n",
    "    input_ids = input_ids[:, 1:]\n",
    "    gen_probs = torch.gather(probs, 2, input_ids[:, :, None]).squeeze(-1)\n",
    "\n",
    "    batch = []\n",
    "    for input_probs, start_idx, end_idx in zip(gen_probs, start_token_idxs, end_token_idxs):\n",
    "        print(input_probs, start_idx, end_idx)\n",
    "        completion_log_prob = input_probs[start_idx:end_idx+1].sum().item()\n",
    "        batch.append({\n",
    "            \"log_prob_sum\": completion_log_prob,\n",
    "            \"token_count\": end_idx - start_idx + 1,\n",
    "        })\n",
    "    return batch"
   ]
  },
  {
   "cell_type": "code",
   "execution_count": 30,
   "metadata": {},
   "outputs": [
    {
     "name": "stdout",
     "output_type": "stream",
     "text": [
      "start: 12\n",
      "start: 12\n",
      "start: 12\n",
      "start: 12\n",
      "start: 13\n",
      "start: 13\n",
      "0 12 4 tensor([100000,    549,   6039,    317,   7372,     13])\n",
      "1 12 4 tensor([100000,    549,   6039,    317,   4078,     13])\n",
      "2 12 5 tensor([100002, 100000,    549,   6039,    317,   7372])\n",
      "3 12 5 tensor([100002, 100000,    549,   6039,    317,   4078])\n",
      "4 13 5 tensor([100002, 100000,    549,   6039,    317,   7372])\n",
      "5 13 5 tensor([100002, 100000,    549,   6039,    317,   4078])\n",
      "tensor([-13.3202, -10.2705,  -1.7378,  -6.4810,  -3.7067]) 4 5\n",
      "tensor([-13.3202, -10.2705,  -1.7378,  -4.2532,  -2.2360]) 4 5\n",
      "tensor([-12.7493, -13.3202, -10.2705,  -1.7378,  -6.4810]) 5 5\n",
      "tensor([-14.5206, -13.3202, -10.2705,  -1.7378,  -4.2532]) 5 5\n",
      "tensor([-12.7493, -13.3202, -10.2705,  -1.7378,  -6.4810]) 5 5\n",
      "tensor([-14.5206, -13.3202, -10.2705,  -1.7378,  -4.2532]) 5 5\n"
     ]
    },
    {
     "data": {
      "text/plain": [
       "[{'log_prob_sum': -3.7066965103149414, 'token_count': 2},\n",
       " {'log_prob_sum': -2.2359964847564697, 'token_count': 2},\n",
       " {'log_prob_sum': 0.0, 'token_count': 1},\n",
       " {'log_prob_sum': 0.0, 'token_count': 1},\n",
       " {'log_prob_sum': 0.0, 'token_count': 1},\n",
       " {'log_prob_sum': 0.0, 'token_count': 1}]"
      ]
     },
     "execution_count": 30,
     "metadata": {},
     "output_type": "execute_result"
    }
   ],
   "source": [
    "bcp_fixed_attn(model, tok, prompt_completion_pairs)"
   ]
  },
  {
   "cell_type": "markdown",
   "metadata": {},
   "source": [
    "ok nice, the attention mask is passed and the padding works as expected.\n",
    "The next step is to figure out the index components that's making the the single token completion break"
   ]
  },
  {
   "cell_type": "code",
   "execution_count": 33,
   "metadata": {},
   "outputs": [],
   "source": [
    "def bcp_fixed_1tc(\n",
    "    model,\n",
    "    tokenizer,\n",
    "    prompt_completion_pairs,\n",
    "    sep=\"\",\n",
    "    device=None,\n",
    "):\n",
    "    input_texts = []\n",
    "    # idx of first completion char + last completion char\n",
    "    start_char_idxs = []\n",
    "    end_char_idxs = []\n",
    "    for prompt, completion in prompt_completion_pairs:\n",
    "        text = prompt + sep + completion\n",
    "        input_texts.append(text)\n",
    "        start_char_idxs.append(len(prompt) + len(sep))\n",
    "        print(f\"start: {start_char_idxs[-1]}\")\n",
    "        end_char_idxs.append(len(text) - 1)\n",
    "    \n",
    "    batch_enc = tokenizer(input_texts, padding=True, return_tensors=\"pt\")\n",
    "    # 1tc version has only 4 tokens (+ bos), so we add a pad to the front\n",
    "    # - now the last token \"yes\" is at index 5\n",
    "    # - this is correctly picked up by char_to_token\n",
    "    if device:\n",
    "        # input_ids = input_ids.to(device)\n",
    "        batch_enc = batch_enc.to(device)\n",
    "    input_ids = batch_enc.input_ids\n",
    "    outputs = model(**batch_enc)\n",
    "    print(\"out logits shape:\", outputs.logits.shape)\n",
    "    \"\"\"\n",
    "    assumed output logit shape\n",
    "    (batch_size, seq_len, vocab_size)\n",
    "    \"\"\"\n",
    "    probs = torch.log_softmax(outputs.logits, dim=-1).detach()\n",
    "\n",
    "    start_token_idxs = []\n",
    "    for i, char_idx in enumerate(start_char_idxs):\n",
    "        start_token_idxs.append(batch_enc.char_to_token(i, char_idx) - 1)\n",
    "        print(i, char_idx, start_token_idxs[-1], batch_enc.input_ids[i])\n",
    "    # start_token_idxs = [batch_enc.char_to_token(i, char_idx) for i, char_idx in enumerate(start_char_idxs)]\n",
    "    end_token_idxs = [batch_enc.char_to_token(i, char_idx) for i, char_idx in enumerate(end_char_idxs)]\n",
    "\n",
    "    # collect the probability of the generated token -- probability at index 0 corresponds to the token at index 1\n",
    "    # probs shape: (batch_size, seq_len - 1, vocab_size)\n",
    "    # - probs[batch_i, j] corresponds to probability distribution of tokens AFTER token j\n",
    "    # we don't care about the probability AFTER the last token\n",
    "    probs = probs[:, :-1, :]\n",
    "    input_ids = input_ids[:, 1:]\n",
    "    # by skipping the first token in input ids, we move it forward, so now input_ids[j] is token j and probs[j] is the distribution\n",
    "    gen_probs = torch.gather(probs, 2, input_ids[:, :, None]).squeeze(-1)\n",
    "    print(\"gp shape\", gen_probs.shape)\n",
    "\n",
    "    batch = []\n",
    "    for input_probs, start_idx, end_idx in zip(gen_probs, start_token_idxs, end_token_idxs):\n",
    "        print(input_probs, start_idx, end_idx)\n",
    "        completion_log_prob = input_probs[start_idx:end_idx].sum().item()\n",
    "        batch.append({\n",
    "            \"log_prob_sum\": completion_log_prob,\n",
    "            \"token_count\": end_idx - start_idx,\n",
    "        })\n",
    "    return batch"
   ]
  },
  {
   "cell_type": "code",
   "execution_count": null,
   "metadata": {},
   "outputs": [],
   "source": []
  },
  {
   "cell_type": "code",
   "execution_count": 34,
   "metadata": {},
   "outputs": [
    {
     "name": "stdout",
     "output_type": "stream",
     "text": [
      "start: 12\n",
      "start: 12\n",
      "start: 12\n",
      "start: 12\n",
      "start: 13\n",
      "start: 13\n",
      "out logits shape: torch.Size([6, 6, 102400])\n",
      "0 12 3 tensor([100000,    549,   6039,    317,   7372,     13])\n",
      "1 12 3 tensor([100000,    549,   6039,    317,   4078,     13])\n",
      "2 12 4 tensor([100002, 100000,    549,   6039,    317,   7372])\n",
      "3 12 4 tensor([100002, 100000,    549,   6039,    317,   4078])\n",
      "4 13 4 tensor([100002, 100000,    549,   6039,    317,   7372])\n",
      "5 13 4 tensor([100002, 100000,    549,   6039,    317,   4078])\n",
      "gp shape torch.Size([6, 5])\n",
      "tensor([-13.3202, -10.2705,  -1.7378,  -6.4810,  -3.7067]) 3 5\n",
      "tensor([-13.3202, -10.2705,  -1.7378,  -4.2532,  -2.2360]) 3 5\n",
      "tensor([-12.7493, -13.3202, -10.2705,  -1.7378,  -6.4810]) 4 5\n",
      "tensor([-14.5206, -13.3202, -10.2705,  -1.7378,  -4.2532]) 4 5\n",
      "tensor([-12.7493, -13.3202, -10.2705,  -1.7378,  -6.4810]) 4 5\n",
      "tensor([-14.5206, -13.3202, -10.2705,  -1.7378,  -4.2532]) 4 5\n"
     ]
    },
    {
     "data": {
      "text/plain": [
       "[{'log_prob_sum': -10.18773078918457, 'token_count': 2},\n",
       " {'log_prob_sum': -6.489192008972168, 'token_count': 2},\n",
       " {'log_prob_sum': -6.481030464172363, 'token_count': 1},\n",
       " {'log_prob_sum': -4.253195762634277, 'token_count': 1},\n",
       " {'log_prob_sum': -6.481030464172363, 'token_count': 1},\n",
       " {'log_prob_sum': -4.253195762634277, 'token_count': 1}]"
      ]
     },
     "execution_count": 34,
     "metadata": {},
     "output_type": "execute_result"
    }
   ],
   "source": [
    "bcp_fixed_1tc(model, tok, prompt_completion_pairs)"
   ]
  },
  {
   "cell_type": "code",
   "execution_count": 37,
   "metadata": {},
   "outputs": [],
   "source": [
    "def bcp_v2(\n",
    "    model,\n",
    "    tokenizer,\n",
    "    prompt_completion_pairs,\n",
    "    sep=\"\",\n",
    "    device=None,\n",
    "):\n",
    "    input_texts = []\n",
    "    start_char_idxs = [] # index of the first completion token\n",
    "    end_char_idxs = []   # index of the last completion token\n",
    "    for prompt, completion in prompt_completion_pairs:\n",
    "        text = prompt + sep + completion\n",
    "        input_texts.append(text)\n",
    "        start_char_idxs.append(len(prompt) + len(sep))\n",
    "        end_char_idxs.append(len(text) - 1)\n",
    "    \n",
    "    batch_enc = tokenizer(input_texts, padding=True, return_tensors=\"pt\")\n",
    "    if device:\n",
    "        batch_enc = batch_enc.to(device)\n",
    "    input_ids = batch_enc.input_ids\n",
    "    outputs = model(**batch_enc) # ensure attention mask is passed\n",
    "    log_prob_distributions = torch.log_softmax(outputs.logits, dim=-1).detach()\n",
    "\n",
    "    # collect the probability of the generated token\n",
    "    # - softmax(logits[b, i, :]) is the probability distribution for the token AFTER input_ids[b, i]\n",
    "    # - (consequence 1): we don't care about the distribution after the last token in the input_ids\n",
    "    log_prob_distributions = log_prob_distributions[:, :-1, :]\n",
    "    # - while we have the distribution over the vocab after every token i,\n",
    "    #   we only actually care about the probability of the actual next token\n",
    "    # - i.e., we want softmax(logits[b, i, :])[input_ids[b, i+1]]\n",
    "    # - notice the idx used for input_ids is i+1 while the idx used for log_probs is i\n",
    "    # - for the gather operation, we need them aligned\n",
    "    # - (consequence 2): we shift the input_ids forwards/leftwards by 1\n",
    "    input_ids = input_ids[:, 1:]\n",
    "    # - while logits has shape (batch_size, seq_len, vocab_size),\n",
    "    #   and prob_distributions has shape (batch_size, seq_len - 1, vocab_size),\n",
    "    #   the gather result has shape (batch_size, seq_len - 1)\n",
    "    # - it's a batch of log probabilities of the actual sequence's tokens\n",
    "    seq_log_probs = torch.gather(log_prob_distributions, 2, input_ids[:, :, None]).squeeze(-1)\n",
    "\n",
    "    completion_log_probs = []\n",
    "    for i in range(len(input_texts)):\n",
    "        # start: token index of the first completion token\n",
    "        # - the -1 is because the input_ids were shifted forward by 1\n",
    "        # stop: token index of the token after the last completion token\n",
    "        # - we use it as the end slice index, so we don't need to do -1\n",
    "        start = batch_enc.char_to_token(i, start_char_idxs[i]) - 1\n",
    "        stop = batch_enc.char_to_token(i, end_char_idxs[i])\n",
    "        completion_log_prob = seq_log_probs[i, start:stop].sum().item()\n",
    "        completion_log_probs.append({\n",
    "            \"log_prob_sum\": completion_log_prob,\n",
    "            \"token_count\": stop - start,\n",
    "        })\n",
    "    return completion_log_probs"
   ]
  },
  {
   "cell_type": "code",
   "execution_count": 38,
   "metadata": {},
   "outputs": [
    {
     "data": {
      "text/plain": [
       "[{'log_prob_sum': -10.18773078918457, 'token_count': 2},\n",
       " {'log_prob_sum': -6.489192008972168, 'token_count': 2},\n",
       " {'log_prob_sum': -6.481030464172363, 'token_count': 1},\n",
       " {'log_prob_sum': -4.253195762634277, 'token_count': 1},\n",
       " {'log_prob_sum': -6.481030464172363, 'token_count': 1},\n",
       " {'log_prob_sum': -4.253195762634277, 'token_count': 1}]"
      ]
     },
     "execution_count": 38,
     "metadata": {},
     "output_type": "execute_result"
    }
   ],
   "source": [
    "bcp_v2(model, tok, prompt_completion_pairs)"
   ]
  },
  {
   "cell_type": "markdown",
   "metadata": {},
   "source": [
    "# remove failed negative tactics from rm eval data"
   ]
  },
  {
   "cell_type": "code",
   "execution_count": 4,
   "metadata": {},
   "outputs": [],
   "source": [
    "with open(\"../data/rm_eval_dataset_v2.json\") as f:\n",
    "    rm_eval_data = json.load(f)"
   ]
  },
  {
   "cell_type": "code",
   "execution_count": 5,
   "metadata": {},
   "outputs": [
    {
     "data": {
      "text/plain": [
       "{'thm_idx': '2',\n",
       " 'state_before': 'R : Type u\\nS : Type v\\nσ : Type u_1\\nτ : Type u_2\\nr : R\\ne : ℕ\\nn m : σ\\ns : σ →₀ ℕ\\ninst✝¹ : CommSemiring R\\np✝ q : MvPolynomial σ R\\ninst✝ : CommSemiring S\\np : MvPolynomial σ R\\nf : R →+* S\\nhf : Injective ⇑f\\n⊢ ((map f) p).degrees = p.degrees',\n",
       " 'positive': [{'tactic': 'simp only [degrees, MvPolynomial.support_map_of_injective _ hf]',\n",
       "   'annotated_tactic': ['simp only [<a>degrees</a>, <a>MvPolynomial.support_map_of_injective</a> _ hf]',\n",
       "    [{'full_name': 'MvPolynomial.degrees',\n",
       "      'def_path': 'Mathlib/Algebra/MvPolynomial/Degrees.lean',\n",
       "      'def_pos': [79, 5],\n",
       "      'def_end_pos': [79, 12]},\n",
       "     {'full_name': 'MvPolynomial.support_map_of_injective',\n",
       "      'def_path': 'Mathlib/Algebra/MvPolynomial/Basic.lean',\n",
       "      'def_pos': [1450, 9],\n",
       "      'def_end_pos': [1450, 33]}]],\n",
       "   'state_before': 'R : Type u\\nS : Type v\\nσ : Type u_1\\nτ : Type u_2\\nr : R\\ne : ℕ\\nn m : σ\\ns : σ →₀ ℕ\\ninst✝¹ : CommSemiring R\\np✝ q : MvPolynomial σ R\\ninst✝ : CommSemiring S\\np : MvPolynomial σ R\\nf : R →+* S\\nhf : Injective ⇑f\\n⊢ ((map f) p).degrees = p.degrees',\n",
       "   'state_after': 'no goals',\n",
       "   'dist_reduction': 1}],\n",
       " 'negative': [{'state_before': 'R : Type u\\nS : Type v\\nσ : Type u_1\\nτ : Type u_2\\nr : R\\ne : ℕ\\nn m : σ\\ns : σ →₀ ℕ\\ninst✝¹ : CommSemiring R\\np✝ q : MvPolynomial σ R\\ninst✝ : CommSemiring S\\np : MvPolynomial σ R\\nf : R →+* S\\nhf : Injective ⇑f\\n⊢ ((map f) p).degrees = p.degrees',\n",
       "   'tactic': 'ext s',\n",
       "   'state_after': None,\n",
       "   'message': 'no applicable extensionality theorem found for\\n  Multiset σ',\n",
       "   'dist_reduction': -inf},\n",
       "  {'state_before': 'R : Type u\\nS : Type v\\nσ : Type u_1\\nτ : Type u_2\\nr : R\\ne : ℕ\\nn m : σ\\ns : σ →₀ ℕ\\ninst✝¹ : CommSemiring R\\np✝ q : MvPolynomial σ R\\ninst✝ : CommSemiring S\\np : MvPolynomial σ R\\nf : R →+* S\\nhf : Injective ⇑f\\n⊢ ((map f) p).degrees = p.degrees',\n",
       "   'tactic': 'induction p using MvPolynomial.induction_on with',\n",
       "   'state_after': None,\n",
       "   'message': \"<stdin>:1:48: unexpected end of input; expected '|'\",\n",
       "   'dist_reduction': -inf},\n",
       "  {'state_before': 'R : Type u\\nS : Type v\\nσ : Type u_1\\nτ : Type u_2\\nr : R\\ne : ℕ\\nn m : σ\\ns : σ →₀ ℕ\\ninst✝¹ : CommSemiring R\\np✝ q : MvPolynomial σ R\\ninst✝ : CommSemiring S\\np : MvPolynomial σ R\\nf : R →+* S\\nhf : Injective ⇑f\\n⊢ ((map f) p).degrees = p.degrees',\n",
       "   'tactic': 'induction p using MvPolynomial.induction_on with',\n",
       "   'state_after': None,\n",
       "   'message': \"<stdin>:1:48: unexpected end of input; expected '|'\",\n",
       "   'dist_reduction': -inf},\n",
       "  {'state_before': 'R : Type u\\nS : Type v\\nσ : Type u_1\\nτ : Type u_2\\nr : R\\ne : ℕ\\nn m : σ\\ns : σ →₀ ℕ\\ninst✝¹ : CommSemiring R\\np✝ q : MvPolynomial σ R\\ninst✝ : CommSemiring S\\np : MvPolynomial σ R\\nf : R →+* S\\nhf : Injective ⇑f\\n⊢ ((map f) p).degrees = p.degrees',\n",
       "   'tactic': 'ext',\n",
       "   'state_after': None,\n",
       "   'message': 'no applicable extensionality theorem found for\\n  Multiset σ',\n",
       "   'dist_reduction': -inf},\n",
       "  {'state_before': 'R : Type u\\nS : Type v\\nσ : Type u_1\\nτ : Type u_2\\nr : R\\ne : ℕ\\nn m : σ\\ns : σ →₀ ℕ\\ninst✝¹ : CommSemiring R\\np✝ q : MvPolynomial σ R\\ninst✝ : CommSemiring S\\np : MvPolynomial σ R\\nf : R →+* S\\nhf : Injective ⇑f\\n⊢ ((map f) p).degrees = p.degrees',\n",
       "   'tactic': 'ext i',\n",
       "   'state_after': None,\n",
       "   'message': 'no applicable extensionality theorem found for\\n  Multiset σ',\n",
       "   'dist_reduction': -inf},\n",
       "  {'state_before': 'R : Type u\\nS : Type v\\nσ : Type u_1\\nτ : Type u_2\\nr : R\\ne : ℕ\\nn m : σ\\ns : σ →₀ ℕ\\ninst✝¹ : CommSemiring R\\np✝ q : MvPolynomial σ R\\ninst✝ : CommSemiring S\\np : MvPolynomial σ R\\nf : R →+* S\\nhf : Injective ⇑f\\n⊢ ((map f) p).degrees = p.degrees',\n",
       "   'tactic': 'induction p using MvPolynomial.induction_on with',\n",
       "   'state_after': None,\n",
       "   'message': \"<stdin>:1:48: unexpected end of input; expected '|'\",\n",
       "   'dist_reduction': -inf},\n",
       "  {'state_before': 'R : Type u\\nS : Type v\\nσ : Type u_1\\nτ : Type u_2\\nr : R\\ne : ℕ\\nn m : σ\\ns : σ →₀ ℕ\\ninst✝¹ : CommSemiring R\\np✝ q : MvPolynomial σ R\\ninst✝ : CommSemiring S\\np : MvPolynomial σ R\\nf : R →+* S\\nhf : Injective ⇑f\\n⊢ ((map f) p).degrees = p.degrees',\n",
       "   'tactic': 'apply le_antisymm',\n",
       "   'state_after': 'case a\\nR : Type u\\nS : Type v\\nσ : Type u_1\\nτ : Type u_2\\nr : R\\ne : ℕ\\nn m : σ\\ns : σ →₀ ℕ\\ninst✝¹ : CommSemiring R\\np✝ q : MvPolynomial σ R\\ninst✝ : CommSemiring S\\np : MvPolynomial σ R\\nf : R →+* S\\nhf : Injective ⇑f\\n⊢ ((map f) p).degrees ≤ p.degrees\\n\\ncase a\\nR : Type u\\nS : Type v\\nσ : Type u_1\\nτ : Type u_2\\nr : R\\ne : ℕ\\nn m : σ\\ns : σ →₀ ℕ\\ninst✝¹ : CommSemiring R\\np✝ q : MvPolynomial σ R\\ninst✝ : CommSemiring S\\np : MvPolynomial σ R\\nf : R →+* S\\nhf : Injective ⇑f\\n⊢ p.degrees ≤ ((map f) p).degrees',\n",
       "   'message': None,\n",
       "   'dist_reduction': -inf},\n",
       "  {'state_before': 'R : Type u\\nS : Type v\\nσ : Type u_1\\nτ : Type u_2\\nr : R\\ne : ℕ\\nn m : σ\\ns : σ →₀ ℕ\\ninst✝¹ : CommSemiring R\\np✝ q : MvPolynomial σ R\\ninst✝ : CommSemiring S\\np : MvPolynomial σ R\\nf : R →+* S\\nhf : Injective ⇑f\\n⊢ ((map f) p).degrees = p.degrees',\n",
       "   'tactic': 'induction p using MvPolynomial.induction_on with',\n",
       "   'state_after': None,\n",
       "   'message': \"<stdin>:1:48: unexpected end of input; expected '|'\",\n",
       "   'dist_reduction': -inf},\n",
       "  {'state_before': 'R : Type u\\nS : Type v\\nσ : Type u_1\\nτ : Type u_2\\nr : R\\ne : ℕ\\nn m : σ\\ns : σ →₀ ℕ\\ninst✝¹ : CommSemiring R\\np✝ q : MvPolynomial σ R\\ninst✝ : CommSemiring S\\np : MvPolynomial σ R\\nf : R →+* S\\nhf : Injective ⇑f\\n⊢ ((map f) p).degrees = p.degrees',\n",
       "   'tactic': 'induction p using MvPolynomial.induction_on with',\n",
       "   'state_after': None,\n",
       "   'message': \"<stdin>:1:48: unexpected end of input; expected '|'\",\n",
       "   'dist_reduction': -inf},\n",
       "  {'state_before': 'R : Type u\\nS : Type v\\nσ : Type u_1\\nτ : Type u_2\\nr : R\\ne : ℕ\\nn m : σ\\ns : σ →₀ ℕ\\ninst✝¹ : CommSemiring R\\np✝ q : MvPolynomial σ R\\ninst✝ : CommSemiring S\\np : MvPolynomial σ R\\nf : R →+* S\\nhf : Injective ⇑f\\n⊢ ((map f) p).degrees = p.degrees',\n",
       "   'tactic': 'induction p using MvPolynomial.induction_on with',\n",
       "   'state_after': None,\n",
       "   'message': \"<stdin>:1:48: unexpected end of input; expected '|'\",\n",
       "   'dist_reduction': -inf},\n",
       "  {'state_before': 'R : Type u\\nS : Type v\\nσ : Type u_1\\nτ : Type u_2\\nr : R\\ne : ℕ\\nn m : σ\\ns : σ →₀ ℕ\\ninst✝¹ : CommSemiring R\\np✝ q : MvPolynomial σ R\\ninst✝ : CommSemiring S\\np : MvPolynomial σ R\\nf : R →+* S\\nhf : Injective ⇑f\\n⊢ ((map f) p).degrees = p.degrees',\n",
       "   'tactic': 'induction p using MvPolynomial.induction_on with',\n",
       "   'state_after': None,\n",
       "   'message': \"<stdin>:1:48: unexpected end of input; expected '|'\",\n",
       "   'dist_reduction': -inf},\n",
       "  {'state_before': 'R : Type u\\nS : Type v\\nσ : Type u_1\\nτ : Type u_2\\nr : R\\ne : ℕ\\nn m : σ\\ns : σ →₀ ℕ\\ninst✝¹ : CommSemiring R\\np✝ q : MvPolynomial σ R\\ninst✝ : CommSemiring S\\np : MvPolynomial σ R\\nf : R →+* S\\nhf : Injective ⇑f\\n⊢ ((map f) p).degrees = p.degrees',\n",
       "   'tactic': 'induction p using MvPolynomial.induction_on with',\n",
       "   'state_after': None,\n",
       "   'message': \"<stdin>:1:48: unexpected end of input; expected '|'\",\n",
       "   'dist_reduction': -inf},\n",
       "  {'state_before': 'R : Type u\\nS : Type v\\nσ : Type u_1\\nτ : Type u_2\\nr : R\\ne : ℕ\\nn m : σ\\ns : σ →₀ ℕ\\ninst✝¹ : CommSemiring R\\np✝ q : MvPolynomial σ R\\ninst✝ : CommSemiring S\\np : MvPolynomial σ R\\nf : R →+* S\\nhf : Injective ⇑f\\n⊢ ((map f) p).degrees = p.degrees',\n",
       "   'tactic': 'induction p using MvPolynomial.induction_on with',\n",
       "   'state_after': None,\n",
       "   'message': \"<stdin>:1:48: unexpected end of input; expected '|'\",\n",
       "   'dist_reduction': -inf},\n",
       "  {'state_before': 'R : Type u\\nS : Type v\\nσ : Type u_1\\nτ : Type u_2\\nr : R\\ne : ℕ\\nn m : σ\\ns : σ →₀ ℕ\\ninst✝¹ : CommSemiring R\\np✝ q : MvPolynomial σ R\\ninst✝ : CommSemiring S\\np : MvPolynomial σ R\\nf : R →+* S\\nhf : Injective ⇑f\\n⊢ ((map f) p).degrees = p.degrees',\n",
       "   'tactic': 'ext i',\n",
       "   'state_after': None,\n",
       "   'message': 'no applicable extensionality theorem found for\\n  Multiset σ',\n",
       "   'dist_reduction': -inf},\n",
       "  {'state_before': 'R : Type u\\nS : Type v\\nσ : Type u_1\\nτ : Type u_2\\nr : R\\ne : ℕ\\nn m : σ\\ns : σ →₀ ℕ\\ninst✝¹ : CommSemiring R\\np✝ q : MvPolynomial σ R\\ninst✝ : CommSemiring S\\np : MvPolynomial σ R\\nf : R →+* S\\nhf : Injective ⇑f\\n⊢ ((map f) p).degrees = p.degrees',\n",
       "   'tactic': 'ext i',\n",
       "   'state_after': None,\n",
       "   'message': 'no applicable extensionality theorem found for\\n  Multiset σ',\n",
       "   'dist_reduction': -inf},\n",
       "  {'state_before': 'R : Type u\\nS : Type v\\nσ : Type u_1\\nτ : Type u_2\\nr : R\\ne : ℕ\\nn m : σ\\ns : σ →₀ ℕ\\ninst✝¹ : CommSemiring R\\np✝ q : MvPolynomial σ R\\ninst✝ : CommSemiring S\\np : MvPolynomial σ R\\nf : R →+* S\\nhf : Injective ⇑f\\n⊢ ((map f) p).degrees = p.degrees',\n",
       "   'tactic': 'induction p using MvPolynomial.induction_on with',\n",
       "   'state_after': None,\n",
       "   'message': \"<stdin>:1:48: unexpected end of input; expected '|'\",\n",
       "   'dist_reduction': -inf}]}"
      ]
     },
     "execution_count": 5,
     "metadata": {},
     "output_type": "execute_result"
    }
   ],
   "source": [
    "rm_eval_data[0]"
   ]
  },
  {
   "cell_type": "code",
   "execution_count": 5,
   "metadata": {},
   "outputs": [],
   "source": [
    "wiped_count = 0\n",
    "keep_count = 0\n",
    "for entry in rm_eval_data:\n",
    "    non_none_negs = []\n",
    "    for i, tactic in enumerate(entry[\"negative\"]):\n",
    "        if tactic[\"state_after\"] is not None:\n",
    "            non_none_negs.append(i)\n",
    "    if len(non_none_negs) > 0:\n",
    "        keep_count += 1\n",
    "    else:\n",
    "        wiped_count += 1\n",
    "    entry[\"negative_with_resulting_state\"] = non_none_negs"
   ]
  },
  {
   "cell_type": "code",
   "execution_count": 6,
   "metadata": {},
   "outputs": [
    {
     "name": "stdout",
     "output_type": "stream",
     "text": [
      "73 206\n"
     ]
    }
   ],
   "source": [
    "print(wiped_count, keep_count)"
   ]
  },
  {
   "cell_type": "code",
   "execution_count": 10,
   "metadata": {},
   "outputs": [],
   "source": [
    "nwrs_len = Counter([len(entry[\"negative_with_resulting_state\"]) for entry in rm_eval_data])"
   ]
  },
  {
   "cell_type": "code",
   "execution_count": 12,
   "metadata": {},
   "outputs": [
    {
     "data": {
      "text/plain": [
       "Counter({0: 73,\n",
       "         1: 33,\n",
       "         2: 31,\n",
       "         3: 21,\n",
       "         9: 15,\n",
       "         8: 13,\n",
       "         16: 12,\n",
       "         7: 12,\n",
       "         6: 12,\n",
       "         5: 11,\n",
       "         4: 11,\n",
       "         13: 9,\n",
       "         11: 7,\n",
       "         14: 6,\n",
       "         15: 5,\n",
       "         10: 5,\n",
       "         12: 3})"
      ]
     },
     "execution_count": 12,
     "metadata": {},
     "output_type": "execute_result"
    }
   ],
   "source": [
    "nwrs_len"
   ]
  },
  {
   "cell_type": "code",
   "execution_count": 14,
   "metadata": {},
   "outputs": [],
   "source": [
    "filtered_rm_eval = []\n",
    "for entry in rm_eval_data:\n",
    "    if len(entry[\"negative_with_resulting_state\"]) > 0:\n",
    "        modified_negs = [entry[\"negative\"][i] for i in entry[\"negative_with_resulting_state\"]]\n",
    "        entry[\"negative\"] = modified_negs\n",
    "        filtered_rm_eval.append(entry)"
   ]
  },
  {
   "cell_type": "code",
   "execution_count": 15,
   "metadata": {},
   "outputs": [
    {
     "data": {
      "text/plain": [
       "206"
      ]
     },
     "execution_count": 15,
     "metadata": {},
     "output_type": "execute_result"
    }
   ],
   "source": [
    "len(filtered_rm_eval)"
   ]
  },
  {
   "cell_type": "code",
   "execution_count": 16,
   "metadata": {},
   "outputs": [],
   "source": [
    "with open(\"../data/rm_eval_dataset_v3.json\", 'w') as f:\n",
    "    json.dump(filtered_rm_eval, f, indent=4)"
   ]
  },
  {
   "cell_type": "markdown",
   "metadata": {},
   "source": [
    "# inspect datasets for multiline tactics"
   ]
  },
  {
   "cell_type": "code",
   "execution_count": 6,
   "metadata": {},
   "outputs": [],
   "source": [
    "raw_eval_thm_path = \"../data/time_filtered_val.json\"\n",
    "with open(raw_eval_thm_path) as f:\n",
    "    raw_eval_thms = json.load(f)"
   ]
  },
  {
   "cell_type": "code",
   "execution_count": 9,
   "metadata": {},
   "outputs": [
    {
     "name": "stdout",
     "output_type": "stream",
     "text": [
      "28 cases o₁ <;> cases o₂ <;> decide\n",
      "68 cases a <;> rfl\n",
      "83 cases n <;> constructor <;> rintro ⟨⟩ <;> rfl\n",
      "114 cases x <;> rfl\n",
      "128 cases a <;> rfl\n",
      "329 cases x <;> simp only [pmap, bind_eq_bind, none_bind, some_bind, pbind]\n"
     ]
    }
   ],
   "source": [
    "for thm_idx, thm_info in raw_eval_thms.items():\n",
    "    for entry in thm_info[\"traced_tactics\"]:\n",
    "        tactic = entry[\"tactic\"]\n",
    "        if tactic.startswith(\"cases\"):\n",
    "            print(thm_idx, tactic)"
   ]
  },
  {
   "cell_type": "code",
   "execution_count": 10,
   "metadata": {},
   "outputs": [
    {
     "data": {
      "text/plain": [
       "{'url': 'https://github.com/leanprover-community/mathlib4',\n",
       " 'commit': '29dcec074de168ac2bf835a77ef68bbe069194c5',\n",
       " 'file_path': '.lake/packages/batteries/Batteries/Classes/Order.lean',\n",
       " 'full_name': 'Ordering.then_eq_lt',\n",
       " 'start': [20, 1],\n",
       " 'end': [21, 35],\n",
       " 'traced_tactics': [{'tactic': 'cases o₁ <;> cases o₂ <;> decide',\n",
       "   'annotated_tactic': ['cases o₁ <;> cases o₂ <;> decide', []],\n",
       "   'state_before': 'o₁ o₂ : Ordering\\n⊢ o₁.then o₂ = lt ↔ o₁ = lt ∨ o₁ = eq ∧ o₂ = lt',\n",
       "   'state_after': 'no goals'}],\n",
       " 'formal_statement': 'theorem then_eq_lt {o₁ o₂ : Ordering} : o₁.then o₂ = lt ↔ o₁ = lt ∨ o₁ = eq ∧ o₂ = lt := by\\n',\n",
       " 'is_tactic_proof': True,\n",
       " 'entry_time': 0.5851221249904484,\n",
       " 'entry_failed': False}"
      ]
     },
     "execution_count": 10,
     "metadata": {},
     "output_type": "execute_result"
    }
   ],
   "source": [
    "raw_eval_thms[\"28\"]"
   ]
  },
  {
   "cell_type": "code",
   "execution_count": 17,
   "metadata": {},
   "outputs": [],
   "source": [
    "def proof_starting_with(raw_eval_thms, tactic_prefix):\n",
    "    thm_idxs = []\n",
    "    for thm_idx, thm_info in raw_eval_thms.items():\n",
    "        for entry in thm_info[\"traced_tactics\"]:\n",
    "            tactic = entry[\"tactic\"]\n",
    "            if tactic.startswith(tactic_prefix):\n",
    "                thm_idxs.append(thm_idx)\n",
    "    return thm_idxs"
   ]
  },
  {
   "cell_type": "code",
   "execution_count": 18,
   "metadata": {},
   "outputs": [],
   "source": [
    "tis = proof_starting_with(raw_eval_thms, \"induction\")"
   ]
  },
  {
   "cell_type": "code",
   "execution_count": 20,
   "metadata": {},
   "outputs": [
    {
     "data": {
      "text/plain": [
       "['48', '48', '209', '226', '263', '275', '306', '416']"
      ]
     },
     "execution_count": 20,
     "metadata": {},
     "output_type": "execute_result"
    }
   ],
   "source": [
    "tis"
   ]
  },
  {
   "cell_type": "code",
   "execution_count": 22,
   "metadata": {},
   "outputs": [],
   "source": [
    "tts = raw_eval_thms[\"48\"][\"traced_tactics\"]"
   ]
  },
  {
   "cell_type": "code",
   "execution_count": 23,
   "metadata": {},
   "outputs": [
    {
     "data": {
      "text/plain": [
       "3"
      ]
     },
     "execution_count": 23,
     "metadata": {},
     "output_type": "execute_result"
    }
   ],
   "source": [
    "len(tts)"
   ]
  },
  {
   "cell_type": "code",
   "execution_count": 24,
   "metadata": {},
   "outputs": [
    {
     "name": "stdout",
     "output_type": "stream",
     "text": [
      "induction θ₁ using Real.Angle.induction_on\n",
      "induction θ₂ using Real.Angle.induction_on\n",
      "exact _root_.expMapCircle_add _ _\n"
     ]
    }
   ],
   "source": [
    "for tt in tts:\n",
    "    print(tt[\"tactic\"])"
   ]
  },
  {
   "cell_type": "code",
   "execution_count": 28,
   "metadata": {},
   "outputs": [],
   "source": [
    "match_tis = proof_starting_with(raw_eval_thms, \"cases\")"
   ]
  },
  {
   "cell_type": "code",
   "execution_count": 29,
   "metadata": {},
   "outputs": [
    {
     "data": {
      "text/plain": [
       "['28', '68', '83', '114', '128', '329']"
      ]
     },
     "execution_count": 29,
     "metadata": {},
     "output_type": "execute_result"
    }
   ],
   "source": [
    "match_tis"
   ]
  },
  {
   "cell_type": "code",
   "execution_count": 30,
   "metadata": {},
   "outputs": [],
   "source": [
    "train_data_path = \"../data/time_filtered_v2.json\""
   ]
  },
  {
   "cell_type": "code",
   "execution_count": 31,
   "metadata": {},
   "outputs": [],
   "source": [
    "with open(train_data_path) as f:\n",
    "    train_data = json.load(f)"
   ]
  },
  {
   "cell_type": "code",
   "execution_count": 32,
   "metadata": {},
   "outputs": [],
   "source": [
    "cases_tis = proof_starting_with(train_data, \"cases\")"
   ]
  },
  {
   "cell_type": "code",
   "execution_count": 33,
   "metadata": {},
   "outputs": [
    {
     "data": {
      "text/plain": [
       "580"
      ]
     },
     "execution_count": 33,
     "metadata": {},
     "output_type": "execute_result"
    }
   ],
   "source": [
    "len(cases_tis)"
   ]
  },
  {
   "cell_type": "code",
   "execution_count": 34,
   "metadata": {},
   "outputs": [
    {
     "data": {
      "text/plain": [
       "['57', '259', '282', '324', '439', '477', '485', '492', '603', '649']"
      ]
     },
     "execution_count": 34,
     "metadata": {},
     "output_type": "execute_result"
    }
   ],
   "source": [
    "cases_tis[:10]"
   ]
  },
  {
   "cell_type": "code",
   "execution_count": 35,
   "metadata": {},
   "outputs": [
    {
     "name": "stdout",
     "output_type": "stream",
     "text": [
      "259 [{'tactic': 'funext i', 'annotated_tactic': ['funext i', []], 'state_before': \"α : Type u_1\\nι : Type u_2\\nι' : Type u_3\\nv : ι → α\\nl : Line α ι'\\nx : α\\n⊢ (fun x i => ((vertical v l).idxFun i).getD x) x = Sum.elim v ((fun x i => (l.idxFun i).getD x) x)\", 'state_after': \"case h\\nα : Type u_1\\nι : Type u_2\\nι' : Type u_3\\nv : ι → α\\nl : Line α ι'\\nx : α\\ni : ι ⊕ ι'\\n⊢ (fun x i => ((vertical v l).idxFun i).getD x) x i = Sum.elim v ((fun x i => (l.idxFun i).getD x) x) i\"}, {'tactic': 'cases i <;> rfl', 'annotated_tactic': ['cases i <;> rfl', []], 'state_before': \"case h\\nα : Type u_1\\nι : Type u_2\\nι' : Type u_3\\nv : ι → α\\nl : Line α ι'\\nx : α\\ni : ι ⊕ ι'\\n⊢ (fun x i => ((vertical v l).idxFun i).getD x) x i = Sum.elim v ((fun x i => (l.idxFun i).getD x) x) i\", 'state_after': 'no goals'}]\n"
     ]
    }
   ],
   "source": [
    "for key in cases_tis:\n",
    "    thm = train_data[key]\n",
    "    if len(thm[\"traced_tactics\"]) > 1:\n",
    "        print(key, thm[\"traced_tactics\"])\n",
    "        break"
   ]
  },
  {
   "cell_type": "code",
   "execution_count": 36,
   "metadata": {},
   "outputs": [
    {
     "data": {
      "text/plain": [
       "{'url': 'https://github.com/leanprover-community/mathlib4',\n",
       " 'commit': '29dcec074de168ac2bf835a77ef68bbe069194c5',\n",
       " 'file_path': 'Mathlib/Combinatorics/HalesJewett.lean',\n",
       " 'full_name': 'Combinatorics.Line.vertical_apply',\n",
       " 'start': [190, 1],\n",
       " 'end': [193, 18],\n",
       " 'traced_tactics': [{'tactic': 'funext i',\n",
       "   'annotated_tactic': ['funext i', []],\n",
       "   'state_before': \"α : Type u_1\\nι : Type u_2\\nι' : Type u_3\\nv : ι → α\\nl : Line α ι'\\nx : α\\n⊢ (fun x i => ((vertical v l).idxFun i).getD x) x = Sum.elim v ((fun x i => (l.idxFun i).getD x) x)\",\n",
       "   'state_after': \"case h\\nα : Type u_1\\nι : Type u_2\\nι' : Type u_3\\nv : ι → α\\nl : Line α ι'\\nx : α\\ni : ι ⊕ ι'\\n⊢ (fun x i => ((vertical v l).idxFun i).getD x) x i = Sum.elim v ((fun x i => (l.idxFun i).getD x) x) i\"},\n",
       "  {'tactic': 'cases i <;> rfl',\n",
       "   'annotated_tactic': ['cases i <;> rfl', []],\n",
       "   'state_before': \"case h\\nα : Type u_1\\nι : Type u_2\\nι' : Type u_3\\nv : ι → α\\nl : Line α ι'\\nx : α\\ni : ι ⊕ ι'\\n⊢ (fun x i => ((vertical v l).idxFun i).getD x) x i = Sum.elim v ((fun x i => (l.idxFun i).getD x) x) i\",\n",
       "   'state_after': 'no goals'}],\n",
       " 'entry_time': 1.620027840952389,\n",
       " 'entry_failed': False}"
      ]
     },
     "execution_count": 36,
     "metadata": {},
     "output_type": "execute_result"
    }
   ],
   "source": [
    "train_data[\"259\"]"
   ]
  },
  {
   "cell_type": "code",
   "execution_count": 37,
   "metadata": {},
   "outputs": [],
   "source": [
    "match_tis = proof_starting_with(train_data, \"match\")"
   ]
  },
  {
   "cell_type": "code",
   "execution_count": 38,
   "metadata": {},
   "outputs": [
    {
     "data": {
      "text/plain": [
       "3"
      ]
     },
     "execution_count": 38,
     "metadata": {},
     "output_type": "execute_result"
    }
   ],
   "source": [
    "len(match_tis)"
   ]
  },
  {
   "cell_type": "code",
   "execution_count": 39,
   "metadata": {},
   "outputs": [
    {
     "data": {
      "text/plain": [
       "['13711', '16483', '19601']"
      ]
     },
     "execution_count": 39,
     "metadata": {},
     "output_type": "execute_result"
    }
   ],
   "source": [
    "match_tis"
   ]
  },
  {
   "cell_type": "code",
   "execution_count": 41,
   "metadata": {},
   "outputs": [],
   "source": [
    "match_thm = train_data[match_tis[0]]"
   ]
  },
  {
   "cell_type": "code",
   "execution_count": 42,
   "metadata": {},
   "outputs": [
    {
     "name": "stdout",
     "output_type": "stream",
     "text": [
      "match a, h with\n",
      "| some _, _ => simp only [unbot_coe, coe_le_coe]\n",
      "simp only [unbot_coe, coe_le_coe]\n"
     ]
    }
   ],
   "source": [
    "for tt in match_thm[\"traced_tactics\"]:\n",
    "    print(tt[\"tactic\"])"
   ]
  },
  {
   "cell_type": "code",
   "execution_count": 45,
   "metadata": {},
   "outputs": [
    {
     "data": {
      "text/plain": [
       "2"
      ]
     },
     "execution_count": 45,
     "metadata": {},
     "output_type": "execute_result"
    }
   ],
   "source": [
    "mt1 = train_data[match_tis[1]]\n",
    "len(mt1[\"traced_tactics\"])"
   ]
  },
  {
   "cell_type": "code",
   "execution_count": 46,
   "metadata": {},
   "outputs": [
    {
     "data": {
      "text/plain": [
       "2"
      ]
     },
     "execution_count": 46,
     "metadata": {},
     "output_type": "execute_result"
    }
   ],
   "source": [
    "mt2 = train_data[match_tis[2]]\n",
    "len(mt2[\"traced_tactics\"])"
   ]
  },
  {
   "cell_type": "code",
   "execution_count": 47,
   "metadata": {},
   "outputs": [
    {
     "data": {
      "text/plain": [
       "{'url': 'https://github.com/leanprover-community/mathlib4',\n",
       " 'commit': '29dcec074de168ac2bf835a77ef68bbe069194c5',\n",
       " 'file_path': 'Mathlib/Data/List/EditDistance/Defs.lean',\n",
       " 'full_name': 'suffixLevenshtein_cons₁_aux',\n",
       " 'start': [221, 1],\n",
       " 'end': [224, 45],\n",
       " 'traced_tactics': [{'tactic': 'match x, y with\\n| ⟨hx :: tx, _⟩, ⟨hy :: ty, _⟩ => simp_all',\n",
       "   'annotated_tactic': ['match x, y with\\n  | ⟨hx :: tx, _⟩, ⟨hy :: ty, _⟩ => simp_all',\n",
       "    []],\n",
       "   'state_before': 'α : Type u_1\\nβ : Type u_2\\nδ : Type u_3\\ninst✝¹ : AddZeroClass δ\\ninst✝ : Min δ\\nC : Cost α β δ\\nx y : { r // 0 < r.length }\\nw₀ : x.val[0] = y.val[0]\\nw : x.val.tail = y.val.tail\\n⊢ x = y',\n",
       "   'state_after': 'no goals'},\n",
       "  {'tactic': 'simp_all',\n",
       "   'annotated_tactic': ['simp_all', []],\n",
       "   'state_before': 'α : Type u_1\\nβ : Type u_2\\nδ : Type u_3\\ninst✝¹ : AddZeroClass δ\\ninst✝ : Min δ\\nC : Cost α β δ\\nx y : { r // 0 < r.length }\\nhx : δ\\ntx : List δ\\nproperty✝¹ : 0 < (hx :: tx).length\\nhy : δ\\nty : List δ\\nproperty✝ : 0 < (hy :: ty).length\\nw₀ : ⟨hx :: tx, property✝¹⟩.val[0] = ⟨hy :: ty, property✝⟩.val[0]\\nw : ⟨hx :: tx, property✝¹⟩.val.tail = ⟨hy :: ty, property✝⟩.val.tail\\n⊢ ⟨hx :: tx, property✝¹⟩ = ⟨hy :: ty, property✝⟩',\n",
       "   'state_after': 'no goals'}],\n",
       " 'entry_time': 1.415050056995824,\n",
       " 'entry_failed': False}"
      ]
     },
     "execution_count": 47,
     "metadata": {},
     "output_type": "execute_result"
    }
   ],
   "source": [
    "mt2"
   ]
  },
  {
   "cell_type": "code",
   "execution_count": 49,
   "metadata": {},
   "outputs": [
    {
     "data": {
      "text/plain": [
       "['29',\n",
       " '72',\n",
       " '102',\n",
       " '201',\n",
       " '308',\n",
       " '419',\n",
       " '451',\n",
       " '592',\n",
       " '868',\n",
       " '1162',\n",
       " '1215',\n",
       " '1456',\n",
       " '1884',\n",
       " '2162',\n",
       " '2284',\n",
       " '2314',\n",
       " '2346',\n",
       " '2428',\n",
       " '2480',\n",
       " '2518',\n",
       " '2751',\n",
       " '2768',\n",
       " '2818',\n",
       " '3193',\n",
       " '3253',\n",
       " '3376',\n",
       " '3484',\n",
       " '3869',\n",
       " '3906',\n",
       " '4245',\n",
       " '4295',\n",
       " '4536',\n",
       " '4604',\n",
       " '4678',\n",
       " '4704',\n",
       " '4705',\n",
       " '4752',\n",
       " '4764',\n",
       " '4773',\n",
       " '4831',\n",
       " '5157',\n",
       " '5213',\n",
       " '5351',\n",
       " '5534',\n",
       " '5903',\n",
       " '6001',\n",
       " '6495',\n",
       " '6752',\n",
       " '6801',\n",
       " '6801',\n",
       " '6965',\n",
       " '7044',\n",
       " '7308',\n",
       " '7393',\n",
       " '7413',\n",
       " '7445',\n",
       " '7545',\n",
       " '7699',\n",
       " '7747',\n",
       " '7839',\n",
       " '7961',\n",
       " '8050',\n",
       " '8150',\n",
       " '8169',\n",
       " '8249',\n",
       " '8316',\n",
       " '8400',\n",
       " '8432',\n",
       " '8808',\n",
       " '9071',\n",
       " '9107',\n",
       " '9193',\n",
       " '9208',\n",
       " '9267',\n",
       " '9290',\n",
       " '9547',\n",
       " '9573',\n",
       " '9581',\n",
       " '9637',\n",
       " '9643',\n",
       " '9848',\n",
       " '9945',\n",
       " '10256',\n",
       " '10290',\n",
       " '10318',\n",
       " '10388',\n",
       " '10534',\n",
       " '10544',\n",
       " '10547',\n",
       " '10735',\n",
       " '10864',\n",
       " '10881',\n",
       " '11128',\n",
       " '11206',\n",
       " '11543',\n",
       " '11600',\n",
       " '11806',\n",
       " '11863',\n",
       " '11881',\n",
       " '11884',\n",
       " '11995',\n",
       " '12027',\n",
       " '12038',\n",
       " '12331',\n",
       " '12347',\n",
       " '12494',\n",
       " '12498',\n",
       " '12514',\n",
       " '12593',\n",
       " '12654',\n",
       " '12726',\n",
       " '12741',\n",
       " '12967',\n",
       " '12976',\n",
       " '12986',\n",
       " '13148',\n",
       " '13251',\n",
       " '13260',\n",
       " '13437',\n",
       " '13595',\n",
       " '13697',\n",
       " '13738',\n",
       " '13789',\n",
       " '14017',\n",
       " '14053',\n",
       " '14440',\n",
       " '14536',\n",
       " '14614',\n",
       " '14675',\n",
       " '14677',\n",
       " '14757',\n",
       " '14790',\n",
       " '14882',\n",
       " '14901',\n",
       " '14963',\n",
       " '14990',\n",
       " '15147',\n",
       " '15229',\n",
       " '15240',\n",
       " '15251',\n",
       " '15271',\n",
       " '15445',\n",
       " '15464',\n",
       " '15527',\n",
       " '15678',\n",
       " '15724',\n",
       " '15851',\n",
       " '15896',\n",
       " '16037',\n",
       " '16122',\n",
       " '16198',\n",
       " '16276',\n",
       " '16287',\n",
       " '16482',\n",
       " '16497',\n",
       " '16656',\n",
       " '16686',\n",
       " '16983',\n",
       " '17047',\n",
       " '17088',\n",
       " '17112',\n",
       " '17115',\n",
       " '17303',\n",
       " '17372',\n",
       " '17432',\n",
       " '17543',\n",
       " '17864',\n",
       " '17923',\n",
       " '17928',\n",
       " '18022',\n",
       " '18085',\n",
       " '18164',\n",
       " '18167',\n",
       " '18168',\n",
       " '18253',\n",
       " '18346',\n",
       " '18359',\n",
       " '18439',\n",
       " '18506',\n",
       " '18880',\n",
       " '18887',\n",
       " '18920',\n",
       " '19089',\n",
       " '19137',\n",
       " '19179',\n",
       " '19333',\n",
       " '19523',\n",
       " '19577',\n",
       " '19586',\n",
       " '19598',\n",
       " '19614',\n",
       " '19788',\n",
       " '19992',\n",
       " '20069',\n",
       " '20082',\n",
       " '20104',\n",
       " '20230',\n",
       " '20315',\n",
       " '20858',\n",
       " '20864',\n",
       " '20903',\n",
       " '20990',\n",
       " '21018',\n",
       " '21102',\n",
       " '21122',\n",
       " '21131',\n",
       " '21526',\n",
       " '21630',\n",
       " '21656',\n",
       " '21658',\n",
       " '21664',\n",
       " '21691',\n",
       " '21913',\n",
       " '21948',\n",
       " '22008',\n",
       " '22052',\n",
       " '22068',\n",
       " '22197',\n",
       " '22357',\n",
       " '22454',\n",
       " '22506',\n",
       " '22524',\n",
       " '22814',\n",
       " '22832',\n",
       " '22854',\n",
       " '22925',\n",
       " '23008',\n",
       " '23293',\n",
       " '23353',\n",
       " '23364',\n",
       " '23458',\n",
       " '23459',\n",
       " '23477',\n",
       " '23564',\n",
       " '23581',\n",
       " '23618',\n",
       " '23758',\n",
       " '23773',\n",
       " '23916',\n",
       " '23977',\n",
       " '24007',\n",
       " '24057',\n",
       " '24117',\n",
       " '24234',\n",
       " '24585',\n",
       " '24775',\n",
       " '24828',\n",
       " '24970',\n",
       " '25011',\n",
       " '25085',\n",
       " '25196',\n",
       " '25203',\n",
       " '25238',\n",
       " '25438',\n",
       " '25703',\n",
       " '25793',\n",
       " '25814',\n",
       " '25823',\n",
       " '25882',\n",
       " '25922',\n",
       " '25941',\n",
       " '25950',\n",
       " '26043',\n",
       " '26275',\n",
       " '26287',\n",
       " '26599',\n",
       " '26628',\n",
       " '26731',\n",
       " '26808',\n",
       " '26876',\n",
       " '26966',\n",
       " '27004',\n",
       " '27031',\n",
       " '27128',\n",
       " '27145',\n",
       " '27300',\n",
       " '27472',\n",
       " '27521',\n",
       " '27629',\n",
       " '27707',\n",
       " '28133',\n",
       " '28273']"
      ]
     },
     "execution_count": 49,
     "metadata": {},
     "output_type": "execute_result"
    }
   ],
   "source": [
    "induction_tis = proof_starting_with(train_data, \"induction\")\n",
    "induction_tis"
   ]
  },
  {
   "cell_type": "code",
   "execution_count": 50,
   "metadata": {},
   "outputs": [
    {
     "data": {
      "text/plain": [
       "{'url': 'https://github.com/leanprover-community/mathlib4',\n",
       " 'commit': '29dcec074de168ac2bf835a77ef68bbe069194c5',\n",
       " 'file_path': '.lake/packages/batteries/Batteries/Data/RBMap/Lemmas.lean',\n",
       " 'full_name': 'Batteries.RBNode.Stream.foldl_eq_foldl_toList',\n",
       " 'start': [209, 1],\n",
       " 'end': [210, 75],\n",
       " 'traced_tactics': [{'tactic': 'induction t generalizing init <;> simp [*, RBNode.foldl_eq_foldl_toList]',\n",
       "   'annotated_tactic': ['induction t generalizing init <;> simp [*, <a>RBNode.foldl_eq_foldl_toList</a>]',\n",
       "    [{'full_name': 'Batteries.RBNode.foldl_eq_foldl_toList',\n",
       "      'def_path': '.lake/packages/batteries/Batteries/Data/RBMap/Lemmas.lean',\n",
       "      'def_pos': [163, 9],\n",
       "      'def_end_pos': [163, 30]}]],\n",
       "   'state_before': 'α : Type u_1\\nα✝ : Type u_2\\nf : α✝ → α → α✝\\ninit : α✝\\nt : RBNode.Stream α\\n⊢ foldl f init t = List.foldl f init t.toList',\n",
       "   'state_after': 'no goals'}],\n",
       " 'entry_time': 3.5393659160472453,\n",
       " 'entry_failed': False}"
      ]
     },
     "execution_count": 50,
     "metadata": {},
     "output_type": "execute_result"
    }
   ],
   "source": [
    "train_data[induction_tis[0]]"
   ]
  },
  {
   "cell_type": "code",
   "execution_count": 51,
   "metadata": {},
   "outputs": [
    {
     "name": "stdout",
     "output_type": "stream",
     "text": [
      "102 induction' h' with b c _ hbc ih\n",
      "201 induction e\n",
      "308 induction' h with n _ ih\n",
      "868 induction s using Quot.inductionOn\n",
      "1162 induction' n with n ih\n",
      "2162 induction l using Quotient.inductionOn\n",
      "2346 induction' l with x l IH\n",
      "2428 induction' p with p\n",
      "2480 induction' n with n ih generalizing f p\n",
      "2518 induction' s using Multiset.induction with t s ih generalizing n\n",
      "2751 induction l₁ generalizing l₂ i\n",
      "2768 induction h\n",
      "2818 induction' n with n ih\n",
      "3193 induction' L with _ _ ih\n",
      "3253 induction' L with t L IH\n",
      "3484 induction' t with _ _ _ _ ih\n",
      "3869 induction' g with Y' Z' g e ih\n",
      "3906 induction' h with l' _ y l' _ hm\n",
      "4245 induction' h with n _ IH\n",
      "4295 induction' h with n _ IH\n",
      "4678 induction' i with _ _ _ i_ih\n",
      "4705 induction s using Quotient.inductionOn\n",
      "4752 induction f using RatFunc.induction_on\n",
      "5213 induction s using Quotient.inductionOn\n",
      "5351 induction' K with a J IH generalizing f\n",
      "6801 induction x using QuotientAddGroup.induction_on'\n",
      "6801 induction x using QuotientAddGroup.induction_on'\n",
      "6965 induction' l with hd tl hl\n",
      "7044 induction' s using Quotient.inductionOn with l\n",
      "7308 induction s using Quotient.inductionOn\n",
      "7413 induction' n with n IH\n",
      "7445 induction' n with n ih\n",
      "7699 induction θ using Real.Angle.induction_on\n",
      "7839 induction' h with b h b c _ hbc ih\n",
      "7961 induction' i with _ _ _ i_ih\n",
      "8050 induction' n with nn nih\n",
      "8150 induction' n with n ih\n",
      "8169 induction' t with _ n f ts ih\n",
      "8249 induction' l with a l ih\n",
      "8316 induction h with\n",
      "| zero => simp\n",
      "| cons hab hst ih => simpa using hab.add ih\n",
      "8400 induction' n with n hn\n",
      "8432 induction' k with k ih generalizing p\n",
      "8808 induction' xs with z xs IH generalizing x y\n",
      "9107 induction' o using Ordinal.induction with o IH\n",
      "9193 induction' h with a b as bs hfg _ ih\n",
      "9208 induction' t with _ _ _ _ ih\n",
      "9267 induction f using Quotient.inductionOn with | _ f => ?_\n",
      "9547 induction' z with x y\n",
      "9643 induction' l with φ l ih\n",
      "9848 induction' n with n ih\n",
      "9945 induction s using Quot.inductionOn\n",
      "10290 induction f using RatFunc.induction_on\n",
      "10318 induction n with\n",
      "| zero => exact LeftOrdContinuous.id α\n",
      "| succ n ihn => exact ihn.comp hf\n",
      "10534 induction' n with n ih\n",
      "10547 induction' k with k ih\n",
      "10735 induction' m using Quotient.inductionOn with l\n",
      "11128 induction' m using Multiset.induction_on with _ _ h\n",
      "11543 induction' ω with i ω ih\n",
      "11806 induction' ys with ys_hd _ ys_ih generalizing f\n",
      "11863 induction' s using Finset.cons_induction_on with a s ha IH\n",
      "11884 induction x\n",
      "11995 induction hbc with\n",
      "| refl => assumption\n",
      "| tail _ hcd hac => exact hac.tail hcd\n",
      "12347 induction' b with b_n b_ih\n",
      "12514 induction' p with p\n",
      "12976 induction' t with _ n f ts ih\n",
      "13148 induction a\n",
      "13251 induction' l with hd tl IH\n",
      "13260 induction s using Quotient.inductionOn\n",
      "13595 induction' n with n ih\n",
      "13789 induction' l with hd tl IH\n",
      "14017 induction s using Quotient.inductionOn\n",
      "14614 induction' h with b h b c _ bc ab\n",
      "14675 induction' n with n hn\n",
      "14901 induction' l with a l ih\n",
      "14990 induction' m using Quotient.inductionOn with l\n",
      "15229 induction' h with l' h z l' h _\n",
      "15445 induction L generalizing i\n",
      "15724 induction' n with n ih\n",
      "15851 induction' n with m m\n",
      "15896 induction hbc with\n",
      "| refl => assumption\n",
      "| tail _ hcd hac => exact hac.tail hcd\n",
      "16037 induction m\n",
      "16122 induction' s using Multiset.induction with a s ih\n",
      "16198 induction' n with k hk\n",
      "16276 induction' n with n ih\n",
      "16287 induction' n with n ih\n",
      "16482 induction' L with l L ih\n",
      "16497 induction s using Quot.inductionOn\n",
      "16656 induction' n with n ih\n",
      "16686 induction s using Quotient.inductionOn\n",
      "16983 induction' s using Finset.induction_on with a s has ih\n",
      "17088 induction' n with n _\n",
      "17112 induction' n with n IH\n",
      "17303 induction' k with k hi\n",
      "17432 induction' s using Multiset.induction with s x IH\n",
      "17543 induction' n using Nat.binaryRec' with b n h _\n",
      "17864 induction s using Quot.inductionOn\n",
      "17928 induction' k with k ih\n",
      "18085 induction' t with a n f ts ih\n",
      "18164 induction bs generalizing start a\n",
      "18168 induction' n with n ih\n",
      "18253 induction' e with x y\n",
      "18346 induction S using Multiset.induction with\n",
      "| empty => simp\n",
      "| cons _ _ ih => simp [ih]\n",
      "18359 induction' n using Nat.binaryRec' with b n h _\n",
      "18506 induction s using Quotient.inductionOn\n",
      "18887 induction l generalizing f with\n",
      "| nil => simp\n",
      "| cons _ _ IH => simp [IH]\n",
      "18920 induction' s using Quotient.inductionOn with l\n",
      "19137 induction' h_in_pi with s h_s s u _ _ _ h_s h_u\n",
      "19179 induction' l₁ with a l₁ ih generalizing l₂\n",
      "19598 induction s using Quotient.inductionOn\n",
      "19614 induction' l₁ with x l₁ IH\n",
      "19992 induction L generalizing i\n",
      "20858 induction s using Quotient.inductionOn\n",
      "20864 induction' s using Finset.induction with i s _ ih\n",
      "20903 induction' s using Quotient.inductionOn with l\n",
      "21102 induction' L with t L IH\n",
      "21131 induction' i with _ _ _ i_ih\n",
      "21526 induction ns generalizing l\n",
      "21656 induction' s using Quotient.inductionOn with l\n",
      "21664 induction L₁\n",
      "22008 induction L using List.reverseRecOn\n",
      "22052 induction' t with _ _ _ _ ih\n",
      "22197 induction z\n",
      "22506 induction' L with t L IH generalizing M N\n",
      "22524 induction z\n",
      "22814 induction' t with _ _ _ _ ih\n",
      "22832 induction as generalizing start\n",
      "22925 induction' h with a b la lb hab ih ih'\n",
      "23008 induction x\n",
      "23293 induction m using Quotient.inductionOn\n",
      "23364 induction' l with hd tl IH generalizing f\n",
      "23458 induction' l with n l' ih\n",
      "23581 induction' n with n IH\n",
      "23758 induction' k with k IH\n",
      "23916 induction' z with x y\n",
      "23977 induction' k with k ih\n",
      "24057 induction' L with _ _ ih\n",
      "24585 induction' n with n ih\n",
      "24775 induction' h with b c _ hbc ih\n",
      "24828 induction' n with n ih\n",
      "25196 induction' x using List.reverseRecOn with x a ih\n",
      "25203 induction' s using Finset.induction_on with p s _ ihp\n",
      "25238 induction h\n",
      "25793 induction s using Quotient.inductionOn\n",
      "25814 induction' s with y s IH\n",
      "25882 induction m using Quotient.inductionOn\n",
      "25950 induction' l with hd tl IH\n",
      "26275 induction' l with hd tl IH\n",
      "26599 induction s using Quotient.inductionOn\n",
      "26808 induction' hmn with n _ ih\n",
      "26966 induction x using QuotientAddGroup.induction_on'\n",
      "27004 induction' L with _ _ ih\n",
      "27128 induction a\n",
      "27300 induction l with\n",
      "| nil => simp\n",
      "| cons h t ih =>\n",
      "  simp [maximum_cons, ih]\n",
      "27472 induction' i with i hi\n",
      "27521 induction d using ManyOneDegree.ind_on\n",
      "28133 induction' n with n IH\n",
      "28273 induction S using Multiset.induction with\n",
      "| empty => simp\n",
      "| cons _ _ ih => simp [ih]\n"
     ]
    }
   ],
   "source": [
    "for key in induction_tis:\n",
    "    thm = train_data[key]\n",
    "    for tt in thm[\"traced_tactics\"]:\n",
    "        t = tt[\"tactic\"]\n",
    "        if \"induction\" in t and \"<;>\" not in t:\n",
    "            print(key, t)\n",
    "            break"
   ]
  },
  {
   "cell_type": "code",
   "execution_count": 53,
   "metadata": {},
   "outputs": [
    {
     "data": {
      "text/plain": [
       "{'url': 'https://github.com/leanprover-community/mathlib4',\n",
       " 'commit': '29dcec074de168ac2bf835a77ef68bbe069194c5',\n",
       " 'file_path': 'Mathlib/Data/Multiset/Bind.lean',\n",
       " 'full_name': 'Multiset.prod_join',\n",
       " 'start': [89, 1],\n",
       " 'end': [93, 29],\n",
       " 'traced_tactics': [{'tactic': 'induction S using Multiset.induction with\\n| empty => simp\\n| cons _ _ ih => simp [ih]',\n",
       "   'annotated_tactic': ['induction S using <a>Multiset.induction</a> with\\n  | empty => simp\\n  | cons _ _ ih => simp [ih]',\n",
       "    [{'full_name': 'Multiset.induction',\n",
       "      'def_path': 'Mathlib/Data/Multiset/Basic.lean',\n",
       "      'def_pos': [168, 19],\n",
       "      'def_end_pos': [168, 28]}]],\n",
       "   'state_before': 'α : Type u_1\\nβ : Type v\\nγ : Type u_2\\nδ : Type u_3\\ninst✝ : CommMonoid α\\nS : Multiset (Multiset α)\\n⊢ S.join.prod = (map prod S).prod',\n",
       "   'state_after': 'no goals'},\n",
       "  {'tactic': 'simp',\n",
       "   'annotated_tactic': ['simp', []],\n",
       "   'state_before': 'case empty\\nα : Type u_1\\nβ : Type v\\nγ : Type u_2\\nδ : Type u_3\\ninst✝ : CommMonoid α\\n⊢ (join 0).prod = (map prod 0).prod',\n",
       "   'state_after': 'no goals'},\n",
       "  {'tactic': 'simp [ih]',\n",
       "   'annotated_tactic': ['simp [ih]', []],\n",
       "   'state_before': 'case cons\\nα : Type u_1\\nβ : Type v\\nγ : Type u_2\\nδ : Type u_3\\ninst✝ : CommMonoid α\\na✝ : Multiset α\\ns✝ : Multiset (Multiset α)\\nih : s✝.join.prod = (map prod s✝).prod\\n⊢ (a✝ ::ₘ s✝).join.prod = (map prod (a✝ ::ₘ s✝)).prod',\n",
       "   'state_after': 'no goals'}],\n",
       " 'entry_time': 1.6457421979866922,\n",
       " 'entry_failed': False}"
      ]
     },
     "execution_count": 53,
     "metadata": {},
     "output_type": "execute_result"
    }
   ],
   "source": [
    "train_data['28273']"
   ]
  },
  {
   "cell_type": "code",
   "execution_count": 55,
   "metadata": {},
   "outputs": [],
   "source": [
    "thm = train_data['28273']"
   ]
  },
  {
   "cell_type": "code",
   "execution_count": 54,
   "metadata": {},
   "outputs": [],
   "source": [
    "from lean_dojo import Dojo, LeanGitRepo, Theorem"
   ]
  },
  {
   "cell_type": "code",
   "execution_count": 56,
   "metadata": {},
   "outputs": [],
   "source": [
    "repo = LeanGitRepo(thm[\"url\"], thm[\"commit\"])"
   ]
  },
  {
   "cell_type": "code",
   "execution_count": 57,
   "metadata": {},
   "outputs": [],
   "source": [
    "thm_obj = Theorem(repo, thm[\"file_path\"], thm[\"full_name\"])"
   ]
  },
  {
   "cell_type": "code",
   "execution_count": 58,
   "metadata": {},
   "outputs": [],
   "source": [
    "tts = thm[\"traced_tactics\"]\n",
    "tactics = [tt[\"tactic\"] for tt in tts]"
   ]
  },
  {
   "cell_type": "code",
   "execution_count": 59,
   "metadata": {},
   "outputs": [
    {
     "name": "stdout",
     "output_type": "stream",
     "text": [
      "induction S using Multiset.induction with\n",
      "| empty => simp\n",
      "| cons _ _ ih => simp [ih]\n",
      "\n",
      "simp\n",
      "\n",
      "simp [ih]\n",
      "\n"
     ]
    }
   ],
   "source": [
    "for t in tactics:\n",
    "    print(t, end='\\n\\n')"
   ]
  },
  {
   "cell_type": "code",
   "execution_count": 74,
   "metadata": {},
   "outputs": [
    {
     "name": "stdout",
     "output_type": "stream",
     "text": [
      "induction S using Multiset.induction with\n",
      "| empty => simp\n",
      "| cons _ _ ih => simp [ih]\n",
      "induction S using Multiset.induction\n",
      "with\n",
      "| empty => simp\n",
      "| cons _ _ ih => simp [ih]\n"
     ]
    }
   ],
   "source": [
    "t0 = tactics[0]\n",
    "split_with = t0.split(\"with\")\n",
    "first = split_with[0].strip()\n",
    "rest = \"with\" + split_with[1]\n",
    "print(t0)\n",
    "\n",
    "print(first)\n",
    "print(rest)"
   ]
  },
  {
   "cell_type": "code",
   "execution_count": 79,
   "metadata": {},
   "outputs": [
    {
     "name": "stdout",
     "output_type": "stream",
     "text": [
      "TacticState(pp='case empty\\nα : Type u_1\\nβ : Type v\\nγ : Type u_2\\nδ : Type u_3\\ninst✝ : CommMonoid α\\n⊢ (join 0).prod = (map prod 0).prod\\n\\ncase cons\\nα : Type u_1\\nβ : Type v\\nγ : Type u_2\\nδ : Type u_3\\ninst✝ : CommMonoid α\\na✝¹ : Multiset α\\ns✝ : Multiset (Multiset α)\\na✝ : s✝.join.prod = (map prod s✝).prod\\n⊢ (a✝¹ ::ₘ s✝).join.prod = (map prod (a✝¹ ::ₘ s✝)).prod', id=1, message='')\n",
      "TacticState(pp='case cons\\nα : Type u_1\\nβ : Type v\\nγ : Type u_2\\nδ : Type u_3\\ninst✝ : CommMonoid α\\na✝¹ : Multiset α\\ns✝ : Multiset (Multiset α)\\na✝ : s✝.join.prod = (map prod s✝).prod\\n⊢ (a✝¹ ::ₘ s✝).join.prod = (map prod (a✝¹ ::ₘ s✝)).prod', id=2, message='')\n"
     ]
    }
   ],
   "source": [
    "with Dojo(thm_obj) as (dojo, initial_state):\n",
    "    state = initial_state\n",
    "    res0 = dojo.run_tac(state, first)\n",
    "    print(res0)\n",
    "    res1 = dojo.run_tac(res0, \"case empty => simp\")\n",
    "    print(res1)\n",
    "    "
   ]
  },
  {
   "cell_type": "code",
   "execution_count": 76,
   "metadata": {},
   "outputs": [
    {
     "data": {
      "text/plain": [
       "LeanError(error='<stdin>:1:0: expected tactic')"
      ]
     },
     "execution_count": 76,
     "metadata": {},
     "output_type": "execute_result"
    }
   ],
   "source": [
    "res1"
   ]
  },
  {
   "cell_type": "code",
   "execution_count": 80,
   "metadata": {},
   "outputs": [],
   "source": [
    "from collections import Counter, defaultdict"
   ]
  },
  {
   "cell_type": "code",
   "execution_count": 82,
   "metadata": {},
   "outputs": [],
   "source": [
    "findings = {\n",
    "    \"newline\": [], \n",
    "    \"newline_and_with\": [], \n",
    "    \"newline_no_with\": [],\n",
    "}\n",
    "total_tactics = 0\n",
    "for thm_idx, thm_info in train_data.items():\n",
    "    for entry in thm_info[\"traced_tactics\"]:\n",
    "        total_tactics += 1\n",
    "        tactic = entry[\"tactic\"]\n",
    "        if \"\\n\" in tactic:\n",
    "            findings[\"newline\"].append(thm_idx)\n",
    "            if \"with\" in tactic:\n",
    "                findings[\"newline_and_with\"].append(thm_idx)\n",
    "            else:\n",
    "                findings[\"newline_no_with\"].append(thm_idx)"
   ]
  },
  {
   "cell_type": "code",
   "execution_count": 87,
   "metadata": {},
   "outputs": [
    {
     "data": {
      "text/plain": [
       "12092"
      ]
     },
     "execution_count": 87,
     "metadata": {},
     "output_type": "execute_result"
    }
   ],
   "source": [
    "len(train_data)"
   ]
  },
  {
   "cell_type": "code",
   "execution_count": 88,
   "metadata": {},
   "outputs": [
    {
     "name": "stdout",
     "output_type": "stream",
     "text": [
      "19366\n",
      "newline 52\n",
      "newline_and_with 17\n",
      "newline_no_with 35\n"
     ]
    }
   ],
   "source": [
    "print(total_tactics)\n",
    "for k, v in findings.items():\n",
    "    print(k, len(v))"
   ]
  },
  {
   "cell_type": "code",
   "execution_count": 89,
   "metadata": {},
   "outputs": [
    {
     "name": "stdout",
     "output_type": "stream",
     "text": [
      "1080 classical\n",
      "rw [← toWithTop_lt, toWithTop_ofENat, toWithTop_ofENat]\n",
      "1875 classical\n",
      "  ext\n",
      "  simp\n",
      "2914 calc\n",
      "  f x ≤ ⊥ := h h₁ h₂\n",
      "  _ ≤ f ⊥ := bot_le\n",
      "3626 exact filter_congr fun _ _ => by\n",
      "  simpa using Nat.lt_succ_iff.symm\n",
      "3988 classical\n",
      "ext\n",
      "simp [single_apply, Set.indicator, @eq_comm _ a]\n",
      "4335 classical\n",
      "funext x\n",
      "simp [Function.extend_def, apply_dite₂]\n",
      "4729 classical\n",
      "  by_contra h\n",
      "  exact w (isIso_of_mono_of_nonzero h)\n",
      "4874 cases ax <;>\n",
      "simp [Sentence.Realize, Formula.Realize, Fin.snoc]\n",
      "5636 classical\n",
      "simpa only [exists_prop, Finset.mem_image] using vars_rename f φ h\n",
      "6290 classical\n",
      "exact restrict_dite _ _\n",
      "6313 classical\n",
      "rw [← toWithTop_le, toWithTop_ofENat, toWithTop_ofENat]\n",
      "6425 classical\n",
      "ext s\n",
      "rw [count_roots, rootMultiplicity_X_sub_C, count_singleton]\n",
      "7736 cases p <;>\n",
      "simp [smul_pow, smul_inv]\n",
      "8027 classical\n",
      "  ext\n",
      "  simp\n",
      "12799 classical\n",
      "exact Decidable.List.Lex.ne_iff H\n",
      "12986 induction x <;> induction y  <;>\n",
      "  try { rfl }\n",
      "13680 classical\n",
      "  by_contra h\n",
      "  exact w (isIso_of_epi_of_nonzero h)\n",
      "13727 classical\n",
      "rw [order_monomial, if_neg h]\n",
      "15908 classical\n",
      "ext j\n",
      "simp [single_apply, indicator_apply, @eq_comm _ j]\n",
      "16367 conv_lhs =>\n",
      "  congr; rw [← sub_self a]\n",
      "16931 classical\n",
      "simp_rw [@eq_comm _ a a']\n",
      "convert Pi.single_apply a b a'\n",
      "18066 classical\n",
      "simpa only [h.2.card_verts] using IsMatching.even_card h.1\n",
      "18174 conv =>\n",
      "  lhs\n",
      "  rw [xgcdAux]\n",
      "18337 conv =>\n",
      "  lhs\n",
      "  rw [binaryRec]\n",
      "  simp [h]\n",
      "19153 classical\n",
      "apply nonempty_sections_of_finite_inverse_system G.componentComplFunctor\n",
      "19789 classical\n",
      "dsimp [update]; congr <;> apply Subsingleton.elim\n",
      "20690 classical\n",
      "  convert Fintype.card_congr (subtypeOrEquiv p q h)\n",
      "  simp\n",
      "20976 classical\n",
      "simp [truncFun, MvPolynomial.coeff_sum]\n",
      "21639 classical\n",
      "  rw [mulIndicator_one', preimage_one]\n",
      "  split_ifs <;> simp\n",
      "24001 convert (@mono_cast α _).imp (?_ : 1 ≤ n + 1)\n",
      "<;> simp\n",
      "24914 classical\n",
      "  rw [mulIndicator_const_preimage_eq_union]\n",
      "  split_ifs <;> simp\n",
      "27278 classical\n",
      "  exact (supDegree_single s a).trans (if_neg ha)\n",
      "27659 classical\n",
      "simp_rw [degrees_def]\n",
      "exact supDegree_mul_le (map_add _)\n",
      "27835 classical\n",
      "rw [cutExpand_iff]\n",
      "rintro ⟨_, _, _, ⟨⟩, _⟩\n",
      "27915 classical\n",
      "rw [← count_pos, count_roots p, rootMultiplicity_pos']\n"
     ]
    }
   ],
   "source": [
    "for thm_idx in findings[\"newline_no_with\"]:\n",
    "    thm_info = train_data[thm_idx]\n",
    "    for entry in thm_info[\"traced_tactics\"]:\n",
    "        tactic = entry[\"tactic\"]\n",
    "        if \"\\n\" in tactic:\n",
    "            print(thm_idx, tactic)"
   ]
  },
  {
   "cell_type": "code",
   "execution_count": 92,
   "metadata": {},
   "outputs": [
    {
     "data": {
      "text/plain": [
       "{'url': 'https://github.com/leanprover-community/mathlib4',\n",
       " 'commit': '29dcec074de168ac2bf835a77ef68bbe069194c5',\n",
       " 'file_path': 'Mathlib/Data/Nat/PartENat.lean',\n",
       " 'full_name': 'PartENat.ofENat_lt',\n",
       " 'start': [721, 1],\n",
       " 'end': [723, 58],\n",
       " 'traced_tactics': [{'tactic': 'classical\\nrw [← toWithTop_lt, toWithTop_ofENat, toWithTop_ofENat]',\n",
       "   'annotated_tactic': ['classical\\n  rw [← <a>toWithTop_lt</a>, <a>toWithTop_ofENat</a>, <a>toWithTop_ofENat</a>]',\n",
       "    [{'full_name': 'PartENat.toWithTop_lt',\n",
       "      'def_path': 'Mathlib/Data/Nat/PartENat.lean',\n",
       "      'def_pos': [668, 9],\n",
       "      'def_end_pos': [668, 21]},\n",
       "     {'full_name': 'PartENat.toWithTop_ofENat',\n",
       "      'def_path': 'Mathlib/Data/Nat/PartENat.lean',\n",
       "      'def_pos': [706, 9],\n",
       "      'def_end_pos': [706, 25]},\n",
       "     {'full_name': 'PartENat.toWithTop_ofENat',\n",
       "      'def_path': 'Mathlib/Data/Nat/PartENat.lean',\n",
       "      'def_pos': [706, 9],\n",
       "      'def_end_pos': [706, 25]}]],\n",
       "   'state_before': 'x y : ℕ∞\\n⊢ ↑x < ↑y ↔ x < y',\n",
       "   'state_after': 'no goals'},\n",
       "  {'tactic': 'rw [← toWithTop_lt, toWithTop_ofENat, toWithTop_ofENat]',\n",
       "   'annotated_tactic': ['rw [← <a>toWithTop_lt</a>, <a>toWithTop_ofENat</a>, <a>toWithTop_ofENat</a>]',\n",
       "    [{'full_name': 'PartENat.toWithTop_lt',\n",
       "      'def_path': 'Mathlib/Data/Nat/PartENat.lean',\n",
       "      'def_pos': [668, 9],\n",
       "      'def_end_pos': [668, 21]},\n",
       "     {'full_name': 'PartENat.toWithTop_ofENat',\n",
       "      'def_path': 'Mathlib/Data/Nat/PartENat.lean',\n",
       "      'def_pos': [706, 9],\n",
       "      'def_end_pos': [706, 25]},\n",
       "     {'full_name': 'PartENat.toWithTop_ofENat',\n",
       "      'def_path': 'Mathlib/Data/Nat/PartENat.lean',\n",
       "      'def_pos': [706, 9],\n",
       "      'def_end_pos': [706, 25]}]],\n",
       "   'state_before': 'x y : ℕ∞\\n⊢ ↑x < ↑y ↔ x < y',\n",
       "   'state_after': 'no goals'}],\n",
       " 'entry_time': 4.791228589019738,\n",
       " 'entry_failed': False}"
      ]
     },
     "execution_count": 92,
     "metadata": {},
     "output_type": "execute_result"
    }
   ],
   "source": [
    "train_data['1080']"
   ]
  }
 ],
 "metadata": {
  "kernelspec": {
   "display_name": "gfn",
   "language": "python",
   "name": "python3"
  },
  "language_info": {
   "codemirror_mode": {
    "name": "ipython",
    "version": 3
   },
   "file_extension": ".py",
   "mimetype": "text/x-python",
   "name": "python",
   "nbconvert_exporter": "python",
   "pygments_lexer": "ipython3",
   "version": "3.10.14"
  }
 },
 "nbformat": 4,
 "nbformat_minor": 2
}
