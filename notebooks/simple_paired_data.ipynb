{
 "cells": [
  {
   "cell_type": "markdown",
   "metadata": {},
   "source": [
    "# Naive Paired Verifier Data Collection\n",
    "One simple way of getting negatives is by shuffling the dataset (mixing answers from other inputs to this one).\n",
    "We are also trying to gather multiple positives and realistic negatives by sampling from SOTA systems (one prong is in [this repo](https://github.com/matt-seb-ho/reprover_hf)).\n",
    "However given my compute woes, here is a simple baseline for the time being."
   ]
  },
  {
   "cell_type": "code",
   "execution_count": 4,
   "metadata": {},
   "outputs": [],
   "source": [
    "import json\n",
    "import random\n",
    "from time import perf_counter\n",
    "from tqdm import tqdm\n",
    "# preprocessing script lives in src directory\n",
    "import sys\n",
    "sys.path.append(\"../src\")"
   ]
  },
  {
   "cell_type": "code",
   "execution_count": 5,
   "metadata": {},
   "outputs": [],
   "source": [
    "# preprocessing depends on lean_dojo which has a newer git requirement\n",
    "import os\n",
    "path_with_updated_git_binary = \"/home/msho/.personalbin/bin\"  \n",
    "os.environ[\"PATH\"] = path_with_updated_git_binary + os.pathsep + os.environ[\"PATH\"]"
   ]
  },
  {
   "cell_type": "code",
   "execution_count": 3,
   "metadata": {},
   "outputs": [
    {
     "name": "stderr",
     "output_type": "stream",
     "text": [
      "/mnt/hdd/msho/miniconda3/envs/gfn/lib/python3.10/site-packages/tqdm/auto.py:21: TqdmWarning: IProgress not found. Please update jupyter and ipywidgets. See https://ipywidgets.readthedocs.io/en/stable/user_install.html\n",
      "  from .autonotebook import tqdm as notebook_tqdm\n",
      "2024-03-06 23:28:38,371\tINFO util.py:154 -- Missing packages: ['ipywidgets']. Run `pip install -U ipywidgets`, then restart the notebook server for rich notebook output.\n"
     ]
    },
    {
     "name": "stdout",
     "output_type": "stream",
     "text": [
      "[2024-03-06 23:28:40,833] [INFO] [real_accelerator.py:191:get_accelerator] Setting ds_accelerator to cuda (auto detect)\n"
     ]
    },
    {
     "name": "stderr",
     "output_type": "stream",
     "text": [
      "/mnt/hdd/msho/miniconda3/envs/gfn/lib/python3.10/site-packages/torch/cuda/__init__.py:546: UserWarning: Can't initialize NVML\n",
      "  warnings.warn(\"Can't initialize NVML\")\n",
      "/mnt/hdd/msho/miniconda3/envs/gfn/lib/python3.10/site-packages/torch/cuda/__init__.py:651: UserWarning: CUDA initialization: CUDA driver initialization failed, you might not have a CUDA gpu. (Triggered internally at ../c10/cuda/CUDAFunctions.cpp:109.)\n",
      "  return torch._C._cuda_getDeviceCount() if nvml_count < 0 else nvml_count\n"
     ]
    }
   ],
   "source": [
    "from prep_sft_data import preprocess_data\n",
    "from utils import prepend_repo_root, _pp"
   ]
  },
  {
   "cell_type": "code",
   "execution_count": 6,
   "metadata": {},
   "outputs": [
    {
     "name": "stderr",
     "output_type": "stream",
     "text": [
      "100%|██████████| 2000/2000 [00:00<00:00, 38094.89it/s]\n",
      "\u001b[32m2024-03-06 23:42:11.334\u001b[0m | \u001b[1mINFO    \u001b[0m | \u001b[36mprep_sft_data\u001b[0m:\u001b[36mpreprocess_data\u001b[0m:\u001b[36m52\u001b[0m - \u001b[1m4641 examples loaded\u001b[0m\n"
     ]
    }
   ],
   "source": [
    "# RANDOM_TRAIN_DATA_PATH = prepend_repo_root(\"data/leandojo_benchmark_4/random/train.json\")\n",
    "RANDOM_VAL_DATA_PATH = prepend_repo_root(\"data/leandojo_benchmark_4/random/val.json\")\n",
    "# NOVELP_TRAIN_DATA_PATH = prepend_repo_root(\"data/leandojo_benchmark_4/novel_premises/train.json\")\n",
    "# thm_data = preprocess_data(RANDOM_TRAIN_DATA_PATH, True, False)\n",
    "thm_data = preprocess_data(RANDOM_VAL_DATA_PATH, True, False)"
   ]
  },
  {
   "cell_type": "code",
   "execution_count": 7,
   "metadata": {},
   "outputs": [],
   "source": [
    "def add_random_negatives(data, output_file=None, max_iters=1000, seed=42):\n",
    "    random.seed(seed)\n",
    "    pairs = []\n",
    "    for entry in tqdm(data, total=len(data)):\n",
    "        positive = entry[\"tactic\"]\n",
    "        negative = None\n",
    "        for _ in range(max_iters):\n",
    "            candidate = random.choice(data)[\"tactic\"]\n",
    "            if candidate != positive:\n",
    "                negative = candidate\n",
    "                break\n",
    "        if negative is None:\n",
    "            continue\n",
    "        pairs.append({\n",
    "            \"state\": entry[\"state\"],\n",
    "            \"positive\": positive,\n",
    "            \"negative\": negative\n",
    "        })\n",
    "\n",
    "    if output_file:\n",
    "        with open(output_file, 'w') as f:\n",
    "            output = {\"seed\": seed, \"pairs\": pairs}\n",
    "            json.dump(output, f)\n",
    "            print(f\"Wrote paired data to: {output_file}\")\n",
    "    \n",
    "    return pairs"
   ]
  },
  {
   "cell_type": "code",
   "execution_count": 8,
   "metadata": {},
   "outputs": [
    {
     "name": "stderr",
     "output_type": "stream",
     "text": [
      "100%|██████████| 4641/4641 [00:00<00:00, 351856.64it/s]"
     ]
    },
    {
     "name": "stdout",
     "output_type": "stream",
     "text": [
      "Wrote paired data to: /mnt/hdd/msho/gfn_ntp/data/paired_random_val.json\n"
     ]
    },
    {
     "name": "stderr",
     "output_type": "stream",
     "text": [
      "\n"
     ]
    }
   ],
   "source": [
    "pairs = add_random_negatives(\n",
    "    thm_data,\n",
    "    output_file=prepend_repo_root(\"data/paired_random_val.json\")\n",
    ")"
   ]
  },
  {
   "cell_type": "code",
   "execution_count": 21,
   "metadata": {},
   "outputs": [],
   "source": [
    "dummy = random.choice(pairs)"
   ]
  },
  {
   "cell_type": "code",
   "execution_count": 22,
   "metadata": {},
   "outputs": [
    {
     "name": "stdout",
     "output_type": "stream",
     "text": [
      "case refl\n",
      "l : List Char\n",
      "c : Char\n",
      "r : List Char\n",
      "h : ValidFor l (c :: r) { s := { data := List.reverse l ++ c :: r }, i := { byteIdx := utf8Len (List.reverse l) } }\n",
      "⊢ ValidFor (c :: l) r { s := { data := List.reverseAux l (c :: r) }, i := { byteIdx := utf8Len l + csize c } }\n"
     ]
    }
   ],
   "source": [
    "print(dummy[\"state\"])"
   ]
  },
  {
   "cell_type": "code",
   "execution_count": 25,
   "metadata": {},
   "outputs": [
    {
     "name": "stdout",
     "output_type": "stream",
     "text": [
      "constructor\n"
     ]
    }
   ],
   "source": [
    "print(dummy[\"positive\"])"
   ]
  },
  {
   "cell_type": "code",
   "execution_count": 26,
   "metadata": {},
   "outputs": [
    {
     "name": "stdout",
     "output_type": "stream",
     "text": [
      "have h2_meas : MeasureTheory.AEStronglyMeasurable (fun y : G => ∫ x : G, ‖L (f y) (g (x - y))‖ ∂μ) ν := h_meas.prod_swap.norm.integral_prod_right'\n"
     ]
    }
   ],
   "source": [
    "print(dummy[\"negative\"])"
   ]
  }
 ],
 "metadata": {
  "kernelspec": {
   "display_name": "nlp",
   "language": "python",
   "name": "python3"
  },
  "language_info": {
   "codemirror_mode": {
    "name": "ipython",
    "version": 3
   },
   "file_extension": ".py",
   "mimetype": "text/x-python",
   "name": "python",
   "nbconvert_exporter": "python",
   "pygments_lexer": "ipython3",
   "version": "3.10.13"
  }
 },
 "nbformat": 4,
 "nbformat_minor": 2
}
