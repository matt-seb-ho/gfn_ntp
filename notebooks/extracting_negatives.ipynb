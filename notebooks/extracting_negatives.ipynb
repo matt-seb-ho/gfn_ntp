{
 "cells": [
  {
   "cell_type": "markdown",
   "metadata": {},
   "source": [
    "## Parsing Paired Negatives Sampled"
   ]
  },
  {
   "cell_type": "code",
   "execution_count": 5,
   "metadata": {},
   "outputs": [],
   "source": [
    "import json\n",
    "import pickle\n",
    "import os\n",
    "import sys\n",
    "from icecream import ic"
   ]
  },
  {
   "cell_type": "code",
   "execution_count": 6,
   "metadata": {},
   "outputs": [
    {
     "name": "stdout",
     "output_type": "stream",
     "text": [
      "60\n"
     ]
    }
   ],
   "source": [
    "reprover_package_path = \"/mnt/hdd/msho/reprover_hf\"\n",
    "serialized_tree_directory = \"/mnt/hdd/msho/reprover_hf/outputs/pickle_jar3/\"\n",
    "print(len(os.listdir(serialized_tree_directory)))"
   ]
  },
  {
   "cell_type": "code",
   "execution_count": 7,
   "metadata": {},
   "outputs": [],
   "source": [
    "# need to first make the class definitions available before deserializing\n",
    "sys.path.append(reprover_package_path)"
   ]
  },
  {
   "cell_type": "code",
   "execution_count": 8,
   "metadata": {},
   "outputs": [],
   "source": [
    "# prepare to import from ReProver\n",
    "BACKUP_PATH_VAR = \"MSHO_BACKUP_PATH\"\n",
    "def _prep_path_for_import_dependencies(bin_paths):\n",
    "    if BACKUP_PATH_VAR in os.environ:\n",
    "        os.environ[\"PATH\"] = os.environ[BACKUP_PATH_VAR]\n",
    "    original_path_var = os.environ['PATH']\n",
    "    os.environ[BACKUP_PATH_VAR] = original_path_var\n",
    "    os.environ[\"PATH\"] = (\n",
    "        os.pathsep.join(bin_paths)\n",
    "        + os.pathsep\n",
    "        + original_path_var\n",
    "    )\n",
    "    print(f\"original $PATH: {original_path_var}\")\n",
    "    print(f\"updated  $PATH: {os.environ['PATH']}\")"
   ]
  },
  {
   "cell_type": "code",
   "execution_count": 9,
   "metadata": {},
   "outputs": [
    {
     "name": "stdout",
     "output_type": "stream",
     "text": [
      "original $PATH: /mnt/hdd/msho/miniconda3/envs/gfn/bin:/mnt/hdd/msho/miniconda3/condabin:/home/msho/.vscode-server/bin/8b3775030ed1a69b13e4f4c628c612102e30a681/bin/remote-cli:/usr/local/sbin:/usr/local/bin:/usr/sbin:/usr/bin:/sbin:/bin:/usr/games:/usr/local/games:/snap/bin\n",
      "updated  $PATH: /home/msho/.personalbin/bin:/mnt/hdd/msho/miniconda3/envs/gfn/bin:/mnt/hdd/msho/miniconda3/condabin:/home/msho/.vscode-server/bin/8b3775030ed1a69b13e4f4c628c612102e30a681/bin/remote-cli:/usr/local/sbin:/usr/local/bin:/usr/sbin:/usr/bin:/sbin:/bin:/usr/games:/usr/local/games:/snap/bin\n"
     ]
    }
   ],
   "source": [
    "bin_paths_with_reprover_dependencies = [\n",
    "    \"/home/msho/.personalbin/bin\",\n",
    "]\n",
    "_prep_path_for_import_dependencies(bin_paths_with_reprover_dependencies)"
   ]
  },
  {
   "cell_type": "code",
   "execution_count": 10,
   "metadata": {},
   "outputs": [
    {
     "name": "stderr",
     "output_type": "stream",
     "text": [
      "/mnt/hdd/msho/miniconda3/envs/gfn/lib/python3.10/site-packages/tqdm/auto.py:21: TqdmWarning: IProgress not found. Please update jupyter and ipywidgets. See https://ipywidgets.readthedocs.io/en/stable/user_install.html\n",
      "  from .autonotebook import tqdm as notebook_tqdm\n",
      "2024-03-14 11:11:28,958\tINFO util.py:154 -- Missing packages: ['ipywidgets']. Run `pip install -U ipywidgets`, then restart the notebook server for rich notebook output.\n"
     ]
    }
   ],
   "source": [
    "from prover.search_tree import (\n",
    "    Status,\n",
    "    Node,\n",
    "    ProofFinishedNode,\n",
    "    ErrorNode,\n",
    "    InternalNode,\n",
    "    Edge,\n",
    ")"
   ]
  },
  {
   "cell_type": "code",
   "execution_count": 11,
   "metadata": {},
   "outputs": [],
   "source": [
    "dummy_tree_file = os.path.join(\n",
    "    serialized_tree_directory,\n",
    "    os.listdir(serialized_tree_directory)[0]\n",
    ")\n",
    "with open(dummy_tree_file, \"rb\") as f:\n",
    "    dummy_tree = pickle.load(f)"
   ]
  },
  {
   "cell_type": "code",
   "execution_count": 12,
   "metadata": {},
   "outputs": [
    {
     "data": {
      "text/plain": [
       "InternalNode(state=TacticState(pp='α : Type u_1\\nβ : Type u_2\\nγ : Type u_3\\no : Part α\\nh : o.Dom\\n⊢ get o h ∈ o', id=0, message=None), _status=<Status.PROVED: 'Proved'>)"
      ]
     },
     "execution_count": 12,
     "metadata": {},
     "output_type": "execute_result"
    }
   ],
   "source": [
    "dummy_tree"
   ]
  },
  {
   "cell_type": "code",
   "execution_count": null,
   "metadata": {},
   "outputs": [],
   "source": []
  },
  {
   "cell_type": "code",
   "execution_count": null,
   "metadata": {},
   "outputs": [],
   "source": [
    "# for tree_file in os.listdir(serialized_tree_directory):"
   ]
  },
  {
   "cell_type": "code",
   "execution_count": null,
   "metadata": {},
   "outputs": [],
   "source": []
  }
 ],
 "metadata": {
  "kernelspec": {
   "display_name": "gfn",
   "language": "python",
   "name": "python3"
  },
  "language_info": {
   "codemirror_mode": {
    "name": "ipython",
    "version": 3
   },
   "file_extension": ".py",
   "mimetype": "text/x-python",
   "name": "python",
   "nbconvert_exporter": "python",
   "pygments_lexer": "ipython3",
   "version": "3.10.13"
  }
 },
 "nbformat": 4,
 "nbformat_minor": 2
}
